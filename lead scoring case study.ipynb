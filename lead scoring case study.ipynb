{
 "cells": [
  {
   "cell_type": "markdown",
   "metadata": {},
   "source": [
    "# Lead Score Case Study"
   ]
  },
  {
   "cell_type": "markdown",
   "metadata": {},
   "source": [
    "## Problem Statement:\n",
    " - X Education wants to select most promising leads that can be converted to paying customers. Although the company generates a lot of leads only a few are converted into paying customers, wherein the company wants a higher lead conversion. Leads come through numerous modes like email, advertisements on websites, google searches etc. The companys has had 30% conversion rate.  \n",
    " \n",
    "\n",
    "\n",
    "## Objective:\n",
    " - The company requires a model to be built for selcting most promising leads. Lead score to be given to each leads such that it indicates how promising the lead could be. The model to be built in lead conversion rate around 80% or more.\n",
    "\n"
   ]
  },
  {
   "cell_type": "code",
   "execution_count": 1,
   "metadata": {},
   "outputs": [],
   "source": [
    "# importing libraries\n",
    "\n",
    "\n",
    "import warnings\n",
    "warnings.filterwarnings('ignore')\n",
    "\n",
    "import numpy as np \n",
    "import pandas as pd\n",
    "import seaborn as sns\n",
    "import matplotlib.pyplot as plt\n",
    "\n",
    "from sklearn.model_selection import train_test_split\n",
    "from sklearn.preprocessing import MinMaxScaler\n",
    "from sklearn.linear_model import LogisticRegression\n",
    "from sklearn.feature_selection import RFE\n",
    "import statsmodels.api as sm\n",
    "from statsmodels.stats.outliers_influence import variance_inflation_factor\n",
    "\n",
    "from sklearn import metrics\n",
    "from sklearn.metrics import confusion_matrix\n",
    "\n",
    "from sklearn.metrics import precision_score, recall_score\n",
    "from sklearn.metrics import precision_recall_curve"
   ]
  },
  {
   "cell_type": "markdown",
   "metadata": {},
   "source": [
    "### 1. Data import   "
   ]
  },
  {
   "cell_type": "code",
   "execution_count": 2,
   "metadata": {},
   "outputs": [],
   "source": [
    "# impporting csv file\n",
    "lead = pd.read_csv(\"Leads.csv\")"
   ]
  },
  {
   "cell_type": "code",
   "execution_count": 3,
   "metadata": {},
   "outputs": [
    {
     "data": {
      "text/html": [
       "<div>\n",
       "<style scoped>\n",
       "    .dataframe tbody tr th:only-of-type {\n",
       "        vertical-align: middle;\n",
       "    }\n",
       "\n",
       "    .dataframe tbody tr th {\n",
       "        vertical-align: top;\n",
       "    }\n",
       "\n",
       "    .dataframe thead th {\n",
       "        text-align: right;\n",
       "    }\n",
       "</style>\n",
       "<table border=\"1\" class=\"dataframe\">\n",
       "  <thead>\n",
       "    <tr style=\"text-align: right;\">\n",
       "      <th></th>\n",
       "      <th>Prospect ID</th>\n",
       "      <th>Lead Number</th>\n",
       "      <th>Lead Origin</th>\n",
       "      <th>Lead Source</th>\n",
       "      <th>Do Not Email</th>\n",
       "      <th>Do Not Call</th>\n",
       "      <th>Converted</th>\n",
       "      <th>TotalVisits</th>\n",
       "      <th>Total Time Spent on Website</th>\n",
       "      <th>Page Views Per Visit</th>\n",
       "      <th>...</th>\n",
       "      <th>Get updates on DM Content</th>\n",
       "      <th>Lead Profile</th>\n",
       "      <th>City</th>\n",
       "      <th>Asymmetrique Activity Index</th>\n",
       "      <th>Asymmetrique Profile Index</th>\n",
       "      <th>Asymmetrique Activity Score</th>\n",
       "      <th>Asymmetrique Profile Score</th>\n",
       "      <th>I agree to pay the amount through cheque</th>\n",
       "      <th>A free copy of Mastering The Interview</th>\n",
       "      <th>Last Notable Activity</th>\n",
       "    </tr>\n",
       "  </thead>\n",
       "  <tbody>\n",
       "    <tr>\n",
       "      <th>0</th>\n",
       "      <td>7927b2df-8bba-4d29-b9a2-b6e0beafe620</td>\n",
       "      <td>660737</td>\n",
       "      <td>API</td>\n",
       "      <td>Olark Chat</td>\n",
       "      <td>No</td>\n",
       "      <td>No</td>\n",
       "      <td>0</td>\n",
       "      <td>0.0</td>\n",
       "      <td>0</td>\n",
       "      <td>0.0</td>\n",
       "      <td>...</td>\n",
       "      <td>No</td>\n",
       "      <td>Select</td>\n",
       "      <td>Select</td>\n",
       "      <td>02.Medium</td>\n",
       "      <td>02.Medium</td>\n",
       "      <td>15.0</td>\n",
       "      <td>15.0</td>\n",
       "      <td>No</td>\n",
       "      <td>No</td>\n",
       "      <td>Modified</td>\n",
       "    </tr>\n",
       "    <tr>\n",
       "      <th>1</th>\n",
       "      <td>2a272436-5132-4136-86fa-dcc88c88f482</td>\n",
       "      <td>660728</td>\n",
       "      <td>API</td>\n",
       "      <td>Organic Search</td>\n",
       "      <td>No</td>\n",
       "      <td>No</td>\n",
       "      <td>0</td>\n",
       "      <td>5.0</td>\n",
       "      <td>674</td>\n",
       "      <td>2.5</td>\n",
       "      <td>...</td>\n",
       "      <td>No</td>\n",
       "      <td>Select</td>\n",
       "      <td>Select</td>\n",
       "      <td>02.Medium</td>\n",
       "      <td>02.Medium</td>\n",
       "      <td>15.0</td>\n",
       "      <td>15.0</td>\n",
       "      <td>No</td>\n",
       "      <td>No</td>\n",
       "      <td>Email Opened</td>\n",
       "    </tr>\n",
       "    <tr>\n",
       "      <th>2</th>\n",
       "      <td>8cc8c611-a219-4f35-ad23-fdfd2656bd8a</td>\n",
       "      <td>660727</td>\n",
       "      <td>Landing Page Submission</td>\n",
       "      <td>Direct Traffic</td>\n",
       "      <td>No</td>\n",
       "      <td>No</td>\n",
       "      <td>1</td>\n",
       "      <td>2.0</td>\n",
       "      <td>1532</td>\n",
       "      <td>2.0</td>\n",
       "      <td>...</td>\n",
       "      <td>No</td>\n",
       "      <td>Potential Lead</td>\n",
       "      <td>Mumbai</td>\n",
       "      <td>02.Medium</td>\n",
       "      <td>01.High</td>\n",
       "      <td>14.0</td>\n",
       "      <td>20.0</td>\n",
       "      <td>No</td>\n",
       "      <td>Yes</td>\n",
       "      <td>Email Opened</td>\n",
       "    </tr>\n",
       "    <tr>\n",
       "      <th>3</th>\n",
       "      <td>0cc2df48-7cf4-4e39-9de9-19797f9b38cc</td>\n",
       "      <td>660719</td>\n",
       "      <td>Landing Page Submission</td>\n",
       "      <td>Direct Traffic</td>\n",
       "      <td>No</td>\n",
       "      <td>No</td>\n",
       "      <td>0</td>\n",
       "      <td>1.0</td>\n",
       "      <td>305</td>\n",
       "      <td>1.0</td>\n",
       "      <td>...</td>\n",
       "      <td>No</td>\n",
       "      <td>Select</td>\n",
       "      <td>Mumbai</td>\n",
       "      <td>02.Medium</td>\n",
       "      <td>01.High</td>\n",
       "      <td>13.0</td>\n",
       "      <td>17.0</td>\n",
       "      <td>No</td>\n",
       "      <td>No</td>\n",
       "      <td>Modified</td>\n",
       "    </tr>\n",
       "    <tr>\n",
       "      <th>4</th>\n",
       "      <td>3256f628-e534-4826-9d63-4a8b88782852</td>\n",
       "      <td>660681</td>\n",
       "      <td>Landing Page Submission</td>\n",
       "      <td>Google</td>\n",
       "      <td>No</td>\n",
       "      <td>No</td>\n",
       "      <td>1</td>\n",
       "      <td>2.0</td>\n",
       "      <td>1428</td>\n",
       "      <td>1.0</td>\n",
       "      <td>...</td>\n",
       "      <td>No</td>\n",
       "      <td>Select</td>\n",
       "      <td>Mumbai</td>\n",
       "      <td>02.Medium</td>\n",
       "      <td>01.High</td>\n",
       "      <td>15.0</td>\n",
       "      <td>18.0</td>\n",
       "      <td>No</td>\n",
       "      <td>No</td>\n",
       "      <td>Modified</td>\n",
       "    </tr>\n",
       "  </tbody>\n",
       "</table>\n",
       "<p>5 rows × 37 columns</p>\n",
       "</div>"
      ],
      "text/plain": [
       "                            Prospect ID  Lead Number              Lead Origin  \\\n",
       "0  7927b2df-8bba-4d29-b9a2-b6e0beafe620       660737                      API   \n",
       "1  2a272436-5132-4136-86fa-dcc88c88f482       660728                      API   \n",
       "2  8cc8c611-a219-4f35-ad23-fdfd2656bd8a       660727  Landing Page Submission   \n",
       "3  0cc2df48-7cf4-4e39-9de9-19797f9b38cc       660719  Landing Page Submission   \n",
       "4  3256f628-e534-4826-9d63-4a8b88782852       660681  Landing Page Submission   \n",
       "\n",
       "      Lead Source Do Not Email Do Not Call  Converted  TotalVisits  \\\n",
       "0      Olark Chat           No          No          0          0.0   \n",
       "1  Organic Search           No          No          0          5.0   \n",
       "2  Direct Traffic           No          No          1          2.0   \n",
       "3  Direct Traffic           No          No          0          1.0   \n",
       "4          Google           No          No          1          2.0   \n",
       "\n",
       "   Total Time Spent on Website  Page Views Per Visit  ...  \\\n",
       "0                            0                   0.0  ...   \n",
       "1                          674                   2.5  ...   \n",
       "2                         1532                   2.0  ...   \n",
       "3                          305                   1.0  ...   \n",
       "4                         1428                   1.0  ...   \n",
       "\n",
       "  Get updates on DM Content    Lead Profile    City  \\\n",
       "0                        No          Select  Select   \n",
       "1                        No          Select  Select   \n",
       "2                        No  Potential Lead  Mumbai   \n",
       "3                        No          Select  Mumbai   \n",
       "4                        No          Select  Mumbai   \n",
       "\n",
       "  Asymmetrique Activity Index Asymmetrique Profile Index  \\\n",
       "0                   02.Medium                  02.Medium   \n",
       "1                   02.Medium                  02.Medium   \n",
       "2                   02.Medium                    01.High   \n",
       "3                   02.Medium                    01.High   \n",
       "4                   02.Medium                    01.High   \n",
       "\n",
       "  Asymmetrique Activity Score Asymmetrique Profile Score  \\\n",
       "0                        15.0                       15.0   \n",
       "1                        15.0                       15.0   \n",
       "2                        14.0                       20.0   \n",
       "3                        13.0                       17.0   \n",
       "4                        15.0                       18.0   \n",
       "\n",
       "  I agree to pay the amount through cheque  \\\n",
       "0                                       No   \n",
       "1                                       No   \n",
       "2                                       No   \n",
       "3                                       No   \n",
       "4                                       No   \n",
       "\n",
       "  A free copy of Mastering The Interview Last Notable Activity  \n",
       "0                                     No              Modified  \n",
       "1                                     No          Email Opened  \n",
       "2                                    Yes          Email Opened  \n",
       "3                                     No              Modified  \n",
       "4                                     No              Modified  \n",
       "\n",
       "[5 rows x 37 columns]"
      ]
     },
     "execution_count": 3,
     "metadata": {},
     "output_type": "execute_result"
    }
   ],
   "source": [
    "lead.head()"
   ]
  },
  {
   "cell_type": "code",
   "execution_count": 4,
   "metadata": {},
   "outputs": [
    {
     "name": "stdout",
     "output_type": "stream",
     "text": [
      "<class 'pandas.core.frame.DataFrame'>\n",
      "RangeIndex: 9240 entries, 0 to 9239\n",
      "Data columns (total 37 columns):\n",
      " #   Column                                         Non-Null Count  Dtype  \n",
      "---  ------                                         --------------  -----  \n",
      " 0   Prospect ID                                    9240 non-null   object \n",
      " 1   Lead Number                                    9240 non-null   int64  \n",
      " 2   Lead Origin                                    9240 non-null   object \n",
      " 3   Lead Source                                    9204 non-null   object \n",
      " 4   Do Not Email                                   9240 non-null   object \n",
      " 5   Do Not Call                                    9240 non-null   object \n",
      " 6   Converted                                      9240 non-null   int64  \n",
      " 7   TotalVisits                                    9103 non-null   float64\n",
      " 8   Total Time Spent on Website                    9240 non-null   int64  \n",
      " 9   Page Views Per Visit                           9103 non-null   float64\n",
      " 10  Last Activity                                  9137 non-null   object \n",
      " 11  Country                                        6779 non-null   object \n",
      " 12  Specialization                                 7802 non-null   object \n",
      " 13  How did you hear about X Education             7033 non-null   object \n",
      " 14  What is your current occupation                6550 non-null   object \n",
      " 15  What matters most to you in choosing a course  6531 non-null   object \n",
      " 16  Search                                         9240 non-null   object \n",
      " 17  Magazine                                       9240 non-null   object \n",
      " 18  Newspaper Article                              9240 non-null   object \n",
      " 19  X Education Forums                             9240 non-null   object \n",
      " 20  Newspaper                                      9240 non-null   object \n",
      " 21  Digital Advertisement                          9240 non-null   object \n",
      " 22  Through Recommendations                        9240 non-null   object \n",
      " 23  Receive More Updates About Our Courses         9240 non-null   object \n",
      " 24  Tags                                           5887 non-null   object \n",
      " 25  Lead Quality                                   4473 non-null   object \n",
      " 26  Update me on Supply Chain Content              9240 non-null   object \n",
      " 27  Get updates on DM Content                      9240 non-null   object \n",
      " 28  Lead Profile                                   6531 non-null   object \n",
      " 29  City                                           7820 non-null   object \n",
      " 30  Asymmetrique Activity Index                    5022 non-null   object \n",
      " 31  Asymmetrique Profile Index                     5022 non-null   object \n",
      " 32  Asymmetrique Activity Score                    5022 non-null   float64\n",
      " 33  Asymmetrique Profile Score                     5022 non-null   float64\n",
      " 34  I agree to pay the amount through cheque       9240 non-null   object \n",
      " 35  A free copy of Mastering The Interview         9240 non-null   object \n",
      " 36  Last Notable Activity                          9240 non-null   object \n",
      "dtypes: float64(4), int64(3), object(30)\n",
      "memory usage: 2.6+ MB\n"
     ]
    }
   ],
   "source": [
    "lead.info()"
   ]
  },
  {
   "cell_type": "code",
   "execution_count": 5,
   "metadata": {},
   "outputs": [
    {
     "data": {
      "text/plain": [
       "(9240, 37)"
      ]
     },
     "execution_count": 5,
     "metadata": {},
     "output_type": "execute_result"
    }
   ],
   "source": [
    "lead.shape"
   ]
  },
  {
   "cell_type": "code",
   "execution_count": 6,
   "metadata": {},
   "outputs": [
    {
     "data": {
      "text/html": [
       "<div>\n",
       "<style scoped>\n",
       "    .dataframe tbody tr th:only-of-type {\n",
       "        vertical-align: middle;\n",
       "    }\n",
       "\n",
       "    .dataframe tbody tr th {\n",
       "        vertical-align: top;\n",
       "    }\n",
       "\n",
       "    .dataframe thead th {\n",
       "        text-align: right;\n",
       "    }\n",
       "</style>\n",
       "<table border=\"1\" class=\"dataframe\">\n",
       "  <thead>\n",
       "    <tr style=\"text-align: right;\">\n",
       "      <th></th>\n",
       "      <th>Lead Number</th>\n",
       "      <th>Converted</th>\n",
       "      <th>TotalVisits</th>\n",
       "      <th>Total Time Spent on Website</th>\n",
       "      <th>Page Views Per Visit</th>\n",
       "      <th>Asymmetrique Activity Score</th>\n",
       "      <th>Asymmetrique Profile Score</th>\n",
       "    </tr>\n",
       "  </thead>\n",
       "  <tbody>\n",
       "    <tr>\n",
       "      <th>count</th>\n",
       "      <td>9240.000000</td>\n",
       "      <td>9240.000000</td>\n",
       "      <td>9103.000000</td>\n",
       "      <td>9240.000000</td>\n",
       "      <td>9103.000000</td>\n",
       "      <td>5022.000000</td>\n",
       "      <td>5022.000000</td>\n",
       "    </tr>\n",
       "    <tr>\n",
       "      <th>mean</th>\n",
       "      <td>617188.435606</td>\n",
       "      <td>0.385390</td>\n",
       "      <td>3.445238</td>\n",
       "      <td>487.698268</td>\n",
       "      <td>2.362820</td>\n",
       "      <td>14.306252</td>\n",
       "      <td>16.344883</td>\n",
       "    </tr>\n",
       "    <tr>\n",
       "      <th>std</th>\n",
       "      <td>23405.995698</td>\n",
       "      <td>0.486714</td>\n",
       "      <td>4.854853</td>\n",
       "      <td>548.021466</td>\n",
       "      <td>2.161418</td>\n",
       "      <td>1.386694</td>\n",
       "      <td>1.811395</td>\n",
       "    </tr>\n",
       "    <tr>\n",
       "      <th>min</th>\n",
       "      <td>579533.000000</td>\n",
       "      <td>0.000000</td>\n",
       "      <td>0.000000</td>\n",
       "      <td>0.000000</td>\n",
       "      <td>0.000000</td>\n",
       "      <td>7.000000</td>\n",
       "      <td>11.000000</td>\n",
       "    </tr>\n",
       "    <tr>\n",
       "      <th>25%</th>\n",
       "      <td>596484.500000</td>\n",
       "      <td>0.000000</td>\n",
       "      <td>1.000000</td>\n",
       "      <td>12.000000</td>\n",
       "      <td>1.000000</td>\n",
       "      <td>14.000000</td>\n",
       "      <td>15.000000</td>\n",
       "    </tr>\n",
       "    <tr>\n",
       "      <th>50%</th>\n",
       "      <td>615479.000000</td>\n",
       "      <td>0.000000</td>\n",
       "      <td>3.000000</td>\n",
       "      <td>248.000000</td>\n",
       "      <td>2.000000</td>\n",
       "      <td>14.000000</td>\n",
       "      <td>16.000000</td>\n",
       "    </tr>\n",
       "    <tr>\n",
       "      <th>75%</th>\n",
       "      <td>637387.250000</td>\n",
       "      <td>1.000000</td>\n",
       "      <td>5.000000</td>\n",
       "      <td>936.000000</td>\n",
       "      <td>3.000000</td>\n",
       "      <td>15.000000</td>\n",
       "      <td>18.000000</td>\n",
       "    </tr>\n",
       "    <tr>\n",
       "      <th>max</th>\n",
       "      <td>660737.000000</td>\n",
       "      <td>1.000000</td>\n",
       "      <td>251.000000</td>\n",
       "      <td>2272.000000</td>\n",
       "      <td>55.000000</td>\n",
       "      <td>18.000000</td>\n",
       "      <td>20.000000</td>\n",
       "    </tr>\n",
       "  </tbody>\n",
       "</table>\n",
       "</div>"
      ],
      "text/plain": [
       "         Lead Number    Converted  TotalVisits  Total Time Spent on Website  \\\n",
       "count    9240.000000  9240.000000  9103.000000                  9240.000000   \n",
       "mean   617188.435606     0.385390     3.445238                   487.698268   \n",
       "std     23405.995698     0.486714     4.854853                   548.021466   \n",
       "min    579533.000000     0.000000     0.000000                     0.000000   \n",
       "25%    596484.500000     0.000000     1.000000                    12.000000   \n",
       "50%    615479.000000     0.000000     3.000000                   248.000000   \n",
       "75%    637387.250000     1.000000     5.000000                   936.000000   \n",
       "max    660737.000000     1.000000   251.000000                  2272.000000   \n",
       "\n",
       "       Page Views Per Visit  Asymmetrique Activity Score  \\\n",
       "count           9103.000000                  5022.000000   \n",
       "mean               2.362820                    14.306252   \n",
       "std                2.161418                     1.386694   \n",
       "min                0.000000                     7.000000   \n",
       "25%                1.000000                    14.000000   \n",
       "50%                2.000000                    14.000000   \n",
       "75%                3.000000                    15.000000   \n",
       "max               55.000000                    18.000000   \n",
       "\n",
       "       Asymmetrique Profile Score  \n",
       "count                 5022.000000  \n",
       "mean                    16.344883  \n",
       "std                      1.811395  \n",
       "min                     11.000000  \n",
       "25%                     15.000000  \n",
       "50%                     16.000000  \n",
       "75%                     18.000000  \n",
       "max                     20.000000  "
      ]
     },
     "execution_count": 6,
     "metadata": {},
     "output_type": "execute_result"
    }
   ],
   "source": [
    "# common check for outliers\n",
    "lead.describe()"
   ]
  },
  {
   "cell_type": "code",
   "execution_count": 7,
   "metadata": {},
   "outputs": [
    {
     "data": {
      "text/plain": [
       "Prospect ID                                       0.00\n",
       "Lead Number                                       0.00\n",
       "Lead Origin                                       0.00\n",
       "Lead Source                                       0.39\n",
       "Do Not Email                                      0.00\n",
       "Do Not Call                                       0.00\n",
       "Converted                                         0.00\n",
       "TotalVisits                                       1.48\n",
       "Total Time Spent on Website                       0.00\n",
       "Page Views Per Visit                              1.48\n",
       "Last Activity                                     1.11\n",
       "Country                                          26.63\n",
       "Specialization                                   15.56\n",
       "How did you hear about X Education               23.89\n",
       "What is your current occupation                  29.11\n",
       "What matters most to you in choosing a course    29.32\n",
       "Search                                            0.00\n",
       "Magazine                                          0.00\n",
       "Newspaper Article                                 0.00\n",
       "X Education Forums                                0.00\n",
       "Newspaper                                         0.00\n",
       "Digital Advertisement                             0.00\n",
       "Through Recommendations                           0.00\n",
       "Receive More Updates About Our Courses            0.00\n",
       "Tags                                             36.29\n",
       "Lead Quality                                     51.59\n",
       "Update me on Supply Chain Content                 0.00\n",
       "Get updates on DM Content                         0.00\n",
       "Lead Profile                                     29.32\n",
       "City                                             15.37\n",
       "Asymmetrique Activity Index                      45.65\n",
       "Asymmetrique Profile Index                       45.65\n",
       "Asymmetrique Activity Score                      45.65\n",
       "Asymmetrique Profile Score                       45.65\n",
       "I agree to pay the amount through cheque          0.00\n",
       "A free copy of Mastering The Interview            0.00\n",
       "Last Notable Activity                             0.00\n",
       "dtype: float64"
      ]
     },
     "execution_count": 7,
     "metadata": {},
     "output_type": "execute_result"
    }
   ],
   "source": [
    "# checking for null percentage\n",
    "round(100*(lead.isnull().sum()/len(lead.index)), 2)"
   ]
  },
  {
   "cell_type": "markdown",
   "metadata": {},
   "source": [
    "### 2. Data cleaning"
   ]
  },
  {
   "cell_type": "markdown",
   "metadata": {},
   "source": [
    "##### null values and  redundant data treatment"
   ]
  },
  {
   "cell_type": "code",
   "execution_count": 8,
   "metadata": {},
   "outputs": [
    {
     "data": {
      "text/plain": [
       "Select                               1942\n",
       "Finance Management                    976\n",
       "Human Resource Management             848\n",
       "Marketing Management                  838\n",
       "Operations Management                 503\n",
       "Business Administration               403\n",
       "IT Projects Management                366\n",
       "Supply Chain Management               349\n",
       "Banking, Investment And Insurance     338\n",
       "Travel and Tourism                    203\n",
       "Media and Advertising                 203\n",
       "International Business                178\n",
       "Healthcare Management                 159\n",
       "Hospitality Management                114\n",
       "E-COMMERCE                            112\n",
       "Retail Management                     100\n",
       "Rural and Agribusiness                 73\n",
       "E-Business                             57\n",
       "Services Excellence                    40\n",
       "Name: Specialization, dtype: int64"
      ]
     },
     "execution_count": 8,
     "metadata": {},
     "output_type": "execute_result"
    }
   ],
   "source": [
    "# reveiwing various columns and its values \n",
    "lead[\"Specialization\"].value_counts()"
   ]
  },
  {
   "cell_type": "markdown",
   "metadata": {},
   "source": [
    "as seen the speciaization column has null values as \"select\". Further, checking some more columns for the same type elements "
   ]
  },
  {
   "cell_type": "code",
   "execution_count": 9,
   "metadata": {},
   "outputs": [
    {
     "data": {
      "text/plain": [
       "Google               2868\n",
       "Direct Traffic       2543\n",
       "Olark Chat           1755\n",
       "Organic Search       1154\n",
       "Reference             534\n",
       "Welingak Website      142\n",
       "Referral Sites        125\n",
       "Facebook               55\n",
       "bing                    6\n",
       "google                  5\n",
       "Click2call              4\n",
       "Social Media            2\n",
       "Live Chat               2\n",
       "Press_Release           2\n",
       "WeLearn                 1\n",
       "NC_EDM                  1\n",
       "Pay per Click Ads       1\n",
       "welearnblog_Home        1\n",
       "testone                 1\n",
       "youtubechannel          1\n",
       "blog                    1\n",
       "Name: Lead Source, dtype: int64"
      ]
     },
     "execution_count": 9,
     "metadata": {},
     "output_type": "execute_result"
    }
   ],
   "source": [
    "lead[\"Lead Source\"].value_counts()"
   ]
  },
  {
   "cell_type": "code",
   "execution_count": 10,
   "metadata": {},
   "outputs": [],
   "source": [
    "# replacing case error \n",
    "lead[\"Lead Source\"] = lead[\"Lead Source\"].replace(\"google\", \"Google\")\n",
    "\n",
    "# since google is the most sourced element, null values are imputed with google values \n",
    "lead[\"Lead Source\"] = lead[\"Lead Source\"].replace(np.nan, \"Google\")"
   ]
  },
  {
   "cell_type": "code",
   "execution_count": 11,
   "metadata": {},
   "outputs": [
    {
     "data": {
      "text/plain": [
       "Email Opened                    3437\n",
       "SMS Sent                        2745\n",
       "Olark Chat Conversation          973\n",
       "Page Visited on Website          640\n",
       "Converted to Lead                428\n",
       "Email Bounced                    326\n",
       "Email Link Clicked               267\n",
       "Form Submitted on Website        116\n",
       "Unreachable                       93\n",
       "Unsubscribed                      61\n",
       "Had a Phone Conversation          30\n",
       "Approached upfront                 9\n",
       "View in browser link Clicked       6\n",
       "Email Received                     2\n",
       "Email Marked Spam                  2\n",
       "Visited Booth in Tradeshow         1\n",
       "Resubscribed to emails             1\n",
       "Name: Last Activity, dtype: int64"
      ]
     },
     "execution_count": 11,
     "metadata": {},
     "output_type": "execute_result"
    }
   ],
   "source": [
    "lead[\"Last Activity\"].value_counts()"
   ]
  },
  {
   "cell_type": "code",
   "execution_count": 12,
   "metadata": {},
   "outputs": [
    {
     "data": {
      "text/plain": [
       "India                   6492\n",
       "United States             69\n",
       "United Arab Emirates      53\n",
       "Singapore                 24\n",
       "Saudi Arabia              21\n",
       "United Kingdom            15\n",
       "Australia                 13\n",
       "Qatar                     10\n",
       "Hong Kong                  7\n",
       "Bahrain                    7\n",
       "Oman                       6\n",
       "France                     6\n",
       "unknown                    5\n",
       "South Africa               4\n",
       "Kuwait                     4\n",
       "Canada                     4\n",
       "Nigeria                    4\n",
       "Germany                    4\n",
       "Sweden                     3\n",
       "Uganda                     2\n",
       "Italy                      2\n",
       "China                      2\n",
       "Ghana                      2\n",
       "Asia/Pacific Region        2\n",
       "Bangladesh                 2\n",
       "Belgium                    2\n",
       "Netherlands                2\n",
       "Philippines                2\n",
       "Denmark                    1\n",
       "Kenya                      1\n",
       "Russia                     1\n",
       "Malaysia                   1\n",
       "Vietnam                    1\n",
       "Sri Lanka                  1\n",
       "Switzerland                1\n",
       "Tanzania                   1\n",
       "Liberia                    1\n",
       "Indonesia                  1\n",
       "Name: Country, dtype: int64"
      ]
     },
     "execution_count": 12,
     "metadata": {},
     "output_type": "execute_result"
    }
   ],
   "source": [
    "lead[\"Country\"].value_counts()"
   ]
  },
  {
   "cell_type": "markdown",
   "metadata": {},
   "source": [
    "this column has a high no of null values, and since most of the amount of convertions from abroad is low this column is dropped"
   ]
  },
  {
   "cell_type": "code",
   "execution_count": 13,
   "metadata": {},
   "outputs": [],
   "source": [
    "# dropping the columns for above metioned reason\n",
    "lead.drop(labels = \"Country\", inplace = True, axis =1)"
   ]
  },
  {
   "cell_type": "code",
   "execution_count": 14,
   "metadata": {},
   "outputs": [
    {
     "data": {
      "text/plain": [
       "Unemployed              5600\n",
       "Working Professional     706\n",
       "Student                  210\n",
       "Other                     16\n",
       "Housewife                 10\n",
       "Businessman                8\n",
       "Name: What is your current occupation, dtype: int64"
      ]
     },
     "execution_count": 14,
     "metadata": {},
     "output_type": "execute_result"
    }
   ],
   "source": [
    "lead[\"What is your current occupation\"].value_counts()"
   ]
  },
  {
   "cell_type": "code",
   "execution_count": 15,
   "metadata": {},
   "outputs": [
    {
     "data": {
      "text/plain": [
       "Better Career Prospects      6528\n",
       "Flexibility & Convenience       2\n",
       "Other                           1\n",
       "Name: What matters most to you in choosing a course, dtype: int64"
      ]
     },
     "execution_count": 15,
     "metadata": {},
     "output_type": "execute_result"
    }
   ],
   "source": [
    "lead[\"What matters most to you in choosing a course\"].value_counts()"
   ]
  },
  {
   "cell_type": "code",
   "execution_count": 16,
   "metadata": {},
   "outputs": [
    {
     "data": {
      "text/plain": [
       "Select                   5043\n",
       "Online Search             808\n",
       "Word Of Mouth             348\n",
       "Student of SomeSchool     310\n",
       "Other                     186\n",
       "Multiple Sources          152\n",
       "Advertisements             70\n",
       "Social Media               67\n",
       "Email                      26\n",
       "SMS                        23\n",
       "Name: How did you hear about X Education, dtype: int64"
      ]
     },
     "execution_count": 16,
     "metadata": {},
     "output_type": "execute_result"
    }
   ],
   "source": [
    "lead[\"How did you hear about X Education\"].value_counts()"
   ]
  },
  {
   "cell_type": "code",
   "execution_count": 17,
   "metadata": {},
   "outputs": [
    {
     "data": {
      "text/plain": [
       "Mumbai                         3222\n",
       "Select                         2249\n",
       "Thane & Outskirts               752\n",
       "Other Cities                    686\n",
       "Other Cities of Maharashtra     457\n",
       "Other Metro Cities              380\n",
       "Tier II Cities                   74\n",
       "Name: City, dtype: int64"
      ]
     },
     "execution_count": 17,
     "metadata": {},
     "output_type": "execute_result"
    }
   ],
   "source": [
    "lead[\"City\"].value_counts()"
   ]
  },
  {
   "cell_type": "code",
   "execution_count": 18,
   "metadata": {},
   "outputs": [],
   "source": [
    "# dropping columns with high null values\n",
    "\n",
    "lead.drop([\"Asymmetrique Profile Score\", \"Asymmetrique Activity Score\", \"Asymmetrique Profile Index\" ,\"Asymmetrique Activity Index\", \"Lead Profile\", \"Lead Quality\", \"Tags\" ,\"City\",], inplace = True, axis = 1)"
   ]
  },
  {
   "cell_type": "code",
   "execution_count": 19,
   "metadata": {},
   "outputs": [],
   "source": [
    "# since the total visits have a low no of null values, its imputed with the columns median \n",
    " \n",
    "lead['TotalVisits'] = lead['TotalVisits'].replace(np.nan, lead['TotalVisits'].median())"
   ]
  },
  {
   "cell_type": "code",
   "execution_count": 20,
   "metadata": {},
   "outputs": [
    {
     "data": {
      "text/plain": [
       "Email Opened                    3437\n",
       "SMS Sent                        2745\n",
       "Olark Chat Conversation          973\n",
       "Page Visited on Website          640\n",
       "Converted to Lead                428\n",
       "Email Bounced                    326\n",
       "Email Link Clicked               267\n",
       "Form Submitted on Website        116\n",
       "Unreachable                       93\n",
       "Unsubscribed                      61\n",
       "Had a Phone Conversation          30\n",
       "Approached upfront                 9\n",
       "View in browser link Clicked       6\n",
       "Email Received                     2\n",
       "Email Marked Spam                  2\n",
       "Visited Booth in Tradeshow         1\n",
       "Resubscribed to emails             1\n",
       "Name: Last Activity, dtype: int64"
      ]
     },
     "execution_count": 20,
     "metadata": {},
     "output_type": "execute_result"
    }
   ],
   "source": [
    "lead['Last Activity'].value_counts()"
   ]
  },
  {
   "cell_type": "code",
   "execution_count": 21,
   "metadata": {},
   "outputs": [],
   "source": [
    "# the null values in the last activity are imputed with \"no source\", the reason being it has low no of null values and can be highly useful for analysis\n",
    "\n",
    "lead['Last Activity'] = lead['Last Activity'].replace(np.nan, \"no source\")"
   ]
  },
  {
   "cell_type": "code",
   "execution_count": 22,
   "metadata": {},
   "outputs": [],
   "source": [
    "# the coulmns has low number of null values, its being imputed\n",
    "\n",
    "lead[\"Page Views Per Visit\"] = lead[\"Page Views Per Visit\"].replace(np.nan, lead[\"Page Views Per Visit\"].median())"
   ]
  },
  {
   "cell_type": "code",
   "execution_count": 23,
   "metadata": {},
   "outputs": [
    {
     "data": {
      "text/plain": [
       "Better Career Prospects      6528\n",
       "Flexibility & Convenience       2\n",
       "Other                           1\n",
       "Name: What matters most to you in choosing a course, dtype: int64"
      ]
     },
     "execution_count": 23,
     "metadata": {},
     "output_type": "execute_result"
    }
   ],
   "source": [
    "             \n",
    "lead[\"What matters most to you in choosing a course\"].value_counts()                  "
   ]
  },
  {
   "cell_type": "code",
   "execution_count": 24,
   "metadata": {},
   "outputs": [],
   "source": [
    "# replacing Select as \"no information\" in both the columns to ease the analysis\n",
    "lead[\"How did you hear about X Education\"]= lead[\"How did you hear about X Education\"].replace(\"Select\", \"No information\")\n",
    "lead[\"Specialization\"]= lead[\"Specialization\"].replace(\"Select\", \"No information\")\n",
    "\n",
    "# since sepcialization is a most important variable and it has less than 25% null values, its null vaues are being imputed as no information \n",
    "lead[\"Specialization\"]= lead[\"Specialization\"].replace(np.nan, \"No information\")"
   ]
  },
  {
   "cell_type": "code",
   "execution_count": 25,
   "metadata": {},
   "outputs": [
    {
     "data": {
      "text/plain": [
       "Prospect ID                                       0.00\n",
       "Lead Number                                       0.00\n",
       "Lead Origin                                       0.00\n",
       "Lead Source                                       0.00\n",
       "Do Not Email                                      0.00\n",
       "Do Not Call                                       0.00\n",
       "Converted                                         0.00\n",
       "TotalVisits                                       0.00\n",
       "Total Time Spent on Website                       0.00\n",
       "Page Views Per Visit                              0.00\n",
       "Last Activity                                     0.00\n",
       "Specialization                                    0.00\n",
       "How did you hear about X Education               23.89\n",
       "What is your current occupation                  29.11\n",
       "What matters most to you in choosing a course    29.32\n",
       "Search                                            0.00\n",
       "Magazine                                          0.00\n",
       "Newspaper Article                                 0.00\n",
       "X Education Forums                                0.00\n",
       "Newspaper                                         0.00\n",
       "Digital Advertisement                             0.00\n",
       "Through Recommendations                           0.00\n",
       "Receive More Updates About Our Courses            0.00\n",
       "Update me on Supply Chain Content                 0.00\n",
       "Get updates on DM Content                         0.00\n",
       "I agree to pay the amount through cheque          0.00\n",
       "A free copy of Mastering The Interview            0.00\n",
       "Last Notable Activity                             0.00\n",
       "dtype: float64"
      ]
     },
     "execution_count": 25,
     "metadata": {},
     "output_type": "execute_result"
    }
   ],
   "source": [
    "round(100*(lead.isnull().sum()/len(lead.index)), 2)"
   ]
  },
  {
   "cell_type": "code",
   "execution_count": 26,
   "metadata": {},
   "outputs": [],
   "source": [
    "# dropping columns with null values higher than 20%\n",
    "lead.drop([\"What is your current occupation\", \"How did you hear about X Education\", \"What matters most to you in choosing a course\"], inplace = True, axis =1)"
   ]
  },
  {
   "cell_type": "code",
   "execution_count": 27,
   "metadata": {},
   "outputs": [
    {
     "name": "stdout",
     "output_type": "stream",
     "text": [
      "<class 'pandas.core.frame.DataFrame'>\n",
      "RangeIndex: 9240 entries, 0 to 9239\n",
      "Data columns (total 25 columns):\n",
      " #   Column                                    Non-Null Count  Dtype  \n",
      "---  ------                                    --------------  -----  \n",
      " 0   Prospect ID                               9240 non-null   object \n",
      " 1   Lead Number                               9240 non-null   int64  \n",
      " 2   Lead Origin                               9240 non-null   object \n",
      " 3   Lead Source                               9240 non-null   object \n",
      " 4   Do Not Email                              9240 non-null   object \n",
      " 5   Do Not Call                               9240 non-null   object \n",
      " 6   Converted                                 9240 non-null   int64  \n",
      " 7   TotalVisits                               9240 non-null   float64\n",
      " 8   Total Time Spent on Website               9240 non-null   int64  \n",
      " 9   Page Views Per Visit                      9240 non-null   float64\n",
      " 10  Last Activity                             9240 non-null   object \n",
      " 11  Specialization                            9240 non-null   object \n",
      " 12  Search                                    9240 non-null   object \n",
      " 13  Magazine                                  9240 non-null   object \n",
      " 14  Newspaper Article                         9240 non-null   object \n",
      " 15  X Education Forums                        9240 non-null   object \n",
      " 16  Newspaper                                 9240 non-null   object \n",
      " 17  Digital Advertisement                     9240 non-null   object \n",
      " 18  Through Recommendations                   9240 non-null   object \n",
      " 19  Receive More Updates About Our Courses    9240 non-null   object \n",
      " 20  Update me on Supply Chain Content         9240 non-null   object \n",
      " 21  Get updates on DM Content                 9240 non-null   object \n",
      " 22  I agree to pay the amount through cheque  9240 non-null   object \n",
      " 23  A free copy of Mastering The Interview    9240 non-null   object \n",
      " 24  Last Notable Activity                     9240 non-null   object \n",
      "dtypes: float64(2), int64(3), object(20)\n",
      "memory usage: 1.8+ MB\n"
     ]
    }
   ],
   "source": [
    "lead.info()"
   ]
  },
  {
   "cell_type": "markdown",
   "metadata": {},
   "source": [
    "##### outlier treatment"
   ]
  },
  {
   "cell_type": "code",
   "execution_count": 28,
   "metadata": {},
   "outputs": [
    {
     "data": {
      "text/html": [
       "<div>\n",
       "<style scoped>\n",
       "    .dataframe tbody tr th:only-of-type {\n",
       "        vertical-align: middle;\n",
       "    }\n",
       "\n",
       "    .dataframe tbody tr th {\n",
       "        vertical-align: top;\n",
       "    }\n",
       "\n",
       "    .dataframe thead th {\n",
       "        text-align: right;\n",
       "    }\n",
       "</style>\n",
       "<table border=\"1\" class=\"dataframe\">\n",
       "  <thead>\n",
       "    <tr style=\"text-align: right;\">\n",
       "      <th></th>\n",
       "      <th>Lead Number</th>\n",
       "      <th>Converted</th>\n",
       "      <th>TotalVisits</th>\n",
       "      <th>Total Time Spent on Website</th>\n",
       "      <th>Page Views Per Visit</th>\n",
       "    </tr>\n",
       "  </thead>\n",
       "  <tbody>\n",
       "    <tr>\n",
       "      <th>count</th>\n",
       "      <td>9240.000000</td>\n",
       "      <td>9240.000000</td>\n",
       "      <td>9240.000000</td>\n",
       "      <td>9240.000000</td>\n",
       "      <td>9240.000000</td>\n",
       "    </tr>\n",
       "    <tr>\n",
       "      <th>mean</th>\n",
       "      <td>617188.435606</td>\n",
       "      <td>0.385390</td>\n",
       "      <td>3.438636</td>\n",
       "      <td>487.698268</td>\n",
       "      <td>2.357440</td>\n",
       "    </tr>\n",
       "    <tr>\n",
       "      <th>std</th>\n",
       "      <td>23405.995698</td>\n",
       "      <td>0.486714</td>\n",
       "      <td>4.819024</td>\n",
       "      <td>548.021466</td>\n",
       "      <td>2.145781</td>\n",
       "    </tr>\n",
       "    <tr>\n",
       "      <th>min</th>\n",
       "      <td>579533.000000</td>\n",
       "      <td>0.000000</td>\n",
       "      <td>0.000000</td>\n",
       "      <td>0.000000</td>\n",
       "      <td>0.000000</td>\n",
       "    </tr>\n",
       "    <tr>\n",
       "      <th>10%</th>\n",
       "      <td>586361.700000</td>\n",
       "      <td>0.000000</td>\n",
       "      <td>0.000000</td>\n",
       "      <td>0.000000</td>\n",
       "      <td>0.000000</td>\n",
       "    </tr>\n",
       "    <tr>\n",
       "      <th>25%</th>\n",
       "      <td>596484.500000</td>\n",
       "      <td>0.000000</td>\n",
       "      <td>1.000000</td>\n",
       "      <td>12.000000</td>\n",
       "      <td>1.000000</td>\n",
       "    </tr>\n",
       "    <tr>\n",
       "      <th>50%</th>\n",
       "      <td>615479.000000</td>\n",
       "      <td>0.000000</td>\n",
       "      <td>3.000000</td>\n",
       "      <td>248.000000</td>\n",
       "      <td>2.000000</td>\n",
       "    </tr>\n",
       "    <tr>\n",
       "      <th>75%</th>\n",
       "      <td>637387.250000</td>\n",
       "      <td>1.000000</td>\n",
       "      <td>5.000000</td>\n",
       "      <td>936.000000</td>\n",
       "      <td>3.000000</td>\n",
       "    </tr>\n",
       "    <tr>\n",
       "      <th>80%</th>\n",
       "      <td>641577.600000</td>\n",
       "      <td>1.000000</td>\n",
       "      <td>5.000000</td>\n",
       "      <td>1087.200000</td>\n",
       "      <td>4.000000</td>\n",
       "    </tr>\n",
       "    <tr>\n",
       "      <th>92%</th>\n",
       "      <td>652786.640000</td>\n",
       "      <td>1.000000</td>\n",
       "      <td>8.000000</td>\n",
       "      <td>1449.880000</td>\n",
       "      <td>5.000000</td>\n",
       "    </tr>\n",
       "    <tr>\n",
       "      <th>99%</th>\n",
       "      <td>659592.980000</td>\n",
       "      <td>1.000000</td>\n",
       "      <td>17.000000</td>\n",
       "      <td>1840.610000</td>\n",
       "      <td>9.000000</td>\n",
       "    </tr>\n",
       "    <tr>\n",
       "      <th>max</th>\n",
       "      <td>660737.000000</td>\n",
       "      <td>1.000000</td>\n",
       "      <td>251.000000</td>\n",
       "      <td>2272.000000</td>\n",
       "      <td>55.000000</td>\n",
       "    </tr>\n",
       "  </tbody>\n",
       "</table>\n",
       "</div>"
      ],
      "text/plain": [
       "         Lead Number    Converted  TotalVisits  Total Time Spent on Website  \\\n",
       "count    9240.000000  9240.000000  9240.000000                  9240.000000   \n",
       "mean   617188.435606     0.385390     3.438636                   487.698268   \n",
       "std     23405.995698     0.486714     4.819024                   548.021466   \n",
       "min    579533.000000     0.000000     0.000000                     0.000000   \n",
       "10%    586361.700000     0.000000     0.000000                     0.000000   \n",
       "25%    596484.500000     0.000000     1.000000                    12.000000   \n",
       "50%    615479.000000     0.000000     3.000000                   248.000000   \n",
       "75%    637387.250000     1.000000     5.000000                   936.000000   \n",
       "80%    641577.600000     1.000000     5.000000                  1087.200000   \n",
       "92%    652786.640000     1.000000     8.000000                  1449.880000   \n",
       "99%    659592.980000     1.000000    17.000000                  1840.610000   \n",
       "max    660737.000000     1.000000   251.000000                  2272.000000   \n",
       "\n",
       "       Page Views Per Visit  \n",
       "count           9240.000000  \n",
       "mean               2.357440  \n",
       "std                2.145781  \n",
       "min                0.000000  \n",
       "10%                0.000000  \n",
       "25%                1.000000  \n",
       "50%                2.000000  \n",
       "75%                3.000000  \n",
       "80%                4.000000  \n",
       "92%                5.000000  \n",
       "99%                9.000000  \n",
       "max               55.000000  "
      ]
     },
     "execution_count": 28,
     "metadata": {},
     "output_type": "execute_result"
    }
   ],
   "source": [
    "# checking outliers\n",
    "lead.describe(percentiles = [0.10, 0.25, 0.50, 0.75, 0.80, 0.92, 0.99])"
   ]
  },
  {
   "cell_type": "markdown",
   "metadata": {},
   "source": [
    "there are outliers in total visits, time spent on website, page veiws per visit columns. but to know better boxplot is being done"
   ]
  },
  {
   "cell_type": "code",
   "execution_count": 29,
   "metadata": {},
   "outputs": [
    {
     "data": {
      "text/plain": [
       "<matplotlib.axes._subplots.AxesSubplot at 0x20099976670>"
      ]
     },
     "execution_count": 29,
     "metadata": {},
     "output_type": "execute_result"
    },
    {
     "data": {
      "image/png": "[encoded data removed]",
      "text/plain": [
       "<Figure size 864x360 with 3 Axes>"
      ]
     },
     "metadata": {
      "needs_background": "light"
     },
     "output_type": "display_data"
    }
   ],
   "source": [
    "# boxlplot for all numerical columns\n",
    "plt.figure(figsize = (12, 5))\n",
    "plt.subplot(1, 3, 1)\n",
    "sns.boxplot(y = 'TotalVisits', data = lead)\n",
    "plt.subplot(1, 3, 2)\n",
    "sns.boxplot(y = \"Total Time Spent on Website\", data = lead)\n",
    "plt.subplot(1, 3, 3)\n",
    "sns.boxplot(y = \"Page Views Per Visit\", data = lead)"
   ]
  },
  {
   "cell_type": "code",
   "execution_count": 30,
   "metadata": {},
   "outputs": [],
   "source": [
    "# the plot shows total visits and page veiws per vist as having outliers\n",
    "# deleting that values from the dataframe\n",
    "\n",
    "lead = lead[lead[\"TotalVisits\"]< lead[\"TotalVisits\"].quantile(0.99)]"
   ]
  },
  {
   "cell_type": "code",
   "execution_count": 31,
   "metadata": {},
   "outputs": [
    {
     "data": {
      "text/html": [
       "<div>\n",
       "<style scoped>\n",
       "    .dataframe tbody tr th:only-of-type {\n",
       "        vertical-align: middle;\n",
       "    }\n",
       "\n",
       "    .dataframe tbody tr th {\n",
       "        vertical-align: top;\n",
       "    }\n",
       "\n",
       "    .dataframe thead th {\n",
       "        text-align: right;\n",
       "    }\n",
       "</style>\n",
       "<table border=\"1\" class=\"dataframe\">\n",
       "  <thead>\n",
       "    <tr style=\"text-align: right;\">\n",
       "      <th></th>\n",
       "      <th>Lead Number</th>\n",
       "      <th>Converted</th>\n",
       "      <th>TotalVisits</th>\n",
       "      <th>Total Time Spent on Website</th>\n",
       "      <th>Page Views Per Visit</th>\n",
       "    </tr>\n",
       "  </thead>\n",
       "  <tbody>\n",
       "    <tr>\n",
       "      <th>count</th>\n",
       "      <td>9141.00000</td>\n",
       "      <td>9141.000000</td>\n",
       "      <td>9141.000000</td>\n",
       "      <td>9141.000000</td>\n",
       "      <td>9141.000000</td>\n",
       "    </tr>\n",
       "    <tr>\n",
       "      <th>mean</th>\n",
       "      <td>617233.45192</td>\n",
       "      <td>0.385406</td>\n",
       "      <td>3.179740</td>\n",
       "      <td>486.074609</td>\n",
       "      <td>2.329506</td>\n",
       "    </tr>\n",
       "    <tr>\n",
       "      <th>std</th>\n",
       "      <td>23413.72193</td>\n",
       "      <td>0.486718</td>\n",
       "      <td>2.913631</td>\n",
       "      <td>547.856302</td>\n",
       "      <td>2.046673</td>\n",
       "    </tr>\n",
       "    <tr>\n",
       "      <th>min</th>\n",
       "      <td>579533.00000</td>\n",
       "      <td>0.000000</td>\n",
       "      <td>0.000000</td>\n",
       "      <td>0.000000</td>\n",
       "      <td>0.000000</td>\n",
       "    </tr>\n",
       "    <tr>\n",
       "      <th>25%</th>\n",
       "      <td>596519.00000</td>\n",
       "      <td>0.000000</td>\n",
       "      <td>1.000000</td>\n",
       "      <td>10.000000</td>\n",
       "      <td>1.000000</td>\n",
       "    </tr>\n",
       "    <tr>\n",
       "      <th>50%</th>\n",
       "      <td>615563.00000</td>\n",
       "      <td>0.000000</td>\n",
       "      <td>3.000000</td>\n",
       "      <td>247.000000</td>\n",
       "      <td>2.000000</td>\n",
       "    </tr>\n",
       "    <tr>\n",
       "      <th>75%</th>\n",
       "      <td>637414.00000</td>\n",
       "      <td>1.000000</td>\n",
       "      <td>5.000000</td>\n",
       "      <td>933.000000</td>\n",
       "      <td>3.000000</td>\n",
       "    </tr>\n",
       "    <tr>\n",
       "      <th>80%</th>\n",
       "      <td>641612.00000</td>\n",
       "      <td>1.000000</td>\n",
       "      <td>5.000000</td>\n",
       "      <td>1086.000000</td>\n",
       "      <td>4.000000</td>\n",
       "    </tr>\n",
       "    <tr>\n",
       "      <th>92%</th>\n",
       "      <td>652805.00000</td>\n",
       "      <td>1.000000</td>\n",
       "      <td>8.000000</td>\n",
       "      <td>1449.000000</td>\n",
       "      <td>5.000000</td>\n",
       "    </tr>\n",
       "    <tr>\n",
       "      <th>99%</th>\n",
       "      <td>659592.80000</td>\n",
       "      <td>1.000000</td>\n",
       "      <td>13.000000</td>\n",
       "      <td>1839.600000</td>\n",
       "      <td>9.000000</td>\n",
       "    </tr>\n",
       "    <tr>\n",
       "      <th>max</th>\n",
       "      <td>660737.00000</td>\n",
       "      <td>1.000000</td>\n",
       "      <td>16.000000</td>\n",
       "      <td>2272.000000</td>\n",
       "      <td>16.000000</td>\n",
       "    </tr>\n",
       "  </tbody>\n",
       "</table>\n",
       "</div>"
      ],
      "text/plain": [
       "        Lead Number    Converted  TotalVisits  Total Time Spent on Website  \\\n",
       "count    9141.00000  9141.000000  9141.000000                  9141.000000   \n",
       "mean   617233.45192     0.385406     3.179740                   486.074609   \n",
       "std     23413.72193     0.486718     2.913631                   547.856302   \n",
       "min    579533.00000     0.000000     0.000000                     0.000000   \n",
       "25%    596519.00000     0.000000     1.000000                    10.000000   \n",
       "50%    615563.00000     0.000000     3.000000                   247.000000   \n",
       "75%    637414.00000     1.000000     5.000000                   933.000000   \n",
       "80%    641612.00000     1.000000     5.000000                  1086.000000   \n",
       "92%    652805.00000     1.000000     8.000000                  1449.000000   \n",
       "99%    659592.80000     1.000000    13.000000                  1839.600000   \n",
       "max    660737.00000     1.000000    16.000000                  2272.000000   \n",
       "\n",
       "       Page Views Per Visit  \n",
       "count           9141.000000  \n",
       "mean               2.329506  \n",
       "std                2.046673  \n",
       "min                0.000000  \n",
       "25%                1.000000  \n",
       "50%                2.000000  \n",
       "75%                3.000000  \n",
       "80%                4.000000  \n",
       "92%                5.000000  \n",
       "99%                9.000000  \n",
       "max               16.000000  "
      ]
     },
     "execution_count": 31,
     "metadata": {},
     "output_type": "execute_result"
    }
   ],
   "source": [
    "lead.describe(percentiles = [0.25,0.50,0.75,0.80,0.92,0.99])"
   ]
  },
  {
   "cell_type": "code",
   "execution_count": 32,
   "metadata": {},
   "outputs": [],
   "source": [
    "# the plot shows that the time spent on website column to have outliers\n",
    "\n",
    "lead = lead[lead[\"Total Time Spent on Website\"] < lead[\"Total Time Spent on Website\"].quantile(0.99)]"
   ]
  },
  {
   "cell_type": "code",
   "execution_count": 33,
   "metadata": {},
   "outputs": [
    {
     "name": "stdout",
     "output_type": "stream",
     "text": [
      "<class 'pandas.core.frame.DataFrame'>\n",
      "Int64Index: 9049 entries, 0 to 9239\n",
      "Data columns (total 25 columns):\n",
      " #   Column                                    Non-Null Count  Dtype  \n",
      "---  ------                                    --------------  -----  \n",
      " 0   Prospect ID                               9049 non-null   object \n",
      " 1   Lead Number                               9049 non-null   int64  \n",
      " 2   Lead Origin                               9049 non-null   object \n",
      " 3   Lead Source                               9049 non-null   object \n",
      " 4   Do Not Email                              9049 non-null   object \n",
      " 5   Do Not Call                               9049 non-null   object \n",
      " 6   Converted                                 9049 non-null   int64  \n",
      " 7   TotalVisits                               9049 non-null   float64\n",
      " 8   Total Time Spent on Website               9049 non-null   int64  \n",
      " 9   Page Views Per Visit                      9049 non-null   float64\n",
      " 10  Last Activity                             9049 non-null   object \n",
      " 11  Specialization                            9049 non-null   object \n",
      " 12  Search                                    9049 non-null   object \n",
      " 13  Magazine                                  9049 non-null   object \n",
      " 14  Newspaper Article                         9049 non-null   object \n",
      " 15  X Education Forums                        9049 non-null   object \n",
      " 16  Newspaper                                 9049 non-null   object \n",
      " 17  Digital Advertisement                     9049 non-null   object \n",
      " 18  Through Recommendations                   9049 non-null   object \n",
      " 19  Receive More Updates About Our Courses    9049 non-null   object \n",
      " 20  Update me on Supply Chain Content         9049 non-null   object \n",
      " 21  Get updates on DM Content                 9049 non-null   object \n",
      " 22  I agree to pay the amount through cheque  9049 non-null   object \n",
      " 23  A free copy of Mastering The Interview    9049 non-null   object \n",
      " 24  Last Notable Activity                     9049 non-null   object \n",
      "dtypes: float64(2), int64(3), object(20)\n",
      "memory usage: 1.8+ MB\n"
     ]
    }
   ],
   "source": [
    "lead.info()"
   ]
  },
  {
   "cell_type": "markdown",
   "metadata": {},
   "source": [
    "### 3. Exploratory data analysis"
   ]
  },
  {
   "cell_type": "code",
   "execution_count": 34,
   "metadata": {},
   "outputs": [],
   "source": [
    "# function for countplots for analysing different categorial variables with converted column\n",
    "def cplot(b):\n",
    "    plt.figure(figsize = (9,5))    \n",
    "    a =sns.countplot(x = b, hue = lead[\"Converted\"], data = lead, palette = \"magma\")\n",
    "    plt.setp(a.xaxis.get_majorticklabels(),rotation= 90)\n",
    "    \n",
    "    plt.show()"
   ]
  },
  {
   "cell_type": "code",
   "execution_count": 35,
   "metadata": {},
   "outputs": [
    {
     "data": {
      "image/png": "[encoded data removed]",
      "text/plain": [
       "<Figure size 648x360 with 1 Axes>"
      ]
     },
     "metadata": {
      "needs_background": "light"
     },
     "output_type": "display_data"
    }
   ],
   "source": [
    "cplot(\"Converted\")"
   ]
  },
  {
   "cell_type": "code",
   "execution_count": 36,
   "metadata": {},
   "outputs": [
    {
     "data": {
      "image/png": "[encoded data removed]",
      "text/plain": [
       "<Figure size 648x360 with 1 Axes>"
      ]
     },
     "metadata": {
      "needs_background": "light"
     },
     "output_type": "display_data"
    }
   ],
   "source": [
    "cplot(\"Lead Source\")"
   ]
  },
  {
   "cell_type": "markdown",
   "metadata": {},
   "source": [
    "google searches has had high conversions compared to other modes, whilst references has had high conversion rate."
   ]
  },
  {
   "cell_type": "code",
   "execution_count": 37,
   "metadata": {},
   "outputs": [
    {
     "data": {
      "image/png": "[encoded data removed]",
      "text/plain": [
       "<Figure size 648x360 with 1 Axes>"
      ]
     },
     "metadata": {
      "needs_background": "light"
     },
     "output_type": "display_data"
    }
   ],
   "source": [
    "cplot(\"Last Activity\")"
   ]
  },
  {
   "cell_type": "markdown",
   "metadata": {},
   "source": [
    "sms has shown to be a promising method for getting higher confirmed leads"
   ]
  },
  {
   "cell_type": "code",
   "execution_count": 38,
   "metadata": {},
   "outputs": [
    {
     "data": {
      "image/png": "[encoded data removed]",
      "text/plain": [
       "<Figure size 648x360 with 1 Axes>"
      ]
     },
     "metadata": {
      "needs_background": "light"
     },
     "output_type": "display_data"
    }
   ],
   "source": [
    "cplot(\"Do Not Email\")"
   ]
  },
  {
   "cell_type": "markdown",
   "metadata": {},
   "source": [
    "most people do not prefer communicating through emails"
   ]
  },
  {
   "cell_type": "code",
   "execution_count": 39,
   "metadata": {},
   "outputs": [
    {
     "data": {
      "image/png": "[encoded data removed]",
      "text/plain": [
       "<Figure size 648x360 with 1 Axes>"
      ]
     },
     "metadata": {
      "needs_background": "light"
     },
     "output_type": "display_data"
    }
   ],
   "source": [
    "cplot(\"Specialization\")"
   ]
  },
  {
   "cell_type": "markdown",
   "metadata": {},
   "source": [
    "most of the leads have no information about specialization. On the other hand,\n",
    "marketing management, human resources management has high conversion rates. people from these speciaizations can be promising leads"
   ]
  },
  {
   "cell_type": "code",
   "execution_count": 40,
   "metadata": {},
   "outputs": [
    {
     "data": {
      "image/png": "[encoded data removed]",
      "text/plain": [
       "<Figure size 648x360 with 1 Axes>"
      ]
     },
     "metadata": {
      "needs_background": "light"
     },
     "output_type": "display_data"
    }
   ],
   "source": [
    "cplot(\"Lead Origin\")"
   ]
  },
  {
   "cell_type": "markdown",
   "metadata": {},
   "source": [
    "landing page submissions has had high lead conversions"
   ]
  },
  {
   "cell_type": "code",
   "execution_count": 41,
   "metadata": {},
   "outputs": [
    {
     "data": {
      "image/png": "[encoded data removed]",
      "text/plain": [
       "<Figure size 648x360 with 1 Axes>"
      ]
     },
     "metadata": {
      "needs_background": "light"
     },
     "output_type": "display_data"
    }
   ],
   "source": [
    "cplot(\"Last Notable Activity\")"
   ]
  },
  {
   "cell_type": "markdown",
   "metadata": {},
   "source": [
    "most leads are converted with last alert messages"
   ]
  },
  {
   "cell_type": "code",
   "execution_count": 42,
   "metadata": {},
   "outputs": [
    {
     "data": {
      "image/png": "[encoded data removed]",
      "text/plain": [
       "<Figure size 648x360 with 1 Axes>"
      ]
     },
     "metadata": {
      "needs_background": "light"
     },
     "output_type": "display_data"
    }
   ],
   "source": [
    "cplot(\"Do Not Call\")"
   ]
  },
  {
   "cell_type": "markdown",
   "metadata": {},
   "source": [
    "most leads prefer not to informed through phone"
   ]
  },
  {
   "cell_type": "code",
   "execution_count": 43,
   "metadata": {},
   "outputs": [
    {
     "data": {
      "image/png": "[encoded data removed]",
      "text/plain": [
       "<Figure size 648x360 with 1 Axes>"
      ]
     },
     "metadata": {
      "needs_background": "light"
     },
     "output_type": "display_data"
    }
   ],
   "source": [
    "cplot(\"A free copy of Mastering The Interview\")"
   ]
  },
  {
   "cell_type": "markdown",
   "metadata": {},
   "source": [
    "leads prefer less copies of interveiws"
   ]
  },
  {
   "cell_type": "code",
   "execution_count": 44,
   "metadata": {},
   "outputs": [
    {
     "data": {
      "image/png": "[encoded data removed]",
      "text/plain": [
       "<Figure size 648x360 with 1 Axes>"
      ]
     },
     "metadata": {
      "needs_background": "light"
     },
     "output_type": "display_data"
    }
   ],
   "source": [
    "cplot(\"Search\")"
   ]
  },
  {
   "cell_type": "markdown",
   "metadata": {},
   "source": [
    "the above graph shows searches are not good source of leads"
   ]
  },
  {
   "cell_type": "code",
   "execution_count": 45,
   "metadata": {},
   "outputs": [
    {
     "data": {
      "image/png": "[encoded data removed]",
      "text/plain": [
       "<Figure size 648x360 with 1 Axes>"
      ]
     },
     "metadata": {
      "needs_background": "light"
     },
     "output_type": "display_data"
    }
   ],
   "source": [
    "cplot(\"Magazine\")"
   ]
  },
  {
   "cell_type": "markdown",
   "metadata": {},
   "source": [
    "magazines do not have higher conversion rate"
   ]
  },
  {
   "cell_type": "code",
   "execution_count": 46,
   "metadata": {},
   "outputs": [
    {
     "data": {
      "image/png": "[encoded data removed]",
      "text/plain": [
       "<Figure size 648x360 with 1 Axes>"
      ]
     },
     "metadata": {
      "needs_background": "light"
     },
     "output_type": "display_data"
    }
   ],
   "source": [
    "cplot(\"Digital Advertisement\")"
   ]
  },
  {
   "cell_type": "markdown",
   "metadata": {},
   "source": [
    "based on the above graph digital advertisments do not have promising leads"
   ]
  },
  {
   "cell_type": "code",
   "execution_count": 47,
   "metadata": {},
   "outputs": [
    {
     "data": {
      "image/png": "[encoded data removed]",
      "text/plain": [
       "<Figure size 648x360 with 1 Axes>"
      ]
     },
     "metadata": {
      "needs_background": "light"
     },
     "output_type": "display_data"
    }
   ],
   "source": [
    "cplot(\"Through Recommendations\")"
   ]
  },
  {
   "cell_type": "markdown",
   "metadata": {},
   "source": [
    "from the above graph, recommedations are not a good source for promising leads"
   ]
  },
  {
   "cell_type": "code",
   "execution_count": 48,
   "metadata": {},
   "outputs": [
    {
     "data": {
      "image/png": "[encoded data removed]",
      "text/plain": [
       "<Figure size 432x288 with 1 Axes>"
      ]
     },
     "metadata": {
      "needs_background": "light"
     },
     "output_type": "display_data"
    }
   ],
   "source": [
    "sns.barplot(y = 'TotalVisits', x='Converted', palette='magma', data = lead)\n",
    "plt.show()"
   ]
  },
  {
   "cell_type": "markdown",
   "metadata": {},
   "source": [
    "higher total visits have a slight higher chances of being a promising lead"
   ]
  },
  {
   "cell_type": "code",
   "execution_count": 49,
   "metadata": {},
   "outputs": [
    {
     "data": {
      "image/png": "[encoded data removed]",
      "text/plain": [
       "<Figure size 432x288 with 1 Axes>"
      ]
     },
     "metadata": {
      "needs_background": "light"
     },
     "output_type": "display_data"
    }
   ],
   "source": [
    "sns.barplot(y = 'Page Views Per Visit', x='Converted', palette='magma', data = lead)\n",
    "plt.show()"
   ]
  },
  {
   "cell_type": "markdown",
   "metadata": {},
   "source": [
    "page veiws per visit does not convey much about the leads"
   ]
  },
  {
   "cell_type": "code",
   "execution_count": 50,
   "metadata": {},
   "outputs": [
    {
     "data": {
      "image/png": "[encoded data removed]",
      "text/plain": [
       "<Figure size 432x288 with 1 Axes>"
      ]
     },
     "metadata": {
      "needs_background": "light"
     },
     "output_type": "display_data"
    }
   ],
   "source": [
    "sns.barplot(y = 'Total Time Spent on Website', x='Converted', palette='magma', data = lead)\n",
    "plt.show()"
   ]
  },
  {
   "cell_type": "markdown",
   "metadata": {},
   "source": [
    "people spending higher than average time are promising leads"
   ]
  },
  {
   "cell_type": "markdown",
   "metadata": {},
   "source": [
    "### 4. Data preparation for model building"
   ]
  },
  {
   "cell_type": "markdown",
   "metadata": {},
   "source": [
    "##### Dummy variable creation:"
   ]
  },
  {
   "cell_type": "code",
   "execution_count": 51,
   "metadata": {},
   "outputs": [
    {
     "name": "stdout",
     "output_type": "stream",
     "text": [
      "<class 'pandas.core.frame.DataFrame'>\n",
      "Int64Index: 9049 entries, 0 to 9239\n",
      "Data columns (total 25 columns):\n",
      " #   Column                                    Non-Null Count  Dtype  \n",
      "---  ------                                    --------------  -----  \n",
      " 0   Prospect ID                               9049 non-null   object \n",
      " 1   Lead Number                               9049 non-null   int64  \n",
      " 2   Lead Origin                               9049 non-null   object \n",
      " 3   Lead Source                               9049 non-null   object \n",
      " 4   Do Not Email                              9049 non-null   object \n",
      " 5   Do Not Call                               9049 non-null   object \n",
      " 6   Converted                                 9049 non-null   int64  \n",
      " 7   TotalVisits                               9049 non-null   float64\n",
      " 8   Total Time Spent on Website               9049 non-null   int64  \n",
      " 9   Page Views Per Visit                      9049 non-null   float64\n",
      " 10  Last Activity                             9049 non-null   object \n",
      " 11  Specialization                            9049 non-null   object \n",
      " 12  Search                                    9049 non-null   object \n",
      " 13  Magazine                                  9049 non-null   object \n",
      " 14  Newspaper Article                         9049 non-null   object \n",
      " 15  X Education Forums                        9049 non-null   object \n",
      " 16  Newspaper                                 9049 non-null   object \n",
      " 17  Digital Advertisement                     9049 non-null   object \n",
      " 18  Through Recommendations                   9049 non-null   object \n",
      " 19  Receive More Updates About Our Courses    9049 non-null   object \n",
      " 20  Update me on Supply Chain Content         9049 non-null   object \n",
      " 21  Get updates on DM Content                 9049 non-null   object \n",
      " 22  I agree to pay the amount through cheque  9049 non-null   object \n",
      " 23  A free copy of Mastering The Interview    9049 non-null   object \n",
      " 24  Last Notable Activity                     9049 non-null   object \n",
      "dtypes: float64(2), int64(3), object(20)\n",
      "memory usage: 2.1+ MB\n"
     ]
    }
   ],
   "source": [
    "lead.info()"
   ]
  },
  {
   "cell_type": "code",
   "execution_count": 52,
   "metadata": {},
   "outputs": [],
   "source": [
    "# converting strings to binary\n",
    "\n",
    "d_list = [\"Receive More Updates About Our Courses\",\"Get updates on DM Content\",\"I agree to pay the amount through cheque\", \"Do Not Email\",\"Do Not Call\", \"Search\", \"Magazine\", \"Newspaper Article\", \"X Education Forums\", \"Newspaper\", \"Digital Advertisement\", \"Through Recommendations\", \"A free copy of Mastering The Interview\"]\n",
    "\n",
    "def bmap(x):\n",
    "    return x.map({\"Yes\" : 1, \"No\" : 0})"
   ]
  },
  {
   "cell_type": "code",
   "execution_count": 53,
   "metadata": {},
   "outputs": [],
   "source": [
    "lead[d_list] = lead[d_list].apply(bmap)"
   ]
  },
  {
   "cell_type": "code",
   "execution_count": 54,
   "metadata": {},
   "outputs": [
    {
     "data": {
      "text/html": [
       "<div>\n",
       "<style scoped>\n",
       "    .dataframe tbody tr th:only-of-type {\n",
       "        vertical-align: middle;\n",
       "    }\n",
       "\n",
       "    .dataframe tbody tr th {\n",
       "        vertical-align: top;\n",
       "    }\n",
       "\n",
       "    .dataframe thead th {\n",
       "        text-align: right;\n",
       "    }\n",
       "</style>\n",
       "<table border=\"1\" class=\"dataframe\">\n",
       "  <thead>\n",
       "    <tr style=\"text-align: right;\">\n",
       "      <th></th>\n",
       "      <th>Prospect ID</th>\n",
       "      <th>Lead Number</th>\n",
       "      <th>Lead Origin</th>\n",
       "      <th>Lead Source</th>\n",
       "      <th>Do Not Email</th>\n",
       "      <th>Do Not Call</th>\n",
       "      <th>Converted</th>\n",
       "      <th>TotalVisits</th>\n",
       "      <th>Total Time Spent on Website</th>\n",
       "      <th>Page Views Per Visit</th>\n",
       "      <th>...</th>\n",
       "      <th>Lead Source_Reference</th>\n",
       "      <th>Lead Source_Referral Sites</th>\n",
       "      <th>Lead Source_Social Media</th>\n",
       "      <th>Lead Source_WeLearn</th>\n",
       "      <th>Lead Source_Welingak Website</th>\n",
       "      <th>Lead Source_bing</th>\n",
       "      <th>Lead Source_blog</th>\n",
       "      <th>Lead Source_testone</th>\n",
       "      <th>Lead Source_welearnblog_Home</th>\n",
       "      <th>Lead Source_youtubechannel</th>\n",
       "    </tr>\n",
       "  </thead>\n",
       "  <tbody>\n",
       "    <tr>\n",
       "      <th>0</th>\n",
       "      <td>7927b2df-8bba-4d29-b9a2-b6e0beafe620</td>\n",
       "      <td>660737</td>\n",
       "      <td>API</td>\n",
       "      <td>Olark Chat</td>\n",
       "      <td>0</td>\n",
       "      <td>0</td>\n",
       "      <td>0</td>\n",
       "      <td>0.0</td>\n",
       "      <td>0</td>\n",
       "      <td>0.0</td>\n",
       "      <td>...</td>\n",
       "      <td>0</td>\n",
       "      <td>0</td>\n",
       "      <td>0</td>\n",
       "      <td>0</td>\n",
       "      <td>0</td>\n",
       "      <td>0</td>\n",
       "      <td>0</td>\n",
       "      <td>0</td>\n",
       "      <td>0</td>\n",
       "      <td>0</td>\n",
       "    </tr>\n",
       "    <tr>\n",
       "      <th>1</th>\n",
       "      <td>2a272436-5132-4136-86fa-dcc88c88f482</td>\n",
       "      <td>660728</td>\n",
       "      <td>API</td>\n",
       "      <td>Organic Search</td>\n",
       "      <td>0</td>\n",
       "      <td>0</td>\n",
       "      <td>0</td>\n",
       "      <td>5.0</td>\n",
       "      <td>674</td>\n",
       "      <td>2.5</td>\n",
       "      <td>...</td>\n",
       "      <td>0</td>\n",
       "      <td>0</td>\n",
       "      <td>0</td>\n",
       "      <td>0</td>\n",
       "      <td>0</td>\n",
       "      <td>0</td>\n",
       "      <td>0</td>\n",
       "      <td>0</td>\n",
       "      <td>0</td>\n",
       "      <td>0</td>\n",
       "    </tr>\n",
       "    <tr>\n",
       "      <th>2</th>\n",
       "      <td>8cc8c611-a219-4f35-ad23-fdfd2656bd8a</td>\n",
       "      <td>660727</td>\n",
       "      <td>Landing Page Submission</td>\n",
       "      <td>Direct Traffic</td>\n",
       "      <td>0</td>\n",
       "      <td>0</td>\n",
       "      <td>1</td>\n",
       "      <td>2.0</td>\n",
       "      <td>1532</td>\n",
       "      <td>2.0</td>\n",
       "      <td>...</td>\n",
       "      <td>0</td>\n",
       "      <td>0</td>\n",
       "      <td>0</td>\n",
       "      <td>0</td>\n",
       "      <td>0</td>\n",
       "      <td>0</td>\n",
       "      <td>0</td>\n",
       "      <td>0</td>\n",
       "      <td>0</td>\n",
       "      <td>0</td>\n",
       "    </tr>\n",
       "    <tr>\n",
       "      <th>3</th>\n",
       "      <td>0cc2df48-7cf4-4e39-9de9-19797f9b38cc</td>\n",
       "      <td>660719</td>\n",
       "      <td>Landing Page Submission</td>\n",
       "      <td>Direct Traffic</td>\n",
       "      <td>0</td>\n",
       "      <td>0</td>\n",
       "      <td>0</td>\n",
       "      <td>1.0</td>\n",
       "      <td>305</td>\n",
       "      <td>1.0</td>\n",
       "      <td>...</td>\n",
       "      <td>0</td>\n",
       "      <td>0</td>\n",
       "      <td>0</td>\n",
       "      <td>0</td>\n",
       "      <td>0</td>\n",
       "      <td>0</td>\n",
       "      <td>0</td>\n",
       "      <td>0</td>\n",
       "      <td>0</td>\n",
       "      <td>0</td>\n",
       "    </tr>\n",
       "    <tr>\n",
       "      <th>4</th>\n",
       "      <td>3256f628-e534-4826-9d63-4a8b88782852</td>\n",
       "      <td>660681</td>\n",
       "      <td>Landing Page Submission</td>\n",
       "      <td>Google</td>\n",
       "      <td>0</td>\n",
       "      <td>0</td>\n",
       "      <td>1</td>\n",
       "      <td>2.0</td>\n",
       "      <td>1428</td>\n",
       "      <td>1.0</td>\n",
       "      <td>...</td>\n",
       "      <td>0</td>\n",
       "      <td>0</td>\n",
       "      <td>0</td>\n",
       "      <td>0</td>\n",
       "      <td>0</td>\n",
       "      <td>0</td>\n",
       "      <td>0</td>\n",
       "      <td>0</td>\n",
       "      <td>0</td>\n",
       "      <td>0</td>\n",
       "    </tr>\n",
       "  </tbody>\n",
       "</table>\n",
       "<p>5 rows × 102 columns</p>\n",
       "</div>"
      ],
      "text/plain": [
       "                            Prospect ID  Lead Number              Lead Origin  \\\n",
       "0  7927b2df-8bba-4d29-b9a2-b6e0beafe620       660737                      API   \n",
       "1  2a272436-5132-4136-86fa-dcc88c88f482       660728                      API   \n",
       "2  8cc8c611-a219-4f35-ad23-fdfd2656bd8a       660727  Landing Page Submission   \n",
       "3  0cc2df48-7cf4-4e39-9de9-19797f9b38cc       660719  Landing Page Submission   \n",
       "4  3256f628-e534-4826-9d63-4a8b88782852       660681  Landing Page Submission   \n",
       "\n",
       "      Lead Source  Do Not Email  Do Not Call  Converted  TotalVisits  \\\n",
       "0      Olark Chat             0            0          0          0.0   \n",
       "1  Organic Search             0            0          0          5.0   \n",
       "2  Direct Traffic             0            0          1          2.0   \n",
       "3  Direct Traffic             0            0          0          1.0   \n",
       "4          Google             0            0          1          2.0   \n",
       "\n",
       "   Total Time Spent on Website  Page Views Per Visit  ...  \\\n",
       "0                            0                   0.0  ...   \n",
       "1                          674                   2.5  ...   \n",
       "2                         1532                   2.0  ...   \n",
       "3                          305                   1.0  ...   \n",
       "4                         1428                   1.0  ...   \n",
       "\n",
       "  Lead Source_Reference Lead Source_Referral Sites  Lead Source_Social Media  \\\n",
       "0                     0                          0                         0   \n",
       "1                     0                          0                         0   \n",
       "2                     0                          0                         0   \n",
       "3                     0                          0                         0   \n",
       "4                     0                          0                         0   \n",
       "\n",
       "   Lead Source_WeLearn  Lead Source_Welingak Website  Lead Source_bing  \\\n",
       "0                    0                             0                 0   \n",
       "1                    0                             0                 0   \n",
       "2                    0                             0                 0   \n",
       "3                    0                             0                 0   \n",
       "4                    0                             0                 0   \n",
       "\n",
       "   Lead Source_blog  Lead Source_testone  Lead Source_welearnblog_Home  \\\n",
       "0                 0                    0                             0   \n",
       "1                 0                    0                             0   \n",
       "2                 0                    0                             0   \n",
       "3                 0                    0                             0   \n",
       "4                 0                    0                             0   \n",
       "\n",
       "   Lead Source_youtubechannel  \n",
       "0                           0  \n",
       "1                           0  \n",
       "2                           0  \n",
       "3                           0  \n",
       "4                           0  \n",
       "\n",
       "[5 rows x 102 columns]"
      ]
     },
     "execution_count": 54,
     "metadata": {},
     "output_type": "execute_result"
    }
   ],
   "source": [
    "# creating dummies for all the categorical variables\n",
    "\n",
    "# steps followed for creating dummy varibles\n",
    "# 1. get dummies stored in dataframe\n",
    "# 3. concating both the data frames\n",
    "# 4. drop former variables\n",
    "\n",
    "dum = pd.get_dummies(lead[[\"Lead Origin\", \"Last Activity\", \"Specialization\", \"Last Notable Activity\",\"Lead Source\"]])\n",
    "\n",
    "leadct = pd.concat([lead, dum], axis = 1)\n",
    "leadct.head()"
   ]
  },
  {
   "cell_type": "code",
   "execution_count": 55,
   "metadata": {},
   "outputs": [],
   "source": [
    "leadct.drop([\"Lead Origin\", \"Last Activity\", \"Specialization\", \"Last Notable Activity\",\"Lead Source\",\"Update me on Supply Chain Content\"], inplace = True, axis = 1)"
   ]
  },
  {
   "cell_type": "code",
   "execution_count": 56,
   "metadata": {},
   "outputs": [
    {
     "data": {
      "text/html": [
       "<div>\n",
       "<style scoped>\n",
       "    .dataframe tbody tr th:only-of-type {\n",
       "        vertical-align: middle;\n",
       "    }\n",
       "\n",
       "    .dataframe tbody tr th {\n",
       "        vertical-align: top;\n",
       "    }\n",
       "\n",
       "    .dataframe thead th {\n",
       "        text-align: right;\n",
       "    }\n",
       "</style>\n",
       "<table border=\"1\" class=\"dataframe\">\n",
       "  <thead>\n",
       "    <tr style=\"text-align: right;\">\n",
       "      <th></th>\n",
       "      <th>Prospect ID</th>\n",
       "      <th>Lead Number</th>\n",
       "      <th>Do Not Email</th>\n",
       "      <th>Do Not Call</th>\n",
       "      <th>Converted</th>\n",
       "      <th>TotalVisits</th>\n",
       "      <th>Total Time Spent on Website</th>\n",
       "      <th>Page Views Per Visit</th>\n",
       "      <th>Search</th>\n",
       "      <th>Magazine</th>\n",
       "      <th>...</th>\n",
       "      <th>Lead Source_Reference</th>\n",
       "      <th>Lead Source_Referral Sites</th>\n",
       "      <th>Lead Source_Social Media</th>\n",
       "      <th>Lead Source_WeLearn</th>\n",
       "      <th>Lead Source_Welingak Website</th>\n",
       "      <th>Lead Source_bing</th>\n",
       "      <th>Lead Source_blog</th>\n",
       "      <th>Lead Source_testone</th>\n",
       "      <th>Lead Source_welearnblog_Home</th>\n",
       "      <th>Lead Source_youtubechannel</th>\n",
       "    </tr>\n",
       "  </thead>\n",
       "  <tbody>\n",
       "    <tr>\n",
       "      <th>0</th>\n",
       "      <td>7927b2df-8bba-4d29-b9a2-b6e0beafe620</td>\n",
       "      <td>660737</td>\n",
       "      <td>0</td>\n",
       "      <td>0</td>\n",
       "      <td>0</td>\n",
       "      <td>0.0</td>\n",
       "      <td>0</td>\n",
       "      <td>0.0</td>\n",
       "      <td>0</td>\n",
       "      <td>0</td>\n",
       "      <td>...</td>\n",
       "      <td>0</td>\n",
       "      <td>0</td>\n",
       "      <td>0</td>\n",
       "      <td>0</td>\n",
       "      <td>0</td>\n",
       "      <td>0</td>\n",
       "      <td>0</td>\n",
       "      <td>0</td>\n",
       "      <td>0</td>\n",
       "      <td>0</td>\n",
       "    </tr>\n",
       "    <tr>\n",
       "      <th>1</th>\n",
       "      <td>2a272436-5132-4136-86fa-dcc88c88f482</td>\n",
       "      <td>660728</td>\n",
       "      <td>0</td>\n",
       "      <td>0</td>\n",
       "      <td>0</td>\n",
       "      <td>5.0</td>\n",
       "      <td>674</td>\n",
       "      <td>2.5</td>\n",
       "      <td>0</td>\n",
       "      <td>0</td>\n",
       "      <td>...</td>\n",
       "      <td>0</td>\n",
       "      <td>0</td>\n",
       "      <td>0</td>\n",
       "      <td>0</td>\n",
       "      <td>0</td>\n",
       "      <td>0</td>\n",
       "      <td>0</td>\n",
       "      <td>0</td>\n",
       "      <td>0</td>\n",
       "      <td>0</td>\n",
       "    </tr>\n",
       "    <tr>\n",
       "      <th>2</th>\n",
       "      <td>8cc8c611-a219-4f35-ad23-fdfd2656bd8a</td>\n",
       "      <td>660727</td>\n",
       "      <td>0</td>\n",
       "      <td>0</td>\n",
       "      <td>1</td>\n",
       "      <td>2.0</td>\n",
       "      <td>1532</td>\n",
       "      <td>2.0</td>\n",
       "      <td>0</td>\n",
       "      <td>0</td>\n",
       "      <td>...</td>\n",
       "      <td>0</td>\n",
       "      <td>0</td>\n",
       "      <td>0</td>\n",
       "      <td>0</td>\n",
       "      <td>0</td>\n",
       "      <td>0</td>\n",
       "      <td>0</td>\n",
       "      <td>0</td>\n",
       "      <td>0</td>\n",
       "      <td>0</td>\n",
       "    </tr>\n",
       "    <tr>\n",
       "      <th>3</th>\n",
       "      <td>0cc2df48-7cf4-4e39-9de9-19797f9b38cc</td>\n",
       "      <td>660719</td>\n",
       "      <td>0</td>\n",
       "      <td>0</td>\n",
       "      <td>0</td>\n",
       "      <td>1.0</td>\n",
       "      <td>305</td>\n",
       "      <td>1.0</td>\n",
       "      <td>0</td>\n",
       "      <td>0</td>\n",
       "      <td>...</td>\n",
       "      <td>0</td>\n",
       "      <td>0</td>\n",
       "      <td>0</td>\n",
       "      <td>0</td>\n",
       "      <td>0</td>\n",
       "      <td>0</td>\n",
       "      <td>0</td>\n",
       "      <td>0</td>\n",
       "      <td>0</td>\n",
       "      <td>0</td>\n",
       "    </tr>\n",
       "    <tr>\n",
       "      <th>4</th>\n",
       "      <td>3256f628-e534-4826-9d63-4a8b88782852</td>\n",
       "      <td>660681</td>\n",
       "      <td>0</td>\n",
       "      <td>0</td>\n",
       "      <td>1</td>\n",
       "      <td>2.0</td>\n",
       "      <td>1428</td>\n",
       "      <td>1.0</td>\n",
       "      <td>0</td>\n",
       "      <td>0</td>\n",
       "      <td>...</td>\n",
       "      <td>0</td>\n",
       "      <td>0</td>\n",
       "      <td>0</td>\n",
       "      <td>0</td>\n",
       "      <td>0</td>\n",
       "      <td>0</td>\n",
       "      <td>0</td>\n",
       "      <td>0</td>\n",
       "      <td>0</td>\n",
       "      <td>0</td>\n",
       "    </tr>\n",
       "  </tbody>\n",
       "</table>\n",
       "<p>5 rows × 96 columns</p>\n",
       "</div>"
      ],
      "text/plain": [
       "                            Prospect ID  Lead Number  Do Not Email  \\\n",
       "0  7927b2df-8bba-4d29-b9a2-b6e0beafe620       660737             0   \n",
       "1  2a272436-5132-4136-86fa-dcc88c88f482       660728             0   \n",
       "2  8cc8c611-a219-4f35-ad23-fdfd2656bd8a       660727             0   \n",
       "3  0cc2df48-7cf4-4e39-9de9-19797f9b38cc       660719             0   \n",
       "4  3256f628-e534-4826-9d63-4a8b88782852       660681             0   \n",
       "\n",
       "   Do Not Call  Converted  TotalVisits  Total Time Spent on Website  \\\n",
       "0            0          0          0.0                            0   \n",
       "1            0          0          5.0                          674   \n",
       "2            0          1          2.0                         1532   \n",
       "3            0          0          1.0                          305   \n",
       "4            0          1          2.0                         1428   \n",
       "\n",
       "   Page Views Per Visit  Search  Magazine  ...  Lead Source_Reference  \\\n",
       "0                   0.0       0         0  ...                      0   \n",
       "1                   2.5       0         0  ...                      0   \n",
       "2                   2.0       0         0  ...                      0   \n",
       "3                   1.0       0         0  ...                      0   \n",
       "4                   1.0       0         0  ...                      0   \n",
       "\n",
       "   Lead Source_Referral Sites  Lead Source_Social Media  Lead Source_WeLearn  \\\n",
       "0                           0                         0                    0   \n",
       "1                           0                         0                    0   \n",
       "2                           0                         0                    0   \n",
       "3                           0                         0                    0   \n",
       "4                           0                         0                    0   \n",
       "\n",
       "   Lead Source_Welingak Website  Lead Source_bing  Lead Source_blog  \\\n",
       "0                             0                 0                 0   \n",
       "1                             0                 0                 0   \n",
       "2                             0                 0                 0   \n",
       "3                             0                 0                 0   \n",
       "4                             0                 0                 0   \n",
       "\n",
       "   Lead Source_testone  Lead Source_welearnblog_Home  \\\n",
       "0                    0                             0   \n",
       "1                    0                             0   \n",
       "2                    0                             0   \n",
       "3                    0                             0   \n",
       "4                    0                             0   \n",
       "\n",
       "   Lead Source_youtubechannel  \n",
       "0                           0  \n",
       "1                           0  \n",
       "2                           0  \n",
       "3                           0  \n",
       "4                           0  \n",
       "\n",
       "[5 rows x 96 columns]"
      ]
     },
     "execution_count": 56,
     "metadata": {},
     "output_type": "execute_result"
    }
   ],
   "source": [
    "leadct.head()"
   ]
  },
  {
   "cell_type": "code",
   "execution_count": 57,
   "metadata": {},
   "outputs": [
    {
     "name": "stdout",
     "output_type": "stream",
     "text": [
      "<class 'pandas.core.frame.DataFrame'>\n",
      "Int64Index: 9049 entries, 0 to 9239\n",
      "Data columns (total 96 columns):\n",
      " #   Column                                              Non-Null Count  Dtype  \n",
      "---  ------                                              --------------  -----  \n",
      " 0   Prospect ID                                         9049 non-null   object \n",
      " 1   Lead Number                                         9049 non-null   int64  \n",
      " 2   Do Not Email                                        9049 non-null   int64  \n",
      " 3   Do Not Call                                         9049 non-null   int64  \n",
      " 4   Converted                                           9049 non-null   int64  \n",
      " 5   TotalVisits                                         9049 non-null   float64\n",
      " 6   Total Time Spent on Website                         9049 non-null   int64  \n",
      " 7   Page Views Per Visit                                9049 non-null   float64\n",
      " 8   Search                                              9049 non-null   int64  \n",
      " 9   Magazine                                            9049 non-null   int64  \n",
      " 10  Newspaper Article                                   9049 non-null   int64  \n",
      " 11  X Education Forums                                  9049 non-null   int64  \n",
      " 12  Newspaper                                           9049 non-null   int64  \n",
      " 13  Digital Advertisement                               9049 non-null   int64  \n",
      " 14  Through Recommendations                             9049 non-null   int64  \n",
      " 15  Receive More Updates About Our Courses              9049 non-null   int64  \n",
      " 16  Get updates on DM Content                           9049 non-null   int64  \n",
      " 17  I agree to pay the amount through cheque            9049 non-null   int64  \n",
      " 18  A free copy of Mastering The Interview              9049 non-null   int64  \n",
      " 19  Lead Origin_API                                     9049 non-null   uint8  \n",
      " 20  Lead Origin_Landing Page Submission                 9049 non-null   uint8  \n",
      " 21  Lead Origin_Lead Add Form                           9049 non-null   uint8  \n",
      " 22  Lead Origin_Lead Import                             9049 non-null   uint8  \n",
      " 23  Last Activity_Approached upfront                    9049 non-null   uint8  \n",
      " 24  Last Activity_Converted to Lead                     9049 non-null   uint8  \n",
      " 25  Last Activity_Email Bounced                         9049 non-null   uint8  \n",
      " 26  Last Activity_Email Link Clicked                    9049 non-null   uint8  \n",
      " 27  Last Activity_Email Marked Spam                     9049 non-null   uint8  \n",
      " 28  Last Activity_Email Opened                          9049 non-null   uint8  \n",
      " 29  Last Activity_Email Received                        9049 non-null   uint8  \n",
      " 30  Last Activity_Form Submitted on Website             9049 non-null   uint8  \n",
      " 31  Last Activity_Had a Phone Conversation              9049 non-null   uint8  \n",
      " 32  Last Activity_Olark Chat Conversation               9049 non-null   uint8  \n",
      " 33  Last Activity_Page Visited on Website               9049 non-null   uint8  \n",
      " 34  Last Activity_Resubscribed to emails                9049 non-null   uint8  \n",
      " 35  Last Activity_SMS Sent                              9049 non-null   uint8  \n",
      " 36  Last Activity_Unreachable                           9049 non-null   uint8  \n",
      " 37  Last Activity_Unsubscribed                          9049 non-null   uint8  \n",
      " 38  Last Activity_View in browser link Clicked          9049 non-null   uint8  \n",
      " 39  Last Activity_Visited Booth in Tradeshow            9049 non-null   uint8  \n",
      " 40  Last Activity_no source                             9049 non-null   uint8  \n",
      " 41  Specialization_Banking, Investment And Insurance    9049 non-null   uint8  \n",
      " 42  Specialization_Business Administration              9049 non-null   uint8  \n",
      " 43  Specialization_E-Business                           9049 non-null   uint8  \n",
      " 44  Specialization_E-COMMERCE                           9049 non-null   uint8  \n",
      " 45  Specialization_Finance Management                   9049 non-null   uint8  \n",
      " 46  Specialization_Healthcare Management                9049 non-null   uint8  \n",
      " 47  Specialization_Hospitality Management               9049 non-null   uint8  \n",
      " 48  Specialization_Human Resource Management            9049 non-null   uint8  \n",
      " 49  Specialization_IT Projects Management               9049 non-null   uint8  \n",
      " 50  Specialization_International Business               9049 non-null   uint8  \n",
      " 51  Specialization_Marketing Management                 9049 non-null   uint8  \n",
      " 52  Specialization_Media and Advertising                9049 non-null   uint8  \n",
      " 53  Specialization_No information                       9049 non-null   uint8  \n",
      " 54  Specialization_Operations Management                9049 non-null   uint8  \n",
      " 55  Specialization_Retail Management                    9049 non-null   uint8  \n",
      " 56  Specialization_Rural and Agribusiness               9049 non-null   uint8  \n",
      " 57  Specialization_Services Excellence                  9049 non-null   uint8  \n",
      " 58  Specialization_Supply Chain Management              9049 non-null   uint8  \n",
      " 59  Specialization_Travel and Tourism                   9049 non-null   uint8  \n",
      " 60  Last Notable Activity_Approached upfront            9049 non-null   uint8  \n",
      " 61  Last Notable Activity_Email Bounced                 9049 non-null   uint8  \n",
      " 62  Last Notable Activity_Email Link Clicked            9049 non-null   uint8  \n",
      " 63  Last Notable Activity_Email Marked Spam             9049 non-null   uint8  \n",
      " 64  Last Notable Activity_Email Opened                  9049 non-null   uint8  \n",
      " 65  Last Notable Activity_Email Received                9049 non-null   uint8  \n",
      " 66  Last Notable Activity_Form Submitted on Website     9049 non-null   uint8  \n",
      " 67  Last Notable Activity_Had a Phone Conversation      9049 non-null   uint8  \n",
      " 68  Last Notable Activity_Modified                      9049 non-null   uint8  \n",
      " 69  Last Notable Activity_Olark Chat Conversation       9049 non-null   uint8  \n",
      " 70  Last Notable Activity_Page Visited on Website       9049 non-null   uint8  \n",
      " 71  Last Notable Activity_Resubscribed to emails        9049 non-null   uint8  \n",
      " 72  Last Notable Activity_SMS Sent                      9049 non-null   uint8  \n",
      " 73  Last Notable Activity_Unreachable                   9049 non-null   uint8  \n",
      " 74  Last Notable Activity_Unsubscribed                  9049 non-null   uint8  \n",
      " 75  Last Notable Activity_View in browser link Clicked  9049 non-null   uint8  \n",
      " 76  Lead Source_Click2call                              9049 non-null   uint8  \n",
      " 77  Lead Source_Direct Traffic                          9049 non-null   uint8  \n",
      " 78  Lead Source_Facebook                                9049 non-null   uint8  \n",
      " 79  Lead Source_Google                                  9049 non-null   uint8  \n",
      " 80  Lead Source_Live Chat                               9049 non-null   uint8  \n",
      " 81  Lead Source_NC_EDM                                  9049 non-null   uint8  \n",
      " 82  Lead Source_Olark Chat                              9049 non-null   uint8  \n",
      " 83  Lead Source_Organic Search                          9049 non-null   uint8  \n",
      " 84  Lead Source_Pay per Click Ads                       9049 non-null   uint8  \n",
      " 85  Lead Source_Press_Release                           9049 non-null   uint8  \n",
      " 86  Lead Source_Reference                               9049 non-null   uint8  \n",
      " 87  Lead Source_Referral Sites                          9049 non-null   uint8  \n",
      " 88  Lead Source_Social Media                            9049 non-null   uint8  \n",
      " 89  Lead Source_WeLearn                                 9049 non-null   uint8  \n",
      " 90  Lead Source_Welingak Website                        9049 non-null   uint8  \n",
      " 91  Lead Source_bing                                    9049 non-null   uint8  \n",
      " 92  Lead Source_blog                                    9049 non-null   uint8  \n",
      " 93  Lead Source_testone                                 9049 non-null   uint8  \n",
      " 94  Lead Source_welearnblog_Home                        9049 non-null   uint8  \n",
      " 95  Lead Source_youtubechannel                          9049 non-null   uint8  \n",
      "dtypes: float64(2), int64(16), object(1), uint8(77)\n",
      "memory usage: 2.4+ MB\n"
     ]
    }
   ],
   "source": [
    "leadct.info()"
   ]
  },
  {
   "cell_type": "markdown",
   "metadata": {},
   "source": [
    "### 5. Train-Test split"
   ]
  },
  {
   "cell_type": "code",
   "execution_count": 58,
   "metadata": {},
   "outputs": [],
   "source": [
    "# dropping less relevant columns\n",
    "leadct.drop([\"Lead Number\", \"Prospect ID\"], axis =1, inplace =True)\n",
    "\n",
    "X = leadct.drop([\"Converted\"], axis =1)"
   ]
  },
  {
   "cell_type": "code",
   "execution_count": 59,
   "metadata": {},
   "outputs": [
    {
     "data": {
      "text/html": [
       "<div>\n",
       "<style scoped>\n",
       "    .dataframe tbody tr th:only-of-type {\n",
       "        vertical-align: middle;\n",
       "    }\n",
       "\n",
       "    .dataframe tbody tr th {\n",
       "        vertical-align: top;\n",
       "    }\n",
       "\n",
       "    .dataframe thead th {\n",
       "        text-align: right;\n",
       "    }\n",
       "</style>\n",
       "<table border=\"1\" class=\"dataframe\">\n",
       "  <thead>\n",
       "    <tr style=\"text-align: right;\">\n",
       "      <th></th>\n",
       "      <th>Converted</th>\n",
       "    </tr>\n",
       "  </thead>\n",
       "  <tbody>\n",
       "    <tr>\n",
       "      <th>0</th>\n",
       "      <td>0</td>\n",
       "    </tr>\n",
       "    <tr>\n",
       "      <th>1</th>\n",
       "      <td>0</td>\n",
       "    </tr>\n",
       "    <tr>\n",
       "      <th>2</th>\n",
       "      <td>1</td>\n",
       "    </tr>\n",
       "    <tr>\n",
       "      <th>3</th>\n",
       "      <td>0</td>\n",
       "    </tr>\n",
       "    <tr>\n",
       "      <th>4</th>\n",
       "      <td>1</td>\n",
       "    </tr>\n",
       "  </tbody>\n",
       "</table>\n",
       "</div>"
      ],
      "text/plain": [
       "   Converted\n",
       "0          0\n",
       "1          0\n",
       "2          1\n",
       "3          0\n",
       "4          1"
      ]
     },
     "execution_count": 59,
     "metadata": {},
     "output_type": "execute_result"
    }
   ],
   "source": [
    "# converting from array to dataframe\n",
    "y = leadct[\"Converted\"]\n",
    "y = pd.DataFrame(y)\n",
    "\n",
    "y.head()"
   ]
  },
  {
   "cell_type": "code",
   "execution_count": 60,
   "metadata": {},
   "outputs": [],
   "source": [
    "# splitting the dataset into train and test\n",
    "X_train, X_test, y_train, y_test = train_test_split(X, y, train_size=0.7, test_size=0.3, random_state=10)"
   ]
  },
  {
   "cell_type": "markdown",
   "metadata": {},
   "source": [
    "### 6. Feature scaling:"
   ]
  },
  {
   "cell_type": "code",
   "execution_count": 61,
   "metadata": {},
   "outputs": [],
   "source": [
    "# variables to be scaled:\n",
    "scal = [\"TotalVisits\" , \"Total Time Spent on Website\", \"Page Views Per Visit\"] "
   ]
  },
  {
   "cell_type": "code",
   "execution_count": 62,
   "metadata": {},
   "outputs": [
    {
     "data": {
      "text/html": [
       "<div>\n",
       "<style scoped>\n",
       "    .dataframe tbody tr th:only-of-type {\n",
       "        vertical-align: middle;\n",
       "    }\n",
       "\n",
       "    .dataframe tbody tr th {\n",
       "        vertical-align: top;\n",
       "    }\n",
       "\n",
       "    .dataframe thead th {\n",
       "        text-align: right;\n",
       "    }\n",
       "</style>\n",
       "<table border=\"1\" class=\"dataframe\">\n",
       "  <thead>\n",
       "    <tr style=\"text-align: right;\">\n",
       "      <th></th>\n",
       "      <th>Do Not Email</th>\n",
       "      <th>Do Not Call</th>\n",
       "      <th>TotalVisits</th>\n",
       "      <th>Total Time Spent on Website</th>\n",
       "      <th>Page Views Per Visit</th>\n",
       "      <th>Search</th>\n",
       "      <th>Magazine</th>\n",
       "      <th>Newspaper Article</th>\n",
       "      <th>X Education Forums</th>\n",
       "      <th>Newspaper</th>\n",
       "      <th>...</th>\n",
       "      <th>Lead Source_Reference</th>\n",
       "      <th>Lead Source_Referral Sites</th>\n",
       "      <th>Lead Source_Social Media</th>\n",
       "      <th>Lead Source_WeLearn</th>\n",
       "      <th>Lead Source_Welingak Website</th>\n",
       "      <th>Lead Source_bing</th>\n",
       "      <th>Lead Source_blog</th>\n",
       "      <th>Lead Source_testone</th>\n",
       "      <th>Lead Source_welearnblog_Home</th>\n",
       "      <th>Lead Source_youtubechannel</th>\n",
       "    </tr>\n",
       "  </thead>\n",
       "  <tbody>\n",
       "    <tr>\n",
       "      <th>9028</th>\n",
       "      <td>0</td>\n",
       "      <td>0</td>\n",
       "      <td>0.0000</td>\n",
       "      <td>0.000000</td>\n",
       "      <td>0.0000</td>\n",
       "      <td>0</td>\n",
       "      <td>0</td>\n",
       "      <td>0</td>\n",
       "      <td>0</td>\n",
       "      <td>0</td>\n",
       "      <td>...</td>\n",
       "      <td>0</td>\n",
       "      <td>0</td>\n",
       "      <td>0</td>\n",
       "      <td>0</td>\n",
       "      <td>0</td>\n",
       "      <td>0</td>\n",
       "      <td>0</td>\n",
       "      <td>0</td>\n",
       "      <td>0</td>\n",
       "      <td>0</td>\n",
       "    </tr>\n",
       "    <tr>\n",
       "      <th>6671</th>\n",
       "      <td>0</td>\n",
       "      <td>0</td>\n",
       "      <td>0.1250</td>\n",
       "      <td>0.252855</td>\n",
       "      <td>0.1250</td>\n",
       "      <td>0</td>\n",
       "      <td>0</td>\n",
       "      <td>0</td>\n",
       "      <td>0</td>\n",
       "      <td>0</td>\n",
       "      <td>...</td>\n",
       "      <td>0</td>\n",
       "      <td>0</td>\n",
       "      <td>0</td>\n",
       "      <td>0</td>\n",
       "      <td>0</td>\n",
       "      <td>0</td>\n",
       "      <td>0</td>\n",
       "      <td>0</td>\n",
       "      <td>0</td>\n",
       "      <td>0</td>\n",
       "    </tr>\n",
       "    <tr>\n",
       "      <th>8771</th>\n",
       "      <td>0</td>\n",
       "      <td>0</td>\n",
       "      <td>0.0000</td>\n",
       "      <td>0.000000</td>\n",
       "      <td>0.0000</td>\n",
       "      <td>0</td>\n",
       "      <td>0</td>\n",
       "      <td>0</td>\n",
       "      <td>0</td>\n",
       "      <td>0</td>\n",
       "      <td>...</td>\n",
       "      <td>0</td>\n",
       "      <td>0</td>\n",
       "      <td>0</td>\n",
       "      <td>0</td>\n",
       "      <td>0</td>\n",
       "      <td>0</td>\n",
       "      <td>0</td>\n",
       "      <td>0</td>\n",
       "      <td>0</td>\n",
       "      <td>0</td>\n",
       "    </tr>\n",
       "    <tr>\n",
       "      <th>2902</th>\n",
       "      <td>0</td>\n",
       "      <td>0</td>\n",
       "      <td>0.2500</td>\n",
       "      <td>0.127243</td>\n",
       "      <td>0.2500</td>\n",
       "      <td>0</td>\n",
       "      <td>0</td>\n",
       "      <td>0</td>\n",
       "      <td>0</td>\n",
       "      <td>0</td>\n",
       "      <td>...</td>\n",
       "      <td>0</td>\n",
       "      <td>0</td>\n",
       "      <td>0</td>\n",
       "      <td>0</td>\n",
       "      <td>0</td>\n",
       "      <td>0</td>\n",
       "      <td>0</td>\n",
       "      <td>0</td>\n",
       "      <td>0</td>\n",
       "      <td>0</td>\n",
       "    </tr>\n",
       "    <tr>\n",
       "      <th>945</th>\n",
       "      <td>0</td>\n",
       "      <td>0</td>\n",
       "      <td>0.1875</td>\n",
       "      <td>0.225666</td>\n",
       "      <td>0.1875</td>\n",
       "      <td>0</td>\n",
       "      <td>0</td>\n",
       "      <td>0</td>\n",
       "      <td>0</td>\n",
       "      <td>0</td>\n",
       "      <td>...</td>\n",
       "      <td>0</td>\n",
       "      <td>0</td>\n",
       "      <td>0</td>\n",
       "      <td>0</td>\n",
       "      <td>0</td>\n",
       "      <td>0</td>\n",
       "      <td>0</td>\n",
       "      <td>0</td>\n",
       "      <td>0</td>\n",
       "      <td>0</td>\n",
       "    </tr>\n",
       "  </tbody>\n",
       "</table>\n",
       "<p>5 rows × 93 columns</p>\n",
       "</div>"
      ],
      "text/plain": [
       "      Do Not Email  Do Not Call  TotalVisits  Total Time Spent on Website  \\\n",
       "9028             0            0       0.0000                     0.000000   \n",
       "6671             0            0       0.1250                     0.252855   \n",
       "8771             0            0       0.0000                     0.000000   \n",
       "2902             0            0       0.2500                     0.127243   \n",
       "945              0            0       0.1875                     0.225666   \n",
       "\n",
       "      Page Views Per Visit  Search  Magazine  Newspaper Article  \\\n",
       "9028                0.0000       0         0                  0   \n",
       "6671                0.1250       0         0                  0   \n",
       "8771                0.0000       0         0                  0   \n",
       "2902                0.2500       0         0                  0   \n",
       "945                 0.1875       0         0                  0   \n",
       "\n",
       "      X Education Forums  Newspaper  ...  Lead Source_Reference  \\\n",
       "9028                   0          0  ...                      0   \n",
       "6671                   0          0  ...                      0   \n",
       "8771                   0          0  ...                      0   \n",
       "2902                   0          0  ...                      0   \n",
       "945                    0          0  ...                      0   \n",
       "\n",
       "      Lead Source_Referral Sites  Lead Source_Social Media  \\\n",
       "9028                           0                         0   \n",
       "6671                           0                         0   \n",
       "8771                           0                         0   \n",
       "2902                           0                         0   \n",
       "945                            0                         0   \n",
       "\n",
       "      Lead Source_WeLearn  Lead Source_Welingak Website  Lead Source_bing  \\\n",
       "9028                    0                             0                 0   \n",
       "6671                    0                             0                 0   \n",
       "8771                    0                             0                 0   \n",
       "2902                    0                             0                 0   \n",
       "945                     0                             0                 0   \n",
       "\n",
       "      Lead Source_blog  Lead Source_testone  Lead Source_welearnblog_Home  \\\n",
       "9028                 0                    0                             0   \n",
       "6671                 0                    0                             0   \n",
       "8771                 0                    0                             0   \n",
       "2902                 0                    0                             0   \n",
       "945                  0                    0                             0   \n",
       "\n",
       "      Lead Source_youtubechannel  \n",
       "9028                           0  \n",
       "6671                           0  \n",
       "8771                           0  \n",
       "2902                           0  \n",
       "945                            0  \n",
       "\n",
       "[5 rows x 93 columns]"
      ]
     },
     "execution_count": 62,
     "metadata": {},
     "output_type": "execute_result"
    }
   ],
   "source": [
    "# scaling variables \n",
    "from sklearn.preprocessing import MinMaxScaler\n",
    "scaler = MinMaxScaler()\n",
    "\n",
    "X_train[scal] = scaler.fit_transform(X_train[scal])\n",
    "X_train.head()"
   ]
  },
  {
   "cell_type": "markdown",
   "metadata": {},
   "source": [
    "### 7. Model building"
   ]
  },
  {
   "cell_type": "markdown",
   "metadata": {},
   "source": [
    "##### Model_1"
   ]
  },
  {
   "cell_type": "code",
   "execution_count": 63,
   "metadata": {
    "scrolled": true
   },
   "outputs": [
    {
     "data": {
      "text/html": [
       "<table class=\"simpletable\">\n",
       "<caption>Generalized Linear Model Regression Results</caption>\n",
       "<tr>\n",
       "  <th>Dep. Variable:</th>       <td>Converted</td>    <th>  No. Observations:  </th>  <td>  6334</td> \n",
       "</tr>\n",
       "<tr>\n",
       "  <th>Model:</th>                  <td>GLM</td>       <th>  Df Residuals:      </th>  <td>  6257</td> \n",
       "</tr>\n",
       "<tr>\n",
       "  <th>Model Family:</th>        <td>Binomial</td>     <th>  Df Model:          </th>  <td>    76</td> \n",
       "</tr>\n",
       "<tr>\n",
       "  <th>Link Function:</th>         <td>logit</td>      <th>  Scale:             </th> <td>  1.0000</td>\n",
       "</tr>\n",
       "<tr>\n",
       "  <th>Method:</th>                <td>IRLS</td>       <th>  Log-Likelihood:    </th> <td>     nan</td>\n",
       "</tr>\n",
       "<tr>\n",
       "  <th>Date:</th>            <td>Mon, 09 Aug 2021</td> <th>  Deviance:          </th> <td>     nan</td>\n",
       "</tr>\n",
       "<tr>\n",
       "  <th>Time:</th>                <td>10:56:41</td>     <th>  Pearson chi2:      </th> <td>7.83e+18</td>\n",
       "</tr>\n",
       "<tr>\n",
       "  <th>No. Iterations:</th>         <td>100</td>       <th>                     </th>     <td> </td>   \n",
       "</tr>\n",
       "<tr>\n",
       "  <th>Covariance Type:</th>     <td>nonrobust</td>    <th>                     </th>     <td> </td>   \n",
       "</tr>\n",
       "</table>\n",
       "<table class=\"simpletable\">\n",
       "<tr>\n",
       "                           <td></td>                             <th>coef</th>     <th>std err</th>      <th>z</th>      <th>P>|z|</th>  <th>[0.025</th>    <th>0.975]</th>  \n",
       "</tr>\n",
       "<tr>\n",
       "  <th>const</th>                                              <td>-6.075e+14</td> <td> 1.17e+07</td> <td>-5.17e+07</td> <td> 0.000</td> <td>-6.08e+14</td> <td>-6.08e+14</td>\n",
       "</tr>\n",
       "<tr>\n",
       "  <th>Do Not Email</th>                                       <td>-1.548e+14</td> <td> 4.53e+06</td> <td>-3.42e+07</td> <td> 0.000</td> <td>-1.55e+14</td> <td>-1.55e+14</td>\n",
       "</tr>\n",
       "<tr>\n",
       "  <th>Do Not Call</th>                                        <td>-2.402e+14</td> <td> 4.77e+07</td> <td>-5.03e+06</td> <td> 0.000</td> <td> -2.4e+14</td> <td> -2.4e+14</td>\n",
       "</tr>\n",
       "<tr>\n",
       "  <th>TotalVisits</th>                                        <td> 4.953e+14</td> <td> 7.78e+06</td> <td> 6.36e+07</td> <td> 0.000</td> <td> 4.95e+14</td> <td> 4.95e+14</td>\n",
       "</tr>\n",
       "<tr>\n",
       "  <th>Total Time Spent on Website</th>                        <td> 2.817e+15</td> <td> 3.43e+06</td> <td> 8.22e+08</td> <td> 0.000</td> <td> 2.82e+15</td> <td> 2.82e+15</td>\n",
       "</tr>\n",
       "<tr>\n",
       "  <th>Page Views Per Visit</th>                               <td>-1.021e+15</td> <td> 1.14e+07</td> <td>-8.94e+07</td> <td> 0.000</td> <td>-1.02e+15</td> <td>-1.02e+15</td>\n",
       "</tr>\n",
       "<tr>\n",
       "  <th>Search</th>                                             <td>-3.798e+14</td> <td> 2.29e+07</td> <td>-1.66e+07</td> <td> 0.000</td> <td> -3.8e+14</td> <td> -3.8e+14</td>\n",
       "</tr>\n",
       "<tr>\n",
       "  <th>Magazine</th>                                           <td>   20.4518</td> <td> 2.17e-07</td> <td> 9.41e+07</td> <td> 0.000</td> <td>   20.452</td> <td>   20.452</td>\n",
       "</tr>\n",
       "<tr>\n",
       "  <th>Newspaper Article</th>                                  <td>    4.2706</td> <td> 1.06e-07</td> <td> 4.03e+07</td> <td> 0.000</td> <td>    4.271</td> <td>    4.271</td>\n",
       "</tr>\n",
       "<tr>\n",
       "  <th>X Education Forums</th>                                 <td>  -18.1947</td> <td> 2.07e-07</td> <td> -8.8e+07</td> <td> 0.000</td> <td>  -18.195</td> <td>  -18.195</td>\n",
       "</tr>\n",
       "<tr>\n",
       "  <th>Newspaper</th>                                          <td>-6.672e+15</td> <td> 6.73e+07</td> <td>-9.91e+07</td> <td> 0.000</td> <td>-6.67e+15</td> <td>-6.67e+15</td>\n",
       "</tr>\n",
       "<tr>\n",
       "  <th>Digital Advertisement</th>                              <td>-6.616e+14</td> <td> 4.76e+07</td> <td>-1.39e+07</td> <td> 0.000</td> <td>-6.62e+14</td> <td>-6.62e+14</td>\n",
       "</tr>\n",
       "<tr>\n",
       "  <th>Through Recommendations</th>                            <td> 7.378e+13</td> <td> 3.43e+07</td> <td> 2.15e+06</td> <td> 0.000</td> <td> 7.38e+13</td> <td> 7.38e+13</td>\n",
       "</tr>\n",
       "<tr>\n",
       "  <th>Receive More Updates About Our Courses</th>             <td>    6.4232</td> <td>    2e-07</td> <td> 3.21e+07</td> <td> 0.000</td> <td>    6.423</td> <td>    6.423</td>\n",
       "</tr>\n",
       "<tr>\n",
       "  <th>Get updates on DM Content</th>                          <td>  -12.9047</td> <td> 2.19e-07</td> <td> -5.9e+07</td> <td> 0.000</td> <td>  -12.905</td> <td>  -12.905</td>\n",
       "</tr>\n",
       "<tr>\n",
       "  <th>I agree to pay the amount through cheque</th>           <td>   20.3160</td> <td> 2.43e-07</td> <td> 8.36e+07</td> <td> 0.000</td> <td>   20.316</td> <td>   20.316</td>\n",
       "</tr>\n",
       "<tr>\n",
       "  <th>A free copy of Mastering The Interview</th>             <td>-2.433e+14</td> <td> 2.74e+06</td> <td>-8.89e+07</td> <td> 0.000</td> <td>-2.43e+14</td> <td>-2.43e+14</td>\n",
       "</tr>\n",
       "<tr>\n",
       "  <th>Lead Origin_API</th>                                    <td>-6.943e+14</td> <td> 1.13e+07</td> <td>-6.13e+07</td> <td> 0.000</td> <td>-6.94e+14</td> <td>-6.94e+14</td>\n",
       "</tr>\n",
       "<tr>\n",
       "  <th>Lead Origin_Landing Page Submission</th>                <td>-5.092e+14</td> <td> 1.13e+07</td> <td>-4.51e+07</td> <td> 0.000</td> <td>-5.09e+14</td> <td>-5.09e+14</td>\n",
       "</tr>\n",
       "<tr>\n",
       "  <th>Lead Origin_Lead Add Form</th>                          <td> 9.577e+14</td> <td> 1.48e+07</td> <td> 6.46e+07</td> <td> 0.000</td> <td> 9.58e+14</td> <td> 9.58e+14</td>\n",
       "</tr>\n",
       "<tr>\n",
       "  <th>Lead Origin_Lead Import</th>                            <td>-3.618e+14</td> <td> 3.77e+07</td> <td>-9.59e+06</td> <td> 0.000</td> <td>-3.62e+14</td> <td>-3.62e+14</td>\n",
       "</tr>\n",
       "<tr>\n",
       "  <th>Last Activity_Approached upfront</th>                   <td> 2.731e+15</td> <td> 3.18e+07</td> <td> 8.58e+07</td> <td> 0.000</td> <td> 2.73e+15</td> <td> 2.73e+15</td>\n",
       "</tr>\n",
       "<tr>\n",
       "  <th>Last Activity_Converted to Lead</th>                    <td>-3.439e+14</td> <td> 6.59e+06</td> <td>-5.22e+07</td> <td> 0.000</td> <td>-3.44e+14</td> <td>-3.44e+14</td>\n",
       "</tr>\n",
       "<tr>\n",
       "  <th>Last Activity_Email Bounced</th>                        <td>-9.546e+14</td> <td> 7.68e+06</td> <td>-1.24e+08</td> <td> 0.000</td> <td>-9.55e+14</td> <td>-9.55e+14</td>\n",
       "</tr>\n",
       "<tr>\n",
       "  <th>Last Activity_Email Link Clicked</th>                   <td>-4.224e+14</td> <td> 9.21e+06</td> <td>-4.59e+07</td> <td> 0.000</td> <td>-4.22e+14</td> <td>-4.22e+14</td>\n",
       "</tr>\n",
       "<tr>\n",
       "  <th>Last Activity_Email Marked Spam</th>                    <td> 3.468e+15</td> <td> 3.19e+07</td> <td> 1.09e+08</td> <td> 0.000</td> <td> 3.47e+15</td> <td> 3.47e+15</td>\n",
       "</tr>\n",
       "<tr>\n",
       "  <th>Last Activity_Email Opened</th>                         <td> 5.789e+14</td> <td> 6.13e+06</td> <td> 9.45e+07</td> <td> 0.000</td> <td> 5.79e+14</td> <td> 5.79e+14</td>\n",
       "</tr>\n",
       "<tr>\n",
       "  <th>Last Activity_Email Received</th>                       <td> 1.243e+15</td> <td> 3.18e+07</td> <td> 3.91e+07</td> <td> 0.000</td> <td> 1.24e+15</td> <td> 1.24e+15</td>\n",
       "</tr>\n",
       "<tr>\n",
       "  <th>Last Activity_Form Submitted on Website</th>            <td> -5.18e+14</td> <td> 9.02e+06</td> <td>-5.74e+07</td> <td> 0.000</td> <td>-5.18e+14</td> <td>-5.18e+14</td>\n",
       "</tr>\n",
       "<tr>\n",
       "  <th>Last Activity_Had a Phone Conversation</th>             <td> -8.55e+14</td> <td> 2.04e+07</td> <td> -4.2e+07</td> <td> 0.000</td> <td>-8.55e+14</td> <td>-8.55e+14</td>\n",
       "</tr>\n",
       "<tr>\n",
       "  <th>Last Activity_Olark Chat Conversation</th>              <td> 4.938e+14</td> <td>  6.1e+06</td> <td>  8.1e+07</td> <td> 0.000</td> <td> 4.94e+14</td> <td> 4.94e+14</td>\n",
       "</tr>\n",
       "<tr>\n",
       "  <th>Last Activity_Page Visited on Website</th>              <td>-2.584e+14</td> <td> 6.75e+06</td> <td>-3.83e+07</td> <td> 0.000</td> <td>-2.58e+14</td> <td>-2.58e+14</td>\n",
       "</tr>\n",
       "<tr>\n",
       "  <th>Last Activity_Resubscribed to emails</th>               <td>   -0.4770</td> <td> 1.69e-07</td> <td>-2.82e+06</td> <td> 0.000</td> <td>   -0.477</td> <td>   -0.477</td>\n",
       "</tr>\n",
       "<tr>\n",
       "  <th>Last Activity_SMS Sent</th>                             <td> 1.978e+14</td> <td> 6.14e+06</td> <td> 3.22e+07</td> <td> 0.000</td> <td> 1.98e+14</td> <td> 1.98e+14</td>\n",
       "</tr>\n",
       "<tr>\n",
       "  <th>Last Activity_Unreachable</th>                          <td>-9.846e+14</td> <td> 1.15e+07</td> <td>-8.55e+07</td> <td> 0.000</td> <td>-9.85e+14</td> <td>-9.85e+14</td>\n",
       "</tr>\n",
       "<tr>\n",
       "  <th>Last Activity_Unsubscribed</th>                         <td>  1.46e+14</td> <td> 1.96e+07</td> <td> 7.43e+06</td> <td> 0.000</td> <td> 1.46e+14</td> <td> 1.46e+14</td>\n",
       "</tr>\n",
       "<tr>\n",
       "  <th>Last Activity_View in browser link Clicked</th>         <td>-3.156e+15</td> <td> 3.63e+07</td> <td> -8.7e+07</td> <td> 0.000</td> <td>-3.16e+15</td> <td>-3.16e+15</td>\n",
       "</tr>\n",
       "<tr>\n",
       "  <th>Last Activity_Visited Booth in Tradeshow</th>           <td>    2.0850</td> <td>  1.3e-07</td> <td> 1.61e+07</td> <td> 0.000</td> <td>    2.085</td> <td>    2.085</td>\n",
       "</tr>\n",
       "<tr>\n",
       "  <th>Last Activity_no source</th>                            <td>-1.973e+15</td> <td>    1e+07</td> <td>-1.97e+08</td> <td> 0.000</td> <td>-1.97e+15</td> <td>-1.97e+15</td>\n",
       "</tr>\n",
       "<tr>\n",
       "  <th>Specialization_Banking, Investment And Insurance</th>   <td> 1.841e+14</td> <td> 4.49e+06</td> <td>  4.1e+07</td> <td> 0.000</td> <td> 1.84e+14</td> <td> 1.84e+14</td>\n",
       "</tr>\n",
       "<tr>\n",
       "  <th>Specialization_Business Administration</th>             <td> 3.975e+13</td> <td>  4.3e+06</td> <td> 9.25e+06</td> <td> 0.000</td> <td> 3.97e+13</td> <td> 3.97e+13</td>\n",
       "</tr>\n",
       "<tr>\n",
       "  <th>Specialization_E-Business</th>                          <td> 2.342e+14</td> <td> 1.06e+07</td> <td> 2.21e+07</td> <td> 0.000</td> <td> 2.34e+14</td> <td> 2.34e+14</td>\n",
       "</tr>\n",
       "<tr>\n",
       "  <th>Specialization_E-COMMERCE</th>                          <td>-2.586e+14</td> <td> 7.45e+06</td> <td>-3.47e+07</td> <td> 0.000</td> <td>-2.59e+14</td> <td>-2.59e+14</td>\n",
       "</tr>\n",
       "<tr>\n",
       "  <th>Specialization_Finance Management</th>                  <td> 9.538e+13</td> <td> 2.94e+06</td> <td> 3.24e+07</td> <td> 0.000</td> <td> 9.54e+13</td> <td> 9.54e+13</td>\n",
       "</tr>\n",
       "<tr>\n",
       "  <th>Specialization_Healthcare Management</th>               <td> 1.787e+14</td> <td> 6.42e+06</td> <td> 2.78e+07</td> <td> 0.000</td> <td> 1.79e+14</td> <td> 1.79e+14</td>\n",
       "</tr>\n",
       "<tr>\n",
       "  <th>Specialization_Hospitality Management</th>              <td>-3.112e+14</td> <td> 7.62e+06</td> <td>-4.08e+07</td> <td> 0.000</td> <td>-3.11e+14</td> <td>-3.11e+14</td>\n",
       "</tr>\n",
       "<tr>\n",
       "  <th>Specialization_Human Resource Management</th>           <td> -2.99e+12</td> <td> 3.14e+06</td> <td>-9.52e+05</td> <td> 0.000</td> <td>-2.99e+12</td> <td>-2.99e+12</td>\n",
       "</tr>\n",
       "<tr>\n",
       "  <th>Specialization_IT Projects Management</th>              <td> 4.175e+13</td> <td> 4.33e+06</td> <td> 9.64e+06</td> <td> 0.000</td> <td> 4.17e+13</td> <td> 4.17e+13</td>\n",
       "</tr>\n",
       "<tr>\n",
       "  <th>Specialization_International Business</th>              <td>-1.689e+14</td> <td> 5.98e+06</td> <td>-2.82e+07</td> <td> 0.000</td> <td>-1.69e+14</td> <td>-1.69e+14</td>\n",
       "</tr>\n",
       "<tr>\n",
       "  <th>Specialization_Marketing Management</th>                <td> 4.833e+13</td> <td> 3.09e+06</td> <td> 1.56e+07</td> <td> 0.000</td> <td> 4.83e+13</td> <td> 4.83e+13</td>\n",
       "</tr>\n",
       "<tr>\n",
       "  <th>Specialization_Media and Advertising</th>               <td>-3.702e+14</td> <td> 5.83e+06</td> <td>-6.35e+07</td> <td> 0.000</td> <td> -3.7e+14</td> <td> -3.7e+14</td>\n",
       "</tr>\n",
       "<tr>\n",
       "  <th>Specialization_No information</th>                      <td>-3.416e+14</td> <td> 3.13e+06</td> <td>-1.09e+08</td> <td> 0.000</td> <td>-3.42e+14</td> <td>-3.42e+14</td>\n",
       "</tr>\n",
       "<tr>\n",
       "  <th>Specialization_Operations Management</th>               <td> 2.141e+14</td> <td> 3.74e+06</td> <td> 5.73e+07</td> <td> 0.000</td> <td> 2.14e+14</td> <td> 2.14e+14</td>\n",
       "</tr>\n",
       "<tr>\n",
       "  <th>Specialization_Retail Management</th>                   <td>-1.155e+14</td> <td> 8.07e+06</td> <td>-1.43e+07</td> <td> 0.000</td> <td>-1.15e+14</td> <td>-1.15e+14</td>\n",
       "</tr>\n",
       "<tr>\n",
       "  <th>Specialization_Rural and Agribusiness</th>              <td> 5.749e+13</td> <td> 9.17e+06</td> <td> 6.27e+06</td> <td> 0.000</td> <td> 5.75e+13</td> <td> 5.75e+13</td>\n",
       "</tr>\n",
       "<tr>\n",
       "  <th>Specialization_Services Excellence</th>                 <td>-3.448e+14</td> <td> 1.12e+07</td> <td>-3.07e+07</td> <td> 0.000</td> <td>-3.45e+14</td> <td>-3.45e+14</td>\n",
       "</tr>\n",
       "<tr>\n",
       "  <th>Specialization_Supply Chain Management</th>             <td> 1.843e+14</td> <td> 4.55e+06</td> <td> 4.05e+07</td> <td> 0.000</td> <td> 1.84e+14</td> <td> 1.84e+14</td>\n",
       "</tr>\n",
       "<tr>\n",
       "  <th>Specialization_Travel and Tourism</th>                  <td> 2.806e+13</td> <td> 5.66e+06</td> <td> 4.96e+06</td> <td> 0.000</td> <td> 2.81e+13</td> <td> 2.81e+13</td>\n",
       "</tr>\n",
       "<tr>\n",
       "  <th>Last Notable Activity_Approached upfront</th>           <td>   -4.8674</td> <td> 6.95e-08</td> <td>-7.01e+07</td> <td> 0.000</td> <td>   -4.867</td> <td>   -4.867</td>\n",
       "</tr>\n",
       "<tr>\n",
       "  <th>Last Notable Activity_Email Bounced</th>                <td> 7.109e+14</td> <td> 1.39e+07</td> <td> 5.11e+07</td> <td> 0.000</td> <td> 7.11e+14</td> <td> 7.11e+14</td>\n",
       "</tr>\n",
       "<tr>\n",
       "  <th>Last Notable Activity_Email Link Clicked</th>           <td> 6.197e+14</td> <td> 1.31e+07</td> <td> 4.74e+07</td> <td> 0.000</td> <td>  6.2e+14</td> <td>  6.2e+14</td>\n",
       "</tr>\n",
       "<tr>\n",
       "  <th>Last Notable Activity_Email Marked Spam</th>            <td> 3.468e+15</td> <td> 3.19e+07</td> <td> 1.09e+08</td> <td> 0.000</td> <td> 3.47e+15</td> <td> 3.47e+15</td>\n",
       "</tr>\n",
       "<tr>\n",
       "  <th>Last Notable Activity_Email Opened</th>                 <td>-7.215e+14</td> <td> 9.73e+06</td> <td>-7.42e+07</td> <td> 0.000</td> <td>-7.22e+14</td> <td>-7.22e+14</td>\n",
       "</tr>\n",
       "<tr>\n",
       "  <th>Last Notable Activity_Email Received</th>               <td> 1.243e+15</td> <td> 3.18e+07</td> <td> 3.91e+07</td> <td> 0.000</td> <td> 1.24e+15</td> <td> 1.24e+15</td>\n",
       "</tr>\n",
       "<tr>\n",
       "  <th>Last Notable Activity_Form Submitted on Website</th>    <td>-4.882e+15</td> <td> 6.32e+07</td> <td>-7.73e+07</td> <td> 0.000</td> <td>-4.88e+15</td> <td>-4.88e+15</td>\n",
       "</tr>\n",
       "<tr>\n",
       "  <th>Last Notable Activity_Had a Phone Conversation</th>     <td> 3.021e+15</td> <td> 2.92e+07</td> <td> 1.04e+08</td> <td> 0.000</td> <td> 3.02e+15</td> <td> 3.02e+15</td>\n",
       "</tr>\n",
       "<tr>\n",
       "  <th>Last Notable Activity_Modified</th>                     <td>-3.421e+14</td> <td> 9.15e+06</td> <td>-3.74e+07</td> <td> 0.000</td> <td>-3.42e+14</td> <td>-3.42e+14</td>\n",
       "</tr>\n",
       "<tr>\n",
       "  <th>Last Notable Activity_Olark Chat Conversation</th>      <td>-7.918e+14</td> <td>  1.1e+07</td> <td> -7.2e+07</td> <td> 0.000</td> <td>-7.92e+14</td> <td>-7.92e+14</td>\n",
       "</tr>\n",
       "<tr>\n",
       "  <th>Last Notable Activity_Page Visited on Website</th>      <td>-6.029e+13</td> <td>  1.1e+07</td> <td>-5.49e+06</td> <td> 0.000</td> <td>-6.03e+13</td> <td>-6.03e+13</td>\n",
       "</tr>\n",
       "<tr>\n",
       "  <th>Last Notable Activity_Resubscribed to emails</th>       <td>    0.8443</td> <td> 1.34e-08</td> <td> 6.31e+07</td> <td> 0.000</td> <td>    0.844</td> <td>    0.844</td>\n",
       "</tr>\n",
       "<tr>\n",
       "  <th>Last Notable Activity_SMS Sent</th>                     <td>-1.173e+15</td> <td> 9.81e+06</td> <td> -1.2e+08</td> <td> 0.000</td> <td>-1.17e+15</td> <td>-1.17e+15</td>\n",
       "</tr>\n",
       "<tr>\n",
       "  <th>Last Notable Activity_Unreachable</th>                  <td>  7.14e+14</td> <td> 1.95e+07</td> <td> 3.66e+07</td> <td> 0.000</td> <td> 7.14e+14</td> <td> 7.14e+14</td>\n",
       "</tr>\n",
       "<tr>\n",
       "  <th>Last Notable Activity_Unsubscribed</th>                 <td>-9.065e+13</td> <td> 2.38e+07</td> <td>-3.81e+06</td> <td> 0.000</td> <td>-9.06e+13</td> <td>-9.06e+13</td>\n",
       "</tr>\n",
       "<tr>\n",
       "  <th>Last Notable Activity_View in browser link Clicked</th> <td>-2.323e+15</td> <td> 7.21e+07</td> <td>-3.22e+07</td> <td> 0.000</td> <td>-2.32e+15</td> <td>-2.32e+15</td>\n",
       "</tr>\n",
       "<tr>\n",
       "  <th>Lead Source_Click2call</th>                             <td>-2.214e+15</td> <td>    4e+07</td> <td>-5.54e+07</td> <td> 0.000</td> <td>-2.21e+15</td> <td>-2.21e+15</td>\n",
       "</tr>\n",
       "<tr>\n",
       "  <th>Lead Source_Direct Traffic</th>                         <td> 8.555e+14</td> <td>  1.1e+07</td> <td> 7.77e+07</td> <td> 0.000</td> <td> 8.55e+14</td> <td> 8.55e+14</td>\n",
       "</tr>\n",
       "<tr>\n",
       "  <th>Lead Source_Facebook</th>                               <td> 1.569e+15</td> <td> 4.63e+07</td> <td> 3.39e+07</td> <td> 0.000</td> <td> 1.57e+15</td> <td> 1.57e+15</td>\n",
       "</tr>\n",
       "<tr>\n",
       "  <th>Lead Source_Google</th>                                 <td> 9.847e+14</td> <td> 1.08e+07</td> <td> 9.09e+07</td> <td> 0.000</td> <td> 9.85e+14</td> <td> 9.85e+14</td>\n",
       "</tr>\n",
       "<tr>\n",
       "  <th>Lead Source_Live Chat</th>                              <td> 4.948e+15</td> <td> 4.76e+07</td> <td> 1.04e+08</td> <td> 0.000</td> <td> 4.95e+15</td> <td> 4.95e+15</td>\n",
       "</tr>\n",
       "<tr>\n",
       "  <th>Lead Source_NC_EDM</th>                                 <td> 2.839e+15</td> <td> 6.48e+07</td> <td> 4.38e+07</td> <td> 0.000</td> <td> 2.84e+15</td> <td> 2.84e+15</td>\n",
       "</tr>\n",
       "<tr>\n",
       "  <th>Lead Source_Olark Chat</th>                             <td> 6.398e+14</td> <td> 1.12e+07</td> <td> 5.72e+07</td> <td> 0.000</td> <td>  6.4e+14</td> <td>  6.4e+14</td>\n",
       "</tr>\n",
       "<tr>\n",
       "  <th>Lead Source_Organic Search</th>                         <td> 1.002e+15</td> <td> 1.11e+07</td> <td> 9.02e+07</td> <td> 0.000</td> <td>    1e+15</td> <td>    1e+15</td>\n",
       "</tr>\n",
       "<tr>\n",
       "  <th>Lead Source_Pay per Click Ads</th>                      <td>-4.234e+15</td> <td> 6.48e+07</td> <td>-6.53e+07</td> <td> 0.000</td> <td>-4.23e+15</td> <td>-4.23e+15</td>\n",
       "</tr>\n",
       "<tr>\n",
       "  <th>Lead Source_Press_Release</th>                          <td>-1.545e+15</td> <td>  4.7e+07</td> <td>-3.29e+07</td> <td> 0.000</td> <td>-1.55e+15</td> <td>-1.55e+15</td>\n",
       "</tr>\n",
       "<tr>\n",
       "  <th>Lead Source_Reference</th>                              <td> 1.144e+15</td> <td> 1.55e+07</td> <td> 7.38e+07</td> <td> 0.000</td> <td> 1.14e+15</td> <td> 1.14e+15</td>\n",
       "</tr>\n",
       "<tr>\n",
       "  <th>Lead Source_Referral Sites</th>                         <td> 1.042e+15</td> <td> 1.28e+07</td> <td> 8.12e+07</td> <td> 0.000</td> <td> 1.04e+15</td> <td> 1.04e+15</td>\n",
       "</tr>\n",
       "<tr>\n",
       "  <th>Lead Source_Social Media</th>                           <td> 3.419e+15</td> <td>  6.5e+07</td> <td> 5.26e+07</td> <td> 0.000</td> <td> 3.42e+15</td> <td> 3.42e+15</td>\n",
       "</tr>\n",
       "<tr>\n",
       "  <th>Lead Source_WeLearn</th>                                <td> 3.448e+15</td> <td> 6.48e+07</td> <td> 5.32e+07</td> <td> 0.000</td> <td> 3.45e+15</td> <td> 3.45e+15</td>\n",
       "</tr>\n",
       "<tr>\n",
       "  <th>Lead Source_Welingak Website</th>                       <td> 2.029e+15</td> <td> 1.65e+07</td> <td> 1.23e+08</td> <td> 0.000</td> <td> 2.03e+15</td> <td> 2.03e+15</td>\n",
       "</tr>\n",
       "<tr>\n",
       "  <th>Lead Source_bing</th>                                   <td> 1.895e+14</td> <td> 3.06e+07</td> <td>  6.2e+06</td> <td> 0.000</td> <td> 1.89e+14</td> <td> 1.89e+14</td>\n",
       "</tr>\n",
       "<tr>\n",
       "  <th>Lead Source_blog</th>                                   <td>-5.281e+15</td> <td> 6.48e+07</td> <td>-8.15e+07</td> <td> 0.000</td> <td>-5.28e+15</td> <td>-5.28e+15</td>\n",
       "</tr>\n",
       "<tr>\n",
       "  <th>Lead Source_testone</th>                                <td>-4.745e+15</td> <td> 6.49e+07</td> <td>-7.31e+07</td> <td> 0.000</td> <td>-4.74e+15</td> <td>-4.74e+15</td>\n",
       "</tr>\n",
       "<tr>\n",
       "  <th>Lead Source_welearnblog_Home</th>                       <td>-4.724e+15</td> <td> 6.48e+07</td> <td>-7.29e+07</td> <td> 0.000</td> <td>-4.72e+15</td> <td>-4.72e+15</td>\n",
       "</tr>\n",
       "<tr>\n",
       "  <th>Lead Source_youtubechannel</th>                         <td>-1.974e+15</td> <td>  6.6e+07</td> <td>-2.99e+07</td> <td> 0.000</td> <td>-1.97e+15</td> <td>-1.97e+15</td>\n",
       "</tr>\n",
       "</table>"
      ],
      "text/plain": [
       "<class 'statsmodels.iolib.summary.Summary'>\n",
       "\"\"\"\n",
       "                 Generalized Linear Model Regression Results                  \n",
       "==============================================================================\n",
       "Dep. Variable:              Converted   No. Observations:                 6334\n",
       "Model:                            GLM   Df Residuals:                     6257\n",
       "Model Family:                Binomial   Df Model:                           76\n",
       "Link Function:                  logit   Scale:                          1.0000\n",
       "Method:                          IRLS   Log-Likelihood:                    nan\n",
       "Date:                Mon, 09 Aug 2021   Deviance:                          nan\n",
       "Time:                        10:56:41   Pearson chi2:                 7.83e+18\n",
       "No. Iterations:                   100                                         \n",
       "Covariance Type:            nonrobust                                         \n",
       "======================================================================================================================\n",
       "                                                         coef    std err          z      P>|z|      [0.025      0.975]\n",
       "----------------------------------------------------------------------------------------------------------------------\n",
       "const                                              -6.075e+14   1.17e+07  -5.17e+07      0.000   -6.08e+14   -6.08e+14\n",
       "Do Not Email                                       -1.548e+14   4.53e+06  -3.42e+07      0.000   -1.55e+14   -1.55e+14\n",
       "Do Not Call                                        -2.402e+14   4.77e+07  -5.03e+06      0.000    -2.4e+14    -2.4e+14\n",
       "TotalVisits                                         4.953e+14   7.78e+06   6.36e+07      0.000    4.95e+14    4.95e+14\n",
       "Total Time Spent on Website                         2.817e+15   3.43e+06   8.22e+08      0.000    2.82e+15    2.82e+15\n",
       "Page Views Per Visit                               -1.021e+15   1.14e+07  -8.94e+07      0.000   -1.02e+15   -1.02e+15\n",
       "Search                                             -3.798e+14   2.29e+07  -1.66e+07      0.000    -3.8e+14    -3.8e+14\n",
       "Magazine                                              20.4518   2.17e-07   9.41e+07      0.000      20.452      20.452\n",
       "Newspaper Article                                      4.2706   1.06e-07   4.03e+07      0.000       4.271       4.271\n",
       "X Education Forums                                   -18.1947   2.07e-07   -8.8e+07      0.000     -18.195     -18.195\n",
       "Newspaper                                          -6.672e+15   6.73e+07  -9.91e+07      0.000   -6.67e+15   -6.67e+15\n",
       "Digital Advertisement                              -6.616e+14   4.76e+07  -1.39e+07      0.000   -6.62e+14   -6.62e+14\n",
       "Through Recommendations                             7.378e+13   3.43e+07   2.15e+06      0.000    7.38e+13    7.38e+13\n",
       "Receive More Updates About Our Courses                 6.4232      2e-07   3.21e+07      0.000       6.423       6.423\n",
       "Get updates on DM Content                            -12.9047   2.19e-07   -5.9e+07      0.000     -12.905     -12.905\n",
       "I agree to pay the amount through cheque              20.3160   2.43e-07   8.36e+07      0.000      20.316      20.316\n",
       "A free copy of Mastering The Interview             -2.433e+14   2.74e+06  -8.89e+07      0.000   -2.43e+14   -2.43e+14\n",
       "Lead Origin_API                                    -6.943e+14   1.13e+07  -6.13e+07      0.000   -6.94e+14   -6.94e+14\n",
       "Lead Origin_Landing Page Submission                -5.092e+14   1.13e+07  -4.51e+07      0.000   -5.09e+14   -5.09e+14\n",
       "Lead Origin_Lead Add Form                           9.577e+14   1.48e+07   6.46e+07      0.000    9.58e+14    9.58e+14\n",
       "Lead Origin_Lead Import                            -3.618e+14   3.77e+07  -9.59e+06      0.000   -3.62e+14   -3.62e+14\n",
       "Last Activity_Approached upfront                    2.731e+15   3.18e+07   8.58e+07      0.000    2.73e+15    2.73e+15\n",
       "Last Activity_Converted to Lead                    -3.439e+14   6.59e+06  -5.22e+07      0.000   -3.44e+14   -3.44e+14\n",
       "Last Activity_Email Bounced                        -9.546e+14   7.68e+06  -1.24e+08      0.000   -9.55e+14   -9.55e+14\n",
       "Last Activity_Email Link Clicked                   -4.224e+14   9.21e+06  -4.59e+07      0.000   -4.22e+14   -4.22e+14\n",
       "Last Activity_Email Marked Spam                     3.468e+15   3.19e+07   1.09e+08      0.000    3.47e+15    3.47e+15\n",
       "Last Activity_Email Opened                          5.789e+14   6.13e+06   9.45e+07      0.000    5.79e+14    5.79e+14\n",
       "Last Activity_Email Received                        1.243e+15   3.18e+07   3.91e+07      0.000    1.24e+15    1.24e+15\n",
       "Last Activity_Form Submitted on Website             -5.18e+14   9.02e+06  -5.74e+07      0.000   -5.18e+14   -5.18e+14\n",
       "Last Activity_Had a Phone Conversation              -8.55e+14   2.04e+07   -4.2e+07      0.000   -8.55e+14   -8.55e+14\n",
       "Last Activity_Olark Chat Conversation               4.938e+14    6.1e+06    8.1e+07      0.000    4.94e+14    4.94e+14\n",
       "Last Activity_Page Visited on Website              -2.584e+14   6.75e+06  -3.83e+07      0.000   -2.58e+14   -2.58e+14\n",
       "Last Activity_Resubscribed to emails                  -0.4770   1.69e-07  -2.82e+06      0.000      -0.477      -0.477\n",
       "Last Activity_SMS Sent                              1.978e+14   6.14e+06   3.22e+07      0.000    1.98e+14    1.98e+14\n",
       "Last Activity_Unreachable                          -9.846e+14   1.15e+07  -8.55e+07      0.000   -9.85e+14   -9.85e+14\n",
       "Last Activity_Unsubscribed                           1.46e+14   1.96e+07   7.43e+06      0.000    1.46e+14    1.46e+14\n",
       "Last Activity_View in browser link Clicked         -3.156e+15   3.63e+07   -8.7e+07      0.000   -3.16e+15   -3.16e+15\n",
       "Last Activity_Visited Booth in Tradeshow               2.0850    1.3e-07   1.61e+07      0.000       2.085       2.085\n",
       "Last Activity_no source                            -1.973e+15      1e+07  -1.97e+08      0.000   -1.97e+15   -1.97e+15\n",
       "Specialization_Banking, Investment And Insurance    1.841e+14   4.49e+06    4.1e+07      0.000    1.84e+14    1.84e+14\n",
       "Specialization_Business Administration              3.975e+13    4.3e+06   9.25e+06      0.000    3.97e+13    3.97e+13\n",
       "Specialization_E-Business                           2.342e+14   1.06e+07   2.21e+07      0.000    2.34e+14    2.34e+14\n",
       "Specialization_E-COMMERCE                          -2.586e+14   7.45e+06  -3.47e+07      0.000   -2.59e+14   -2.59e+14\n",
       "Specialization_Finance Management                   9.538e+13   2.94e+06   3.24e+07      0.000    9.54e+13    9.54e+13\n",
       "Specialization_Healthcare Management                1.787e+14   6.42e+06   2.78e+07      0.000    1.79e+14    1.79e+14\n",
       "Specialization_Hospitality Management              -3.112e+14   7.62e+06  -4.08e+07      0.000   -3.11e+14   -3.11e+14\n",
       "Specialization_Human Resource Management            -2.99e+12   3.14e+06  -9.52e+05      0.000   -2.99e+12   -2.99e+12\n",
       "Specialization_IT Projects Management               4.175e+13   4.33e+06   9.64e+06      0.000    4.17e+13    4.17e+13\n",
       "Specialization_International Business              -1.689e+14   5.98e+06  -2.82e+07      0.000   -1.69e+14   -1.69e+14\n",
       "Specialization_Marketing Management                 4.833e+13   3.09e+06   1.56e+07      0.000    4.83e+13    4.83e+13\n",
       "Specialization_Media and Advertising               -3.702e+14   5.83e+06  -6.35e+07      0.000    -3.7e+14    -3.7e+14\n",
       "Specialization_No information                      -3.416e+14   3.13e+06  -1.09e+08      0.000   -3.42e+14   -3.42e+14\n",
       "Specialization_Operations Management                2.141e+14   3.74e+06   5.73e+07      0.000    2.14e+14    2.14e+14\n",
       "Specialization_Retail Management                   -1.155e+14   8.07e+06  -1.43e+07      0.000   -1.15e+14   -1.15e+14\n",
       "Specialization_Rural and Agribusiness               5.749e+13   9.17e+06   6.27e+06      0.000    5.75e+13    5.75e+13\n",
       "Specialization_Services Excellence                 -3.448e+14   1.12e+07  -3.07e+07      0.000   -3.45e+14   -3.45e+14\n",
       "Specialization_Supply Chain Management              1.843e+14   4.55e+06   4.05e+07      0.000    1.84e+14    1.84e+14\n",
       "Specialization_Travel and Tourism                   2.806e+13   5.66e+06   4.96e+06      0.000    2.81e+13    2.81e+13\n",
       "Last Notable Activity_Approached upfront              -4.8674   6.95e-08  -7.01e+07      0.000      -4.867      -4.867\n",
       "Last Notable Activity_Email Bounced                 7.109e+14   1.39e+07   5.11e+07      0.000    7.11e+14    7.11e+14\n",
       "Last Notable Activity_Email Link Clicked            6.197e+14   1.31e+07   4.74e+07      0.000     6.2e+14     6.2e+14\n",
       "Last Notable Activity_Email Marked Spam             3.468e+15   3.19e+07   1.09e+08      0.000    3.47e+15    3.47e+15\n",
       "Last Notable Activity_Email Opened                 -7.215e+14   9.73e+06  -7.42e+07      0.000   -7.22e+14   -7.22e+14\n",
       "Last Notable Activity_Email Received                1.243e+15   3.18e+07   3.91e+07      0.000    1.24e+15    1.24e+15\n",
       "Last Notable Activity_Form Submitted on Website    -4.882e+15   6.32e+07  -7.73e+07      0.000   -4.88e+15   -4.88e+15\n",
       "Last Notable Activity_Had a Phone Conversation      3.021e+15   2.92e+07   1.04e+08      0.000    3.02e+15    3.02e+15\n",
       "Last Notable Activity_Modified                     -3.421e+14   9.15e+06  -3.74e+07      0.000   -3.42e+14   -3.42e+14\n",
       "Last Notable Activity_Olark Chat Conversation      -7.918e+14    1.1e+07   -7.2e+07      0.000   -7.92e+14   -7.92e+14\n",
       "Last Notable Activity_Page Visited on Website      -6.029e+13    1.1e+07  -5.49e+06      0.000   -6.03e+13   -6.03e+13\n",
       "Last Notable Activity_Resubscribed to emails           0.8443   1.34e-08   6.31e+07      0.000       0.844       0.844\n",
       "Last Notable Activity_SMS Sent                     -1.173e+15   9.81e+06   -1.2e+08      0.000   -1.17e+15   -1.17e+15\n",
       "Last Notable Activity_Unreachable                    7.14e+14   1.95e+07   3.66e+07      0.000    7.14e+14    7.14e+14\n",
       "Last Notable Activity_Unsubscribed                 -9.065e+13   2.38e+07  -3.81e+06      0.000   -9.06e+13   -9.06e+13\n",
       "Last Notable Activity_View in browser link Clicked -2.323e+15   7.21e+07  -3.22e+07      0.000   -2.32e+15   -2.32e+15\n",
       "Lead Source_Click2call                             -2.214e+15      4e+07  -5.54e+07      0.000   -2.21e+15   -2.21e+15\n",
       "Lead Source_Direct Traffic                          8.555e+14    1.1e+07   7.77e+07      0.000    8.55e+14    8.55e+14\n",
       "Lead Source_Facebook                                1.569e+15   4.63e+07   3.39e+07      0.000    1.57e+15    1.57e+15\n",
       "Lead Source_Google                                  9.847e+14   1.08e+07   9.09e+07      0.000    9.85e+14    9.85e+14\n",
       "Lead Source_Live Chat                               4.948e+15   4.76e+07   1.04e+08      0.000    4.95e+15    4.95e+15\n",
       "Lead Source_NC_EDM                                  2.839e+15   6.48e+07   4.38e+07      0.000    2.84e+15    2.84e+15\n",
       "Lead Source_Olark Chat                              6.398e+14   1.12e+07   5.72e+07      0.000     6.4e+14     6.4e+14\n",
       "Lead Source_Organic Search                          1.002e+15   1.11e+07   9.02e+07      0.000       1e+15       1e+15\n",
       "Lead Source_Pay per Click Ads                      -4.234e+15   6.48e+07  -6.53e+07      0.000   -4.23e+15   -4.23e+15\n",
       "Lead Source_Press_Release                          -1.545e+15    4.7e+07  -3.29e+07      0.000   -1.55e+15   -1.55e+15\n",
       "Lead Source_Reference                               1.144e+15   1.55e+07   7.38e+07      0.000    1.14e+15    1.14e+15\n",
       "Lead Source_Referral Sites                          1.042e+15   1.28e+07   8.12e+07      0.000    1.04e+15    1.04e+15\n",
       "Lead Source_Social Media                            3.419e+15    6.5e+07   5.26e+07      0.000    3.42e+15    3.42e+15\n",
       "Lead Source_WeLearn                                 3.448e+15   6.48e+07   5.32e+07      0.000    3.45e+15    3.45e+15\n",
       "Lead Source_Welingak Website                        2.029e+15   1.65e+07   1.23e+08      0.000    2.03e+15    2.03e+15\n",
       "Lead Source_bing                                    1.895e+14   3.06e+07    6.2e+06      0.000    1.89e+14    1.89e+14\n",
       "Lead Source_blog                                   -5.281e+15   6.48e+07  -8.15e+07      0.000   -5.28e+15   -5.28e+15\n",
       "Lead Source_testone                                -4.745e+15   6.49e+07  -7.31e+07      0.000   -4.74e+15   -4.74e+15\n",
       "Lead Source_welearnblog_Home                       -4.724e+15   6.48e+07  -7.29e+07      0.000   -4.72e+15   -4.72e+15\n",
       "Lead Source_youtubechannel                         -1.974e+15    6.6e+07  -2.99e+07      0.000   -1.97e+15   -1.97e+15\n",
       "======================================================================================================================\n",
       "\"\"\""
      ]
     },
     "execution_count": 63,
     "metadata": {},
     "output_type": "execute_result"
    }
   ],
   "source": [
    "# Building a logistic regression model\n",
    "mod = sm.GLM(y_train,(sm.add_constant(X_train)), family = sm.families.Binomial())\n",
    "mod.fit().summary()"
   ]
  },
  {
   "cell_type": "code",
   "execution_count": 64,
   "metadata": {},
   "outputs": [],
   "source": [
    "# Using RFE to choose most relevant 20 columns\n",
    "lg = LogisticRegression()\n",
    "\n",
    "rfe = RFE(lg, 20)            \n",
    "rfe = rfe.fit(X_train, y_train)"
   ]
  },
  {
   "cell_type": "code",
   "execution_count": 65,
   "metadata": {
    "scrolled": false
   },
   "outputs": [
    {
     "data": {
      "text/plain": [
       "[('Do Not Email', True, 1),\n",
       " ('Do Not Call', False, 27),\n",
       " ('TotalVisits', True, 1),\n",
       " ('Total Time Spent on Website', True, 1),\n",
       " ('Page Views Per Visit', True, 1),\n",
       " ('Search', False, 61),\n",
       " ('Magazine', False, 70),\n",
       " ('Newspaper Article', False, 69),\n",
       " ('X Education Forums', False, 72),\n",
       " ('Newspaper', True, 1),\n",
       " ('Digital Advertisement', False, 59),\n",
       " ('Through Recommendations', False, 5),\n",
       " ('Receive More Updates About Our Courses', False, 68),\n",
       " ('Get updates on DM Content', False, 67),\n",
       " ('I agree to pay the amount through cheque', False, 65),\n",
       " ('A free copy of Mastering The Interview', False, 35),\n",
       " ('Lead Origin_API', False, 20),\n",
       " ('Lead Origin_Landing Page Submission', True, 1),\n",
       " ('Lead Origin_Lead Add Form', True, 1),\n",
       " ('Lead Origin_Lead Import', False, 36),\n",
       " ('Last Activity_Approached upfront', True, 1),\n",
       " ('Last Activity_Converted to Lead', False, 39),\n",
       " ('Last Activity_Email Bounced', False, 14),\n",
       " ('Last Activity_Email Link Clicked', True, 1),\n",
       " ('Last Activity_Email Marked Spam', False, 51),\n",
       " ('Last Activity_Email Opened', False, 2),\n",
       " ('Last Activity_Email Received', False, 10),\n",
       " ('Last Activity_Form Submitted on Website', False, 21),\n",
       " ('Last Activity_Had a Phone Conversation', False, 6),\n",
       " ('Last Activity_Olark Chat Conversation', False, 12),\n",
       " ('Last Activity_Page Visited on Website', False, 40),\n",
       " ('Last Activity_Resubscribed to emails', False, 71),\n",
       " ('Last Activity_SMS Sent', True, 1),\n",
       " ('Last Activity_Unreachable', False, 38),\n",
       " ('Last Activity_Unsubscribed', True, 1),\n",
       " ('Last Activity_View in browser link Clicked', False, 9),\n",
       " ('Last Activity_Visited Booth in Tradeshow', False, 73),\n",
       " ('Last Activity_no source', False, 8),\n",
       " ('Specialization_Banking, Investment And Insurance', False, 50),\n",
       " ('Specialization_Business Administration', False, 63),\n",
       " ('Specialization_E-Business', False, 23),\n",
       " ('Specialization_E-COMMERCE', False, 41),\n",
       " ('Specialization_Finance Management', False, 60),\n",
       " ('Specialization_Healthcare Management', False, 44),\n",
       " ('Specialization_Hospitality Management', False, 28),\n",
       " ('Specialization_Human Resource Management', False, 64),\n",
       " ('Specialization_IT Projects Management', False, 54),\n",
       " ('Specialization_International Business', False, 19),\n",
       " ('Specialization_Marketing Management', False, 55),\n",
       " ('Specialization_Media and Advertising', False, 13),\n",
       " ('Specialization_No information', True, 1),\n",
       " ('Specialization_Operations Management', False, 43),\n",
       " ('Specialization_Retail Management', False, 57),\n",
       " ('Specialization_Rural and Agribusiness', False, 56),\n",
       " ('Specialization_Services Excellence', False, 52),\n",
       " ('Specialization_Supply Chain Management', False, 45),\n",
       " ('Specialization_Travel and Tourism', False, 58),\n",
       " ('Last Notable Activity_Approached upfront', False, 66),\n",
       " ('Last Notable Activity_Email Bounced', False, 17),\n",
       " ('Last Notable Activity_Email Link Clicked', True, 1),\n",
       " ('Last Notable Activity_Email Marked Spam', False, 49),\n",
       " ('Last Notable Activity_Email Opened', False, 3),\n",
       " ('Last Notable Activity_Email Received', False, 16),\n",
       " ('Last Notable Activity_Form Submitted on Website', False, 53),\n",
       " ('Last Notable Activity_Had a Phone Conversation', True, 1),\n",
       " ('Last Notable Activity_Modified', True, 1),\n",
       " ('Last Notable Activity_Olark Chat Conversation', True, 1),\n",
       " ('Last Notable Activity_Page Visited on Website', False, 4),\n",
       " ('Last Notable Activity_Resubscribed to emails', False, 74),\n",
       " ('Last Notable Activity_SMS Sent', False, 18),\n",
       " ('Last Notable Activity_Unreachable', True, 1),\n",
       " ('Last Notable Activity_Unsubscribed', False, 29),\n",
       " ('Last Notable Activity_View in browser link Clicked', False, 37),\n",
       " ('Lead Source_Click2call', True, 1),\n",
       " ('Lead Source_Direct Traffic', False, 24),\n",
       " ('Lead Source_Facebook', False, 25),\n",
       " ('Lead Source_Google', False, 33),\n",
       " ('Lead Source_Live Chat', False, 47),\n",
       " ('Lead Source_NC_EDM', False, 15),\n",
       " ('Lead Source_Olark Chat', True, 1),\n",
       " ('Lead Source_Organic Search', False, 32),\n",
       " ('Lead Source_Pay per Click Ads', False, 42),\n",
       " ('Lead Source_Press_Release', False, 46),\n",
       " ('Lead Source_Reference', False, 7),\n",
       " ('Lead Source_Referral Sites', False, 31),\n",
       " ('Lead Source_Social Media', False, 11),\n",
       " ('Lead Source_WeLearn', False, 22),\n",
       " ('Lead Source_Welingak Website', True, 1),\n",
       " ('Lead Source_bing', False, 62),\n",
       " ('Lead Source_blog', False, 26),\n",
       " ('Lead Source_testone', False, 48),\n",
       " ('Lead Source_welearnblog_Home', False, 34),\n",
       " ('Lead Source_youtubechannel', False, 30)]"
      ]
     },
     "execution_count": 65,
     "metadata": {},
     "output_type": "execute_result"
    }
   ],
   "source": [
    "# veiwing supported columns\n",
    "list(zip(X_train.columns, rfe.support_, rfe.ranking_))"
   ]
  },
  {
   "cell_type": "code",
   "execution_count": 66,
   "metadata": {},
   "outputs": [],
   "source": [
    "col = X_train.columns[rfe.support_]"
   ]
  },
  {
   "cell_type": "markdown",
   "metadata": {},
   "source": [
    "##### Model_2"
   ]
  },
  {
   "cell_type": "code",
   "execution_count": 67,
   "metadata": {},
   "outputs": [
    {
     "data": {
      "text/html": [
       "<table class=\"simpletable\">\n",
       "<caption>Generalized Linear Model Regression Results</caption>\n",
       "<tr>\n",
       "  <th>Dep. Variable:</th>       <td>Converted</td>    <th>  No. Observations:  </th>  <td>  6334</td> \n",
       "</tr>\n",
       "<tr>\n",
       "  <th>Model:</th>                  <td>GLM</td>       <th>  Df Residuals:      </th>  <td>  6313</td> \n",
       "</tr>\n",
       "<tr>\n",
       "  <th>Model Family:</th>        <td>Binomial</td>     <th>  Df Model:          </th>  <td>    20</td> \n",
       "</tr>\n",
       "<tr>\n",
       "  <th>Link Function:</th>         <td>logit</td>      <th>  Scale:             </th> <td>  1.0000</td>\n",
       "</tr>\n",
       "<tr>\n",
       "  <th>Method:</th>                <td>IRLS</td>       <th>  Log-Likelihood:    </th> <td> -2645.1</td>\n",
       "</tr>\n",
       "<tr>\n",
       "  <th>Date:</th>            <td>Mon, 09 Aug 2021</td> <th>  Deviance:          </th> <td>  5290.2</td>\n",
       "</tr>\n",
       "<tr>\n",
       "  <th>Time:</th>                <td>10:56:44</td>     <th>  Pearson chi2:      </th> <td>6.34e+03</td>\n",
       "</tr>\n",
       "<tr>\n",
       "  <th>No. Iterations:</th>         <td>22</td>        <th>                     </th>     <td> </td>   \n",
       "</tr>\n",
       "<tr>\n",
       "  <th>Covariance Type:</th>     <td>nonrobust</td>    <th>                     </th>     <td> </td>   \n",
       "</tr>\n",
       "</table>\n",
       "<table class=\"simpletable\">\n",
       "<tr>\n",
       "                         <td></td>                           <th>coef</th>     <th>std err</th>      <th>z</th>      <th>P>|z|</th>  <th>[0.025</th>    <th>0.975]</th>  \n",
       "</tr>\n",
       "<tr>\n",
       "  <th>const</th>                                          <td>   -0.8176</td> <td>    0.152</td> <td>   -5.395</td> <td> 0.000</td> <td>   -1.115</td> <td>   -0.521</td>\n",
       "</tr>\n",
       "<tr>\n",
       "  <th>Do Not Email</th>                                   <td>   -1.4394</td> <td>    0.179</td> <td>   -8.060</td> <td> 0.000</td> <td>   -1.789</td> <td>   -1.089</td>\n",
       "</tr>\n",
       "<tr>\n",
       "  <th>TotalVisits</th>                                    <td>    1.0362</td> <td>    0.280</td> <td>    3.705</td> <td> 0.000</td> <td>    0.488</td> <td>    1.584</td>\n",
       "</tr>\n",
       "<tr>\n",
       "  <th>Total Time Spent on Website</th>                    <td>    3.9036</td> <td>    0.140</td> <td>   27.896</td> <td> 0.000</td> <td>    3.629</td> <td>    4.178</td>\n",
       "</tr>\n",
       "<tr>\n",
       "  <th>Page Views Per Visit</th>                           <td>   -1.4574</td> <td>    0.428</td> <td>   -3.404</td> <td> 0.001</td> <td>   -2.297</td> <td>   -0.618</td>\n",
       "</tr>\n",
       "<tr>\n",
       "  <th>Newspaper</th>                                      <td>  -25.6347</td> <td> 7.95e+04</td> <td>   -0.000</td> <td> 1.000</td> <td>-1.56e+05</td> <td> 1.56e+05</td>\n",
       "</tr>\n",
       "<tr>\n",
       "  <th>Lead Origin_Landing Page Submission</th>            <td>   -1.3044</td> <td>    0.126</td> <td>  -10.318</td> <td> 0.000</td> <td>   -1.552</td> <td>   -1.057</td>\n",
       "</tr>\n",
       "<tr>\n",
       "  <th>Lead Origin_Lead Add Form</th>                      <td>    3.5181</td> <td>    0.222</td> <td>   15.828</td> <td> 0.000</td> <td>    3.082</td> <td>    3.954</td>\n",
       "</tr>\n",
       "<tr>\n",
       "  <th>Last Activity_Approached upfront</th>               <td>   24.3410</td> <td> 3.16e+04</td> <td>    0.001</td> <td> 0.999</td> <td>-6.19e+04</td> <td> 6.19e+04</td>\n",
       "</tr>\n",
       "<tr>\n",
       "  <th>Last Activity_Email Link Clicked</th>               <td>    0.9118</td> <td>    0.334</td> <td>    2.731</td> <td> 0.006</td> <td>    0.257</td> <td>    1.566</td>\n",
       "</tr>\n",
       "<tr>\n",
       "  <th>Last Activity_SMS Sent</th>                         <td>    1.4360</td> <td>    0.076</td> <td>   18.949</td> <td> 0.000</td> <td>    1.287</td> <td>    1.584</td>\n",
       "</tr>\n",
       "<tr>\n",
       "  <th>Last Activity_Unsubscribed</th>                     <td>    1.3036</td> <td>    0.469</td> <td>    2.782</td> <td> 0.005</td> <td>    0.385</td> <td>    2.222</td>\n",
       "</tr>\n",
       "<tr>\n",
       "  <th>Specialization_No information</th>                  <td>   -1.5238</td> <td>    0.122</td> <td>  -12.464</td> <td> 0.000</td> <td>   -1.763</td> <td>   -1.284</td>\n",
       "</tr>\n",
       "<tr>\n",
       "  <th>Last Notable Activity_Email Link Clicked</th>       <td>   -1.4100</td> <td>    0.417</td> <td>   -3.383</td> <td> 0.001</td> <td>   -2.227</td> <td>   -0.593</td>\n",
       "</tr>\n",
       "<tr>\n",
       "  <th>Last Notable Activity_Had a Phone Conversation</th> <td>   23.9112</td> <td> 2.01e+04</td> <td>    0.001</td> <td> 0.999</td> <td>-3.94e+04</td> <td> 3.95e+04</td>\n",
       "</tr>\n",
       "<tr>\n",
       "  <th>Last Notable Activity_Modified</th>                 <td>   -1.0871</td> <td>    0.081</td> <td>  -13.464</td> <td> 0.000</td> <td>   -1.245</td> <td>   -0.929</td>\n",
       "</tr>\n",
       "<tr>\n",
       "  <th>Last Notable Activity_Olark Chat Conversation</th>  <td>   -1.8996</td> <td>    0.368</td> <td>   -5.159</td> <td> 0.000</td> <td>   -2.621</td> <td>   -1.178</td>\n",
       "</tr>\n",
       "<tr>\n",
       "  <th>Last Notable Activity_Unreachable</th>              <td>    1.7094</td> <td>    0.610</td> <td>    2.801</td> <td> 0.005</td> <td>    0.513</td> <td>    2.905</td>\n",
       "</tr>\n",
       "<tr>\n",
       "  <th>Lead Source_Click2call</th>                         <td>   -2.9274</td> <td>    1.700</td> <td>   -1.722</td> <td> 0.085</td> <td>   -6.259</td> <td>    0.404</td>\n",
       "</tr>\n",
       "<tr>\n",
       "  <th>Lead Source_Olark Chat</th>                         <td>    1.0169</td> <td>    0.133</td> <td>    7.650</td> <td> 0.000</td> <td>    0.756</td> <td>    1.277</td>\n",
       "</tr>\n",
       "<tr>\n",
       "  <th>Lead Source_Welingak Website</th>                   <td>    2.1934</td> <td>    0.750</td> <td>    2.925</td> <td> 0.003</td> <td>    0.724</td> <td>    3.663</td>\n",
       "</tr>\n",
       "</table>"
      ],
      "text/plain": [
       "<class 'statsmodels.iolib.summary.Summary'>\n",
       "\"\"\"\n",
       "                 Generalized Linear Model Regression Results                  \n",
       "==============================================================================\n",
       "Dep. Variable:              Converted   No. Observations:                 6334\n",
       "Model:                            GLM   Df Residuals:                     6313\n",
       "Model Family:                Binomial   Df Model:                           20\n",
       "Link Function:                  logit   Scale:                          1.0000\n",
       "Method:                          IRLS   Log-Likelihood:                -2645.1\n",
       "Date:                Mon, 09 Aug 2021   Deviance:                       5290.2\n",
       "Time:                        10:56:44   Pearson chi2:                 6.34e+03\n",
       "No. Iterations:                    22                                         \n",
       "Covariance Type:            nonrobust                                         \n",
       "==================================================================================================================\n",
       "                                                     coef    std err          z      P>|z|      [0.025      0.975]\n",
       "------------------------------------------------------------------------------------------------------------------\n",
       "const                                             -0.8176      0.152     -5.395      0.000      -1.115      -0.521\n",
       "Do Not Email                                      -1.4394      0.179     -8.060      0.000      -1.789      -1.089\n",
       "TotalVisits                                        1.0362      0.280      3.705      0.000       0.488       1.584\n",
       "Total Time Spent on Website                        3.9036      0.140     27.896      0.000       3.629       4.178\n",
       "Page Views Per Visit                              -1.4574      0.428     -3.404      0.001      -2.297      -0.618\n",
       "Newspaper                                        -25.6347   7.95e+04     -0.000      1.000   -1.56e+05    1.56e+05\n",
       "Lead Origin_Landing Page Submission               -1.3044      0.126    -10.318      0.000      -1.552      -1.057\n",
       "Lead Origin_Lead Add Form                          3.5181      0.222     15.828      0.000       3.082       3.954\n",
       "Last Activity_Approached upfront                  24.3410   3.16e+04      0.001      0.999   -6.19e+04    6.19e+04\n",
       "Last Activity_Email Link Clicked                   0.9118      0.334      2.731      0.006       0.257       1.566\n",
       "Last Activity_SMS Sent                             1.4360      0.076     18.949      0.000       1.287       1.584\n",
       "Last Activity_Unsubscribed                         1.3036      0.469      2.782      0.005       0.385       2.222\n",
       "Specialization_No information                     -1.5238      0.122    -12.464      0.000      -1.763      -1.284\n",
       "Last Notable Activity_Email Link Clicked          -1.4100      0.417     -3.383      0.001      -2.227      -0.593\n",
       "Last Notable Activity_Had a Phone Conversation    23.9112   2.01e+04      0.001      0.999   -3.94e+04    3.95e+04\n",
       "Last Notable Activity_Modified                    -1.0871      0.081    -13.464      0.000      -1.245      -0.929\n",
       "Last Notable Activity_Olark Chat Conversation     -1.8996      0.368     -5.159      0.000      -2.621      -1.178\n",
       "Last Notable Activity_Unreachable                  1.7094      0.610      2.801      0.005       0.513       2.905\n",
       "Lead Source_Click2call                            -2.9274      1.700     -1.722      0.085      -6.259       0.404\n",
       "Lead Source_Olark Chat                             1.0169      0.133      7.650      0.000       0.756       1.277\n",
       "Lead Source_Welingak Website                       2.1934      0.750      2.925      0.003       0.724       3.663\n",
       "==================================================================================================================\n",
       "\"\"\""
      ]
     },
     "execution_count": 67,
     "metadata": {},
     "output_type": "execute_result"
    }
   ],
   "source": [
    "# keeping only the supoorted columns\n",
    "X_train_ct = sm.add_constant(X_train[col])\n",
    "\n",
    "# model\n",
    "lg = sm.GLM(y_train,X_train_ct, family = sm.families.Binomial())\n",
    "res = lg.fit()\n",
    "res.summary()"
   ]
  },
  {
   "cell_type": "code",
   "execution_count": 68,
   "metadata": {},
   "outputs": [],
   "source": [
    "# manually dropping high p value columns\n",
    "X_train_ct.drop([\"Last Notable Activity_Had a Phone Conversation\", \"Newspaper\"], axis = 1 ,inplace =True)"
   ]
  },
  {
   "cell_type": "markdown",
   "metadata": {},
   "source": [
    "##### Model_4"
   ]
  },
  {
   "cell_type": "code",
   "execution_count": 69,
   "metadata": {},
   "outputs": [
    {
     "data": {
      "text/html": [
       "<table class=\"simpletable\">\n",
       "<caption>Generalized Linear Model Regression Results</caption>\n",
       "<tr>\n",
       "  <th>Dep. Variable:</th>       <td>Converted</td>    <th>  No. Observations:  </th>  <td>  6334</td> \n",
       "</tr>\n",
       "<tr>\n",
       "  <th>Model:</th>                  <td>GLM</td>       <th>  Df Residuals:      </th>  <td>  6315</td> \n",
       "</tr>\n",
       "<tr>\n",
       "  <th>Model Family:</th>        <td>Binomial</td>     <th>  Df Model:          </th>  <td>    18</td> \n",
       "</tr>\n",
       "<tr>\n",
       "  <th>Link Function:</th>         <td>logit</td>      <th>  Scale:             </th> <td>  1.0000</td>\n",
       "</tr>\n",
       "<tr>\n",
       "  <th>Method:</th>                <td>IRLS</td>       <th>  Log-Likelihood:    </th> <td> -2655.6</td>\n",
       "</tr>\n",
       "<tr>\n",
       "  <th>Date:</th>            <td>Mon, 09 Aug 2021</td> <th>  Deviance:          </th> <td>  5311.1</td>\n",
       "</tr>\n",
       "<tr>\n",
       "  <th>Time:</th>                <td>10:56:44</td>     <th>  Pearson chi2:      </th> <td>6.34e+03</td>\n",
       "</tr>\n",
       "<tr>\n",
       "  <th>No. Iterations:</th>         <td>20</td>        <th>                     </th>     <td> </td>   \n",
       "</tr>\n",
       "<tr>\n",
       "  <th>Covariance Type:</th>     <td>nonrobust</td>    <th>                     </th>     <td> </td>   \n",
       "</tr>\n",
       "</table>\n",
       "<table class=\"simpletable\">\n",
       "<tr>\n",
       "                        <td></td>                           <th>coef</th>     <th>std err</th>      <th>z</th>      <th>P>|z|</th>  <th>[0.025</th>    <th>0.975]</th>  \n",
       "</tr>\n",
       "<tr>\n",
       "  <th>const</th>                                         <td>   -0.7935</td> <td>    0.151</td> <td>   -5.255</td> <td> 0.000</td> <td>   -1.089</td> <td>   -0.498</td>\n",
       "</tr>\n",
       "<tr>\n",
       "  <th>Do Not Email</th>                                  <td>   -1.4404</td> <td>    0.178</td> <td>   -8.074</td> <td> 0.000</td> <td>   -1.790</td> <td>   -1.091</td>\n",
       "</tr>\n",
       "<tr>\n",
       "  <th>TotalVisits</th>                                   <td>    1.0250</td> <td>    0.278</td> <td>    3.687</td> <td> 0.000</td> <td>    0.480</td> <td>    1.570</td>\n",
       "</tr>\n",
       "<tr>\n",
       "  <th>Total Time Spent on Website</th>                   <td>    3.8847</td> <td>    0.139</td> <td>   27.859</td> <td> 0.000</td> <td>    3.611</td> <td>    4.158</td>\n",
       "</tr>\n",
       "<tr>\n",
       "  <th>Page Views Per Visit</th>                          <td>   -1.4303</td> <td>    0.427</td> <td>   -3.352</td> <td> 0.001</td> <td>   -2.266</td> <td>   -0.594</td>\n",
       "</tr>\n",
       "<tr>\n",
       "  <th>Lead Origin_Landing Page Submission</th>           <td>   -1.3140</td> <td>    0.126</td> <td>  -10.427</td> <td> 0.000</td> <td>   -1.561</td> <td>   -1.067</td>\n",
       "</tr>\n",
       "<tr>\n",
       "  <th>Lead Origin_Lead Add Form</th>                     <td>    3.5044</td> <td>    0.222</td> <td>   15.781</td> <td> 0.000</td> <td>    3.069</td> <td>    3.940</td>\n",
       "</tr>\n",
       "<tr>\n",
       "  <th>Last Activity_Approached upfront</th>              <td>   22.3436</td> <td> 1.16e+04</td> <td>    0.002</td> <td> 0.998</td> <td>-2.28e+04</td> <td> 2.28e+04</td>\n",
       "</tr>\n",
       "<tr>\n",
       "  <th>Last Activity_Email Link Clicked</th>              <td>    0.9100</td> <td>    0.334</td> <td>    2.727</td> <td> 0.006</td> <td>    0.256</td> <td>    1.564</td>\n",
       "</tr>\n",
       "<tr>\n",
       "  <th>Last Activity_SMS Sent</th>                        <td>    1.4266</td> <td>    0.076</td> <td>   18.860</td> <td> 0.000</td> <td>    1.278</td> <td>    1.575</td>\n",
       "</tr>\n",
       "<tr>\n",
       "  <th>Last Activity_Unsubscribed</th>                    <td>    1.2935</td> <td>    0.468</td> <td>    2.763</td> <td> 0.006</td> <td>    0.376</td> <td>    2.211</td>\n",
       "</tr>\n",
       "<tr>\n",
       "  <th>Specialization_No information</th>                 <td>   -1.5298</td> <td>    0.122</td> <td>  -12.541</td> <td> 0.000</td> <td>   -1.769</td> <td>   -1.291</td>\n",
       "</tr>\n",
       "<tr>\n",
       "  <th>Last Notable Activity_Email Link Clicked</th>      <td>   -1.4169</td> <td>    0.417</td> <td>   -3.401</td> <td> 0.001</td> <td>   -2.233</td> <td>   -0.600</td>\n",
       "</tr>\n",
       "<tr>\n",
       "  <th>Last Notable Activity_Modified</th>                <td>   -1.0935</td> <td>    0.081</td> <td>  -13.564</td> <td> 0.000</td> <td>   -1.252</td> <td>   -0.936</td>\n",
       "</tr>\n",
       "<tr>\n",
       "  <th>Last Notable Activity_Olark Chat Conversation</th> <td>   -1.9040</td> <td>    0.368</td> <td>   -5.176</td> <td> 0.000</td> <td>   -2.625</td> <td>   -1.183</td>\n",
       "</tr>\n",
       "<tr>\n",
       "  <th>Last Notable Activity_Unreachable</th>             <td>    1.6940</td> <td>    0.610</td> <td>    2.778</td> <td> 0.005</td> <td>    0.499</td> <td>    2.889</td>\n",
       "</tr>\n",
       "<tr>\n",
       "  <th>Lead Source_Click2call</th>                        <td>   -2.9293</td> <td>    1.699</td> <td>   -1.724</td> <td> 0.085</td> <td>   -6.259</td> <td>    0.400</td>\n",
       "</tr>\n",
       "<tr>\n",
       "  <th>Lead Source_Olark Chat</th>                        <td>    1.0036</td> <td>    0.133</td> <td>    7.569</td> <td> 0.000</td> <td>    0.744</td> <td>    1.263</td>\n",
       "</tr>\n",
       "<tr>\n",
       "  <th>Lead Source_Welingak Website</th>                  <td>    2.1965</td> <td>    0.750</td> <td>    2.929</td> <td> 0.003</td> <td>    0.727</td> <td>    3.666</td>\n",
       "</tr>\n",
       "</table>"
      ],
      "text/plain": [
       "<class 'statsmodels.iolib.summary.Summary'>\n",
       "\"\"\"\n",
       "                 Generalized Linear Model Regression Results                  \n",
       "==============================================================================\n",
       "Dep. Variable:              Converted   No. Observations:                 6334\n",
       "Model:                            GLM   Df Residuals:                     6315\n",
       "Model Family:                Binomial   Df Model:                           18\n",
       "Link Function:                  logit   Scale:                          1.0000\n",
       "Method:                          IRLS   Log-Likelihood:                -2655.6\n",
       "Date:                Mon, 09 Aug 2021   Deviance:                       5311.1\n",
       "Time:                        10:56:44   Pearson chi2:                 6.34e+03\n",
       "No. Iterations:                    20                                         \n",
       "Covariance Type:            nonrobust                                         \n",
       "=================================================================================================================\n",
       "                                                    coef    std err          z      P>|z|      [0.025      0.975]\n",
       "-----------------------------------------------------------------------------------------------------------------\n",
       "const                                            -0.7935      0.151     -5.255      0.000      -1.089      -0.498\n",
       "Do Not Email                                     -1.4404      0.178     -8.074      0.000      -1.790      -1.091\n",
       "TotalVisits                                       1.0250      0.278      3.687      0.000       0.480       1.570\n",
       "Total Time Spent on Website                       3.8847      0.139     27.859      0.000       3.611       4.158\n",
       "Page Views Per Visit                             -1.4303      0.427     -3.352      0.001      -2.266      -0.594\n",
       "Lead Origin_Landing Page Submission              -1.3140      0.126    -10.427      0.000      -1.561      -1.067\n",
       "Lead Origin_Lead Add Form                         3.5044      0.222     15.781      0.000       3.069       3.940\n",
       "Last Activity_Approached upfront                 22.3436   1.16e+04      0.002      0.998   -2.28e+04    2.28e+04\n",
       "Last Activity_Email Link Clicked                  0.9100      0.334      2.727      0.006       0.256       1.564\n",
       "Last Activity_SMS Sent                            1.4266      0.076     18.860      0.000       1.278       1.575\n",
       "Last Activity_Unsubscribed                        1.2935      0.468      2.763      0.006       0.376       2.211\n",
       "Specialization_No information                    -1.5298      0.122    -12.541      0.000      -1.769      -1.291\n",
       "Last Notable Activity_Email Link Clicked         -1.4169      0.417     -3.401      0.001      -2.233      -0.600\n",
       "Last Notable Activity_Modified                   -1.0935      0.081    -13.564      0.000      -1.252      -0.936\n",
       "Last Notable Activity_Olark Chat Conversation    -1.9040      0.368     -5.176      0.000      -2.625      -1.183\n",
       "Last Notable Activity_Unreachable                 1.6940      0.610      2.778      0.005       0.499       2.889\n",
       "Lead Source_Click2call                           -2.9293      1.699     -1.724      0.085      -6.259       0.400\n",
       "Lead Source_Olark Chat                            1.0036      0.133      7.569      0.000       0.744       1.263\n",
       "Lead Source_Welingak Website                      2.1965      0.750      2.929      0.003       0.727       3.666\n",
       "=================================================================================================================\n",
       "\"\"\""
      ]
     },
     "execution_count": 69,
     "metadata": {},
     "output_type": "execute_result"
    }
   ],
   "source": [
    "# model building\n",
    "lg = sm.GLM(y_train,X_train_ct, family = sm.families.Binomial())\n",
    "res = lg.fit()\n",
    "res.summary()"
   ]
  },
  {
   "cell_type": "code",
   "execution_count": 70,
   "metadata": {},
   "outputs": [],
   "source": [
    "X_train_ct.drop([\"Last Activity_Approached upfront\"], axis = 1 ,inplace =True)"
   ]
  },
  {
   "cell_type": "markdown",
   "metadata": {},
   "source": [
    "##### Model_5"
   ]
  },
  {
   "cell_type": "code",
   "execution_count": 71,
   "metadata": {},
   "outputs": [
    {
     "data": {
      "text/html": [
       "<table class=\"simpletable\">\n",
       "<caption>Generalized Linear Model Regression Results</caption>\n",
       "<tr>\n",
       "  <th>Dep. Variable:</th>       <td>Converted</td>    <th>  No. Observations:  </th>  <td>  6334</td> \n",
       "</tr>\n",
       "<tr>\n",
       "  <th>Model:</th>                  <td>GLM</td>       <th>  Df Residuals:      </th>  <td>  6316</td> \n",
       "</tr>\n",
       "<tr>\n",
       "  <th>Model Family:</th>        <td>Binomial</td>     <th>  Df Model:          </th>  <td>    17</td> \n",
       "</tr>\n",
       "<tr>\n",
       "  <th>Link Function:</th>         <td>logit</td>      <th>  Scale:             </th> <td>  1.0000</td>\n",
       "</tr>\n",
       "<tr>\n",
       "  <th>Method:</th>                <td>IRLS</td>       <th>  Log-Likelihood:    </th> <td> -2659.6</td>\n",
       "</tr>\n",
       "<tr>\n",
       "  <th>Date:</th>            <td>Mon, 09 Aug 2021</td> <th>  Deviance:          </th> <td>  5319.2</td>\n",
       "</tr>\n",
       "<tr>\n",
       "  <th>Time:</th>                <td>10:56:44</td>     <th>  Pearson chi2:      </th> <td>6.35e+03</td>\n",
       "</tr>\n",
       "<tr>\n",
       "  <th>No. Iterations:</th>          <td>7</td>        <th>                     </th>     <td> </td>   \n",
       "</tr>\n",
       "<tr>\n",
       "  <th>Covariance Type:</th>     <td>nonrobust</td>    <th>                     </th>     <td> </td>   \n",
       "</tr>\n",
       "</table>\n",
       "<table class=\"simpletable\">\n",
       "<tr>\n",
       "                        <td></td>                           <th>coef</th>     <th>std err</th>      <th>z</th>      <th>P>|z|</th>  <th>[0.025</th>    <th>0.975]</th>  \n",
       "</tr>\n",
       "<tr>\n",
       "  <th>const</th>                                         <td>   -0.8027</td> <td>    0.151</td> <td>   -5.320</td> <td> 0.000</td> <td>   -1.098</td> <td>   -0.507</td>\n",
       "</tr>\n",
       "<tr>\n",
       "  <th>Do Not Email</th>                                  <td>   -1.4440</td> <td>    0.178</td> <td>   -8.095</td> <td> 0.000</td> <td>   -1.794</td> <td>   -1.094</td>\n",
       "</tr>\n",
       "<tr>\n",
       "  <th>TotalVisits</th>                                   <td>    1.0245</td> <td>    0.278</td> <td>    3.686</td> <td> 0.000</td> <td>    0.480</td> <td>    1.569</td>\n",
       "</tr>\n",
       "<tr>\n",
       "  <th>Total Time Spent on Website</th>                   <td>    3.8873</td> <td>    0.139</td> <td>   27.889</td> <td> 0.000</td> <td>    3.614</td> <td>    4.160</td>\n",
       "</tr>\n",
       "<tr>\n",
       "  <th>Page Views Per Visit</th>                          <td>   -1.4148</td> <td>    0.426</td> <td>   -3.318</td> <td> 0.001</td> <td>   -2.250</td> <td>   -0.579</td>\n",
       "</tr>\n",
       "<tr>\n",
       "  <th>Lead Origin_Landing Page Submission</th>           <td>   -1.3081</td> <td>    0.126</td> <td>  -10.388</td> <td> 0.000</td> <td>   -1.555</td> <td>   -1.061</td>\n",
       "</tr>\n",
       "<tr>\n",
       "  <th>Lead Origin_Lead Add Form</th>                     <td>    3.5215</td> <td>    0.222</td> <td>   15.889</td> <td> 0.000</td> <td>    3.087</td> <td>    3.956</td>\n",
       "</tr>\n",
       "<tr>\n",
       "  <th>Last Activity_Email Link Clicked</th>              <td>    0.8999</td> <td>    0.334</td> <td>    2.697</td> <td> 0.007</td> <td>    0.246</td> <td>    1.554</td>\n",
       "</tr>\n",
       "<tr>\n",
       "  <th>Last Activity_SMS Sent</th>                        <td>    1.4237</td> <td>    0.076</td> <td>   18.830</td> <td> 0.000</td> <td>    1.275</td> <td>    1.572</td>\n",
       "</tr>\n",
       "<tr>\n",
       "  <th>Last Activity_Unsubscribed</th>                    <td>    1.2944</td> <td>    0.468</td> <td>    2.764</td> <td> 0.006</td> <td>    0.377</td> <td>    2.212</td>\n",
       "</tr>\n",
       "<tr>\n",
       "  <th>Specialization_No information</th>                 <td>   -1.5237</td> <td>    0.122</td> <td>  -12.503</td> <td> 0.000</td> <td>   -1.763</td> <td>   -1.285</td>\n",
       "</tr>\n",
       "<tr>\n",
       "  <th>Last Notable Activity_Email Link Clicked</th>      <td>   -1.4088</td> <td>    0.417</td> <td>   -3.382</td> <td> 0.001</td> <td>   -2.225</td> <td>   -0.592</td>\n",
       "</tr>\n",
       "<tr>\n",
       "  <th>Last Notable Activity_Modified</th>                <td>   -1.0854</td> <td>    0.080</td> <td>  -13.490</td> <td> 0.000</td> <td>   -1.243</td> <td>   -0.928</td>\n",
       "</tr>\n",
       "<tr>\n",
       "  <th>Last Notable Activity_Olark Chat Conversation</th> <td>   -1.9070</td> <td>    0.368</td> <td>   -5.184</td> <td> 0.000</td> <td>   -2.628</td> <td>   -1.186</td>\n",
       "</tr>\n",
       "<tr>\n",
       "  <th>Last Notable Activity_Unreachable</th>             <td>    1.6943</td> <td>    0.610</td> <td>    2.778</td> <td> 0.005</td> <td>    0.499</td> <td>    2.890</td>\n",
       "</tr>\n",
       "<tr>\n",
       "  <th>Lead Source_Click2call</th>                        <td>   -2.9430</td> <td>    1.697</td> <td>   -1.734</td> <td> 0.083</td> <td>   -6.270</td> <td>    0.384</td>\n",
       "</tr>\n",
       "<tr>\n",
       "  <th>Lead Source_Olark Chat</th>                        <td>    1.0118</td> <td>    0.132</td> <td>    7.637</td> <td> 0.000</td> <td>    0.752</td> <td>    1.271</td>\n",
       "</tr>\n",
       "<tr>\n",
       "  <th>Lead Source_Welingak Website</th>                  <td>    2.1813</td> <td>    0.750</td> <td>    2.909</td> <td> 0.004</td> <td>    0.712</td> <td>    3.651</td>\n",
       "</tr>\n",
       "</table>"
      ],
      "text/plain": [
       "<class 'statsmodels.iolib.summary.Summary'>\n",
       "\"\"\"\n",
       "                 Generalized Linear Model Regression Results                  \n",
       "==============================================================================\n",
       "Dep. Variable:              Converted   No. Observations:                 6334\n",
       "Model:                            GLM   Df Residuals:                     6316\n",
       "Model Family:                Binomial   Df Model:                           17\n",
       "Link Function:                  logit   Scale:                          1.0000\n",
       "Method:                          IRLS   Log-Likelihood:                -2659.6\n",
       "Date:                Mon, 09 Aug 2021   Deviance:                       5319.2\n",
       "Time:                        10:56:44   Pearson chi2:                 6.35e+03\n",
       "No. Iterations:                     7                                         \n",
       "Covariance Type:            nonrobust                                         \n",
       "=================================================================================================================\n",
       "                                                    coef    std err          z      P>|z|      [0.025      0.975]\n",
       "-----------------------------------------------------------------------------------------------------------------\n",
       "const                                            -0.8027      0.151     -5.320      0.000      -1.098      -0.507\n",
       "Do Not Email                                     -1.4440      0.178     -8.095      0.000      -1.794      -1.094\n",
       "TotalVisits                                       1.0245      0.278      3.686      0.000       0.480       1.569\n",
       "Total Time Spent on Website                       3.8873      0.139     27.889      0.000       3.614       4.160\n",
       "Page Views Per Visit                             -1.4148      0.426     -3.318      0.001      -2.250      -0.579\n",
       "Lead Origin_Landing Page Submission              -1.3081      0.126    -10.388      0.000      -1.555      -1.061\n",
       "Lead Origin_Lead Add Form                         3.5215      0.222     15.889      0.000       3.087       3.956\n",
       "Last Activity_Email Link Clicked                  0.8999      0.334      2.697      0.007       0.246       1.554\n",
       "Last Activity_SMS Sent                            1.4237      0.076     18.830      0.000       1.275       1.572\n",
       "Last Activity_Unsubscribed                        1.2944      0.468      2.764      0.006       0.377       2.212\n",
       "Specialization_No information                    -1.5237      0.122    -12.503      0.000      -1.763      -1.285\n",
       "Last Notable Activity_Email Link Clicked         -1.4088      0.417     -3.382      0.001      -2.225      -0.592\n",
       "Last Notable Activity_Modified                   -1.0854      0.080    -13.490      0.000      -1.243      -0.928\n",
       "Last Notable Activity_Olark Chat Conversation    -1.9070      0.368     -5.184      0.000      -2.628      -1.186\n",
       "Last Notable Activity_Unreachable                 1.6943      0.610      2.778      0.005       0.499       2.890\n",
       "Lead Source_Click2call                           -2.9430      1.697     -1.734      0.083      -6.270       0.384\n",
       "Lead Source_Olark Chat                            1.0118      0.132      7.637      0.000       0.752       1.271\n",
       "Lead Source_Welingak Website                      2.1813      0.750      2.909      0.004       0.712       3.651\n",
       "=================================================================================================================\n",
       "\"\"\""
      ]
     },
     "execution_count": 71,
     "metadata": {},
     "output_type": "execute_result"
    }
   ],
   "source": [
    "# model building\n",
    "lg = sm.GLM(y_train,X_train_ct, family = sm.families.Binomial())\n",
    "res = lg.fit()\n",
    "res.summary()"
   ]
  },
  {
   "cell_type": "code",
   "execution_count": 72,
   "metadata": {},
   "outputs": [],
   "source": [
    "X_train_ct.drop([\"Lead Source_Click2call\"], inplace =True, axis =1) "
   ]
  },
  {
   "cell_type": "code",
   "execution_count": 73,
   "metadata": {},
   "outputs": [
    {
     "data": {
      "text/plain": [
       "Index(['const', 'Do Not Email', 'TotalVisits', 'Total Time Spent on Website',\n",
       "       'Page Views Per Visit', 'Lead Origin_Landing Page Submission',\n",
       "       'Lead Origin_Lead Add Form', 'Last Activity_Email Link Clicked',\n",
       "       'Last Activity_SMS Sent', 'Last Activity_Unsubscribed',\n",
       "       'Specialization_No information',\n",
       "       'Last Notable Activity_Email Link Clicked',\n",
       "       'Last Notable Activity_Modified',\n",
       "       'Last Notable Activity_Olark Chat Conversation',\n",
       "       'Last Notable Activity_Unreachable', 'Lead Source_Olark Chat',\n",
       "       'Lead Source_Welingak Website'],\n",
       "      dtype='object')"
      ]
     },
     "execution_count": 73,
     "metadata": {},
     "output_type": "execute_result"
    }
   ],
   "source": [
    "# listing all the columns of the previous model\n",
    "col = X_train_ct.columns\n",
    "col"
   ]
  },
  {
   "cell_type": "code",
   "execution_count": 74,
   "metadata": {},
   "outputs": [
    {
     "data": {
      "text/html": [
       "<div>\n",
       "<style scoped>\n",
       "    .dataframe tbody tr th:only-of-type {\n",
       "        vertical-align: middle;\n",
       "    }\n",
       "\n",
       "    .dataframe tbody tr th {\n",
       "        vertical-align: top;\n",
       "    }\n",
       "\n",
       "    .dataframe thead th {\n",
       "        text-align: right;\n",
       "    }\n",
       "</style>\n",
       "<table border=\"1\" class=\"dataframe\">\n",
       "  <thead>\n",
       "    <tr style=\"text-align: right;\">\n",
       "      <th></th>\n",
       "      <th>Features</th>\n",
       "      <th>VIF</th>\n",
       "    </tr>\n",
       "  </thead>\n",
       "  <tbody>\n",
       "    <tr>\n",
       "      <th>0</th>\n",
       "      <td>const</td>\n",
       "      <td>19.58</td>\n",
       "    </tr>\n",
       "    <tr>\n",
       "      <th>5</th>\n",
       "      <td>Lead Origin_Landing Page Submission</td>\n",
       "      <td>3.37</td>\n",
       "    </tr>\n",
       "    <tr>\n",
       "      <th>11</th>\n",
       "      <td>Last Notable Activity_Email Link Clicked</td>\n",
       "      <td>2.84</td>\n",
       "    </tr>\n",
       "    <tr>\n",
       "      <th>7</th>\n",
       "      <td>Last Activity_Email Link Clicked</td>\n",
       "      <td>2.80</td>\n",
       "    </tr>\n",
       "    <tr>\n",
       "      <th>10</th>\n",
       "      <td>Specialization_No information</td>\n",
       "      <td>2.78</td>\n",
       "    </tr>\n",
       "    <tr>\n",
       "      <th>4</th>\n",
       "      <td>Page Views Per Visit</td>\n",
       "      <td>2.73</td>\n",
       "    </tr>\n",
       "    <tr>\n",
       "      <th>2</th>\n",
       "      <td>TotalVisits</td>\n",
       "      <td>2.50</td>\n",
       "    </tr>\n",
       "    <tr>\n",
       "      <th>15</th>\n",
       "      <td>Lead Source_Olark Chat</td>\n",
       "      <td>2.17</td>\n",
       "    </tr>\n",
       "    <tr>\n",
       "      <th>6</th>\n",
       "      <td>Lead Origin_Lead Add Form</td>\n",
       "      <td>1.91</td>\n",
       "    </tr>\n",
       "    <tr>\n",
       "      <th>3</th>\n",
       "      <td>Total Time Spent on Website</td>\n",
       "      <td>1.29</td>\n",
       "    </tr>\n",
       "    <tr>\n",
       "      <th>16</th>\n",
       "      <td>Lead Source_Welingak Website</td>\n",
       "      <td>1.27</td>\n",
       "    </tr>\n",
       "    <tr>\n",
       "      <th>12</th>\n",
       "      <td>Last Notable Activity_Modified</td>\n",
       "      <td>1.18</td>\n",
       "    </tr>\n",
       "    <tr>\n",
       "      <th>8</th>\n",
       "      <td>Last Activity_SMS Sent</td>\n",
       "      <td>1.13</td>\n",
       "    </tr>\n",
       "    <tr>\n",
       "      <th>1</th>\n",
       "      <td>Do Not Email</td>\n",
       "      <td>1.11</td>\n",
       "    </tr>\n",
       "    <tr>\n",
       "      <th>9</th>\n",
       "      <td>Last Activity_Unsubscribed</td>\n",
       "      <td>1.07</td>\n",
       "    </tr>\n",
       "    <tr>\n",
       "      <th>13</th>\n",
       "      <td>Last Notable Activity_Olark Chat Conversation</td>\n",
       "      <td>1.06</td>\n",
       "    </tr>\n",
       "    <tr>\n",
       "      <th>14</th>\n",
       "      <td>Last Notable Activity_Unreachable</td>\n",
       "      <td>1.01</td>\n",
       "    </tr>\n",
       "  </tbody>\n",
       "</table>\n",
       "</div>"
      ],
      "text/plain": [
       "                                         Features    VIF\n",
       "0                                           const  19.58\n",
       "5             Lead Origin_Landing Page Submission   3.37\n",
       "11       Last Notable Activity_Email Link Clicked   2.84\n",
       "7                Last Activity_Email Link Clicked   2.80\n",
       "10                  Specialization_No information   2.78\n",
       "4                            Page Views Per Visit   2.73\n",
       "2                                     TotalVisits   2.50\n",
       "15                         Lead Source_Olark Chat   2.17\n",
       "6                       Lead Origin_Lead Add Form   1.91\n",
       "3                     Total Time Spent on Website   1.29\n",
       "16                   Lead Source_Welingak Website   1.27\n",
       "12                 Last Notable Activity_Modified   1.18\n",
       "8                          Last Activity_SMS Sent   1.13\n",
       "1                                    Do Not Email   1.11\n",
       "9                      Last Activity_Unsubscribed   1.07\n",
       "13  Last Notable Activity_Olark Chat Conversation   1.06\n",
       "14              Last Notable Activity_Unreachable   1.01"
      ]
     },
     "execution_count": 74,
     "metadata": {},
     "output_type": "execute_result"
    }
   ],
   "source": [
    "# checking VIF values for further feature selection\n",
    "\n",
    "vif = pd.DataFrame()\n",
    "vif['Features'] = X_train_ct[col].columns\n",
    "vif['VIF'] = [variance_inflation_factor(X_train_ct[col].values, i) for i in range(X_train_ct[col].shape[1])]\n",
    "vif['VIF'] = round(vif['VIF'], 2)\n",
    "vif = vif.sort_values(by = \"VIF\", ascending = False)\n",
    "vif\n"
   ]
  },
  {
   "cell_type": "markdown",
   "metadata": {},
   "source": [
    "as seen all the 16 variables have good VIF value. There are no high correlation between variables"
   ]
  },
  {
   "cell_type": "markdown",
   "metadata": {},
   "source": [
    "##### Model_6"
   ]
  },
  {
   "cell_type": "code",
   "execution_count": 75,
   "metadata": {},
   "outputs": [
    {
     "data": {
      "text/html": [
       "<table class=\"simpletable\">\n",
       "<caption>Generalized Linear Model Regression Results</caption>\n",
       "<tr>\n",
       "  <th>Dep. Variable:</th>       <td>Converted</td>    <th>  No. Observations:  </th>  <td>  6334</td> \n",
       "</tr>\n",
       "<tr>\n",
       "  <th>Model:</th>                  <td>GLM</td>       <th>  Df Residuals:      </th>  <td>  6317</td> \n",
       "</tr>\n",
       "<tr>\n",
       "  <th>Model Family:</th>        <td>Binomial</td>     <th>  Df Model:          </th>  <td>    16</td> \n",
       "</tr>\n",
       "<tr>\n",
       "  <th>Link Function:</th>         <td>logit</td>      <th>  Scale:             </th> <td>  1.0000</td>\n",
       "</tr>\n",
       "<tr>\n",
       "  <th>Method:</th>                <td>IRLS</td>       <th>  Log-Likelihood:    </th> <td> -2660.9</td>\n",
       "</tr>\n",
       "<tr>\n",
       "  <th>Date:</th>            <td>Mon, 09 Aug 2021</td> <th>  Deviance:          </th> <td>  5321.9</td>\n",
       "</tr>\n",
       "<tr>\n",
       "  <th>Time:</th>                <td>10:56:47</td>     <th>  Pearson chi2:      </th> <td>6.34e+03</td>\n",
       "</tr>\n",
       "<tr>\n",
       "  <th>No. Iterations:</th>          <td>7</td>        <th>                     </th>     <td> </td>   \n",
       "</tr>\n",
       "<tr>\n",
       "  <th>Covariance Type:</th>     <td>nonrobust</td>    <th>                     </th>     <td> </td>   \n",
       "</tr>\n",
       "</table>\n",
       "<table class=\"simpletable\">\n",
       "<tr>\n",
       "                        <td></td>                           <th>coef</th>     <th>std err</th>      <th>z</th>      <th>P>|z|</th>  <th>[0.025</th>    <th>0.975]</th>  \n",
       "</tr>\n",
       "<tr>\n",
       "  <th>const</th>                                         <td>   -0.8065</td> <td>    0.151</td> <td>   -5.349</td> <td> 0.000</td> <td>   -1.102</td> <td>   -0.511</td>\n",
       "</tr>\n",
       "<tr>\n",
       "  <th>Do Not Email</th>                                  <td>   -1.4406</td> <td>    0.178</td> <td>   -8.086</td> <td> 0.000</td> <td>   -1.790</td> <td>   -1.091</td>\n",
       "</tr>\n",
       "<tr>\n",
       "  <th>TotalVisits</th>                                   <td>    1.0230</td> <td>    0.278</td> <td>    3.678</td> <td> 0.000</td> <td>    0.478</td> <td>    1.568</td>\n",
       "</tr>\n",
       "<tr>\n",
       "  <th>Total Time Spent on Website</th>                   <td>    3.8865</td> <td>    0.139</td> <td>   27.884</td> <td> 0.000</td> <td>    3.613</td> <td>    4.160</td>\n",
       "</tr>\n",
       "<tr>\n",
       "  <th>Page Views Per Visit</th>                          <td>   -1.4137</td> <td>    0.426</td> <td>   -3.315</td> <td> 0.001</td> <td>   -2.249</td> <td>   -0.578</td>\n",
       "</tr>\n",
       "<tr>\n",
       "  <th>Lead Origin_Landing Page Submission</th>           <td>   -1.3041</td> <td>    0.126</td> <td>  -10.365</td> <td> 0.000</td> <td>   -1.551</td> <td>   -1.057</td>\n",
       "</tr>\n",
       "<tr>\n",
       "  <th>Lead Origin_Lead Add Form</th>                     <td>    3.4920</td> <td>    0.220</td> <td>   15.905</td> <td> 0.000</td> <td>    3.062</td> <td>    3.922</td>\n",
       "</tr>\n",
       "<tr>\n",
       "  <th>Last Activity_Email Link Clicked</th>              <td>    0.9027</td> <td>    0.333</td> <td>    2.708</td> <td> 0.007</td> <td>    0.249</td> <td>    1.556</td>\n",
       "</tr>\n",
       "<tr>\n",
       "  <th>Last Activity_SMS Sent</th>                        <td>    1.4245</td> <td>    0.076</td> <td>   18.848</td> <td> 0.000</td> <td>    1.276</td> <td>    1.573</td>\n",
       "</tr>\n",
       "<tr>\n",
       "  <th>Last Activity_Unsubscribed</th>                    <td>    1.2937</td> <td>    0.468</td> <td>    2.765</td> <td> 0.006</td> <td>    0.377</td> <td>    2.211</td>\n",
       "</tr>\n",
       "<tr>\n",
       "  <th>Specialization_No information</th>                 <td>   -1.5179</td> <td>    0.122</td> <td>  -12.475</td> <td> 0.000</td> <td>   -1.756</td> <td>   -1.279</td>\n",
       "</tr>\n",
       "<tr>\n",
       "  <th>Last Notable Activity_Email Link Clicked</th>      <td>   -1.4094</td> <td>    0.416</td> <td>   -3.387</td> <td> 0.001</td> <td>   -2.225</td> <td>   -0.594</td>\n",
       "</tr>\n",
       "<tr>\n",
       "  <th>Last Notable Activity_Modified</th>                <td>   -1.0868</td> <td>    0.080</td> <td>  -13.511</td> <td> 0.000</td> <td>   -1.244</td> <td>   -0.929</td>\n",
       "</tr>\n",
       "<tr>\n",
       "  <th>Last Notable Activity_Olark Chat Conversation</th> <td>   -1.9056</td> <td>    0.368</td> <td>   -5.184</td> <td> 0.000</td> <td>   -2.626</td> <td>   -1.185</td>\n",
       "</tr>\n",
       "<tr>\n",
       "  <th>Last Notable Activity_Unreachable</th>             <td>    1.6951</td> <td>    0.610</td> <td>    2.780</td> <td> 0.005</td> <td>    0.500</td> <td>    2.890</td>\n",
       "</tr>\n",
       "<tr>\n",
       "  <th>Lead Source_Olark Chat</th>                        <td>    1.0108</td> <td>    0.132</td> <td>    7.630</td> <td> 0.000</td> <td>    0.751</td> <td>    1.270</td>\n",
       "</tr>\n",
       "<tr>\n",
       "  <th>Lead Source_Welingak Website</th>                  <td>    2.2086</td> <td>    0.749</td> <td>    2.948</td> <td> 0.003</td> <td>    0.740</td> <td>    3.677</td>\n",
       "</tr>\n",
       "</table>"
      ],
      "text/plain": [
       "<class 'statsmodels.iolib.summary.Summary'>\n",
       "\"\"\"\n",
       "                 Generalized Linear Model Regression Results                  \n",
       "==============================================================================\n",
       "Dep. Variable:              Converted   No. Observations:                 6334\n",
       "Model:                            GLM   Df Residuals:                     6317\n",
       "Model Family:                Binomial   Df Model:                           16\n",
       "Link Function:                  logit   Scale:                          1.0000\n",
       "Method:                          IRLS   Log-Likelihood:                -2660.9\n",
       "Date:                Mon, 09 Aug 2021   Deviance:                       5321.9\n",
       "Time:                        10:56:47   Pearson chi2:                 6.34e+03\n",
       "No. Iterations:                     7                                         \n",
       "Covariance Type:            nonrobust                                         \n",
       "=================================================================================================================\n",
       "                                                    coef    std err          z      P>|z|      [0.025      0.975]\n",
       "-----------------------------------------------------------------------------------------------------------------\n",
       "const                                            -0.8065      0.151     -5.349      0.000      -1.102      -0.511\n",
       "Do Not Email                                     -1.4406      0.178     -8.086      0.000      -1.790      -1.091\n",
       "TotalVisits                                       1.0230      0.278      3.678      0.000       0.478       1.568\n",
       "Total Time Spent on Website                       3.8865      0.139     27.884      0.000       3.613       4.160\n",
       "Page Views Per Visit                             -1.4137      0.426     -3.315      0.001      -2.249      -0.578\n",
       "Lead Origin_Landing Page Submission              -1.3041      0.126    -10.365      0.000      -1.551      -1.057\n",
       "Lead Origin_Lead Add Form                         3.4920      0.220     15.905      0.000       3.062       3.922\n",
       "Last Activity_Email Link Clicked                  0.9027      0.333      2.708      0.007       0.249       1.556\n",
       "Last Activity_SMS Sent                            1.4245      0.076     18.848      0.000       1.276       1.573\n",
       "Last Activity_Unsubscribed                        1.2937      0.468      2.765      0.006       0.377       2.211\n",
       "Specialization_No information                    -1.5179      0.122    -12.475      0.000      -1.756      -1.279\n",
       "Last Notable Activity_Email Link Clicked         -1.4094      0.416     -3.387      0.001      -2.225      -0.594\n",
       "Last Notable Activity_Modified                   -1.0868      0.080    -13.511      0.000      -1.244      -0.929\n",
       "Last Notable Activity_Olark Chat Conversation    -1.9056      0.368     -5.184      0.000      -2.626      -1.185\n",
       "Last Notable Activity_Unreachable                 1.6951      0.610      2.780      0.005       0.500       2.890\n",
       "Lead Source_Olark Chat                            1.0108      0.132      7.630      0.000       0.751       1.270\n",
       "Lead Source_Welingak Website                      2.2086      0.749      2.948      0.003       0.740       3.677\n",
       "=================================================================================================================\n",
       "\"\"\""
      ]
     },
     "execution_count": 75,
     "metadata": {},
     "output_type": "execute_result"
    }
   ],
   "source": [
    "# model building\n",
    "lg = sm.GLM(y_train,X_train_ct, family = sm.families.Binomial())\n",
    "res = lg.fit()\n",
    "res.summary()"
   ]
  },
  {
   "cell_type": "markdown",
   "metadata": {},
   "source": [
    "##### predicting with training set"
   ]
  },
  {
   "cell_type": "code",
   "execution_count": 76,
   "metadata": {},
   "outputs": [
    {
     "data": {
      "text/plain": [
       "9028    0.211894\n",
       "6671    0.094190\n",
       "8771    0.211894\n",
       "2902    0.057295\n",
       "945     0.251709\n",
       "9114    0.211894\n",
       "8782    0.302794\n",
       "8786    0.960534\n",
       "5333    0.059853\n",
       "313     0.078827\n",
       "dtype: float64"
      ]
     },
     "execution_count": 76,
     "metadata": {},
     "output_type": "execute_result"
    }
   ],
   "source": [
    "# predicting with train set\n",
    "\n",
    "y_train_pred = res.predict(X_train_ct)\n",
    "y_train_pred[:10]"
   ]
  },
  {
   "cell_type": "code",
   "execution_count": 77,
   "metadata": {},
   "outputs": [
    {
     "data": {
      "text/plain": [
       "array([0.21189443, 0.09419031, 0.21189443, 0.05729512, 0.25170881,\n",
       "       0.21189443, 0.3027945 , 0.96053442, 0.05985303, 0.07882676])"
      ]
     },
     "execution_count": 77,
     "metadata": {},
     "output_type": "execute_result"
    }
   ],
   "source": [
    "y_train_pred = y_train_pred.values.reshape(-1)\n",
    "y_train_pred[:10]"
   ]
  },
  {
   "cell_type": "code",
   "execution_count": 78,
   "metadata": {},
   "outputs": [
    {
     "data": {
      "text/plain": [
       "array([[1],\n",
       "       [0],\n",
       "       [0],\n",
       "       ...,\n",
       "       [0],\n",
       "       [0],\n",
       "       [1]], dtype=int64)"
      ]
     },
     "execution_count": 78,
     "metadata": {},
     "output_type": "execute_result"
    }
   ],
   "source": [
    "# reveiwing\n",
    "y_train.values"
   ]
  },
  {
   "cell_type": "code",
   "execution_count": 79,
   "metadata": {},
   "outputs": [
    {
     "data": {
      "text/plain": [
       "array([1, 0, 0, ..., 0, 0, 1], dtype=int64)"
      ]
     },
     "execution_count": 79,
     "metadata": {},
     "output_type": "execute_result"
    }
   ],
   "source": [
    "y_train.values.reshape(-1)"
   ]
  },
  {
   "cell_type": "code",
   "execution_count": 80,
   "metadata": {},
   "outputs": [
    {
     "data": {
      "text/html": [
       "<div>\n",
       "<style scoped>\n",
       "    .dataframe tbody tr th:only-of-type {\n",
       "        vertical-align: middle;\n",
       "    }\n",
       "\n",
       "    .dataframe tbody tr th {\n",
       "        vertical-align: top;\n",
       "    }\n",
       "\n",
       "    .dataframe thead th {\n",
       "        text-align: right;\n",
       "    }\n",
       "</style>\n",
       "<table border=\"1\" class=\"dataframe\">\n",
       "  <thead>\n",
       "    <tr style=\"text-align: right;\">\n",
       "      <th></th>\n",
       "      <th>Converted</th>\n",
       "      <th>Conversion_Prob</th>\n",
       "    </tr>\n",
       "  </thead>\n",
       "  <tbody>\n",
       "    <tr>\n",
       "      <th>0</th>\n",
       "      <td>1</td>\n",
       "      <td>0.211894</td>\n",
       "    </tr>\n",
       "    <tr>\n",
       "      <th>1</th>\n",
       "      <td>0</td>\n",
       "      <td>0.094190</td>\n",
       "    </tr>\n",
       "    <tr>\n",
       "      <th>2</th>\n",
       "      <td>0</td>\n",
       "      <td>0.211894</td>\n",
       "    </tr>\n",
       "    <tr>\n",
       "      <th>3</th>\n",
       "      <td>0</td>\n",
       "      <td>0.057295</td>\n",
       "    </tr>\n",
       "    <tr>\n",
       "      <th>4</th>\n",
       "      <td>0</td>\n",
       "      <td>0.251709</td>\n",
       "    </tr>\n",
       "    <tr>\n",
       "      <th>...</th>\n",
       "      <td>...</td>\n",
       "      <td>...</td>\n",
       "    </tr>\n",
       "    <tr>\n",
       "      <th>6329</th>\n",
       "      <td>0</td>\n",
       "      <td>0.038452</td>\n",
       "    </tr>\n",
       "    <tr>\n",
       "      <th>6330</th>\n",
       "      <td>0</td>\n",
       "      <td>0.211894</td>\n",
       "    </tr>\n",
       "    <tr>\n",
       "      <th>6331</th>\n",
       "      <td>0</td>\n",
       "      <td>0.208120</td>\n",
       "    </tr>\n",
       "    <tr>\n",
       "      <th>6332</th>\n",
       "      <td>0</td>\n",
       "      <td>0.494613</td>\n",
       "    </tr>\n",
       "    <tr>\n",
       "      <th>6333</th>\n",
       "      <td>1</td>\n",
       "      <td>0.953968</td>\n",
       "    </tr>\n",
       "  </tbody>\n",
       "</table>\n",
       "<p>6334 rows × 2 columns</p>\n",
       "</div>"
      ],
      "text/plain": [
       "      Converted  Conversion_Prob\n",
       "0             1         0.211894\n",
       "1             0         0.094190\n",
       "2             0         0.211894\n",
       "3             0         0.057295\n",
       "4             0         0.251709\n",
       "...         ...              ...\n",
       "6329          0         0.038452\n",
       "6330          0         0.211894\n",
       "6331          0         0.208120\n",
       "6332          0         0.494613\n",
       "6333          1         0.953968\n",
       "\n",
       "[6334 rows x 2 columns]"
      ]
     },
     "execution_count": 80,
     "metadata": {},
     "output_type": "execute_result"
    }
   ],
   "source": [
    "# converting it into a dataframe\n",
    "\n",
    "y_train_pred_f = pd.DataFrame({'Converted':y_train.values.reshape(-1),'Conversion_Prob':y_train_pred})\n",
    "y_train_pred_f"
   ]
  },
  {
   "cell_type": "code",
   "execution_count": 81,
   "metadata": {},
   "outputs": [
    {
     "data": {
      "text/html": [
       "<div>\n",
       "<style scoped>\n",
       "    .dataframe tbody tr th:only-of-type {\n",
       "        vertical-align: middle;\n",
       "    }\n",
       "\n",
       "    .dataframe tbody tr th {\n",
       "        vertical-align: top;\n",
       "    }\n",
       "\n",
       "    .dataframe thead th {\n",
       "        text-align: right;\n",
       "    }\n",
       "</style>\n",
       "<table border=\"1\" class=\"dataframe\">\n",
       "  <thead>\n",
       "    <tr style=\"text-align: right;\">\n",
       "      <th></th>\n",
       "      <th>Converted</th>\n",
       "      <th>Conversion_Prob</th>\n",
       "      <th>Predicted</th>\n",
       "    </tr>\n",
       "  </thead>\n",
       "  <tbody>\n",
       "    <tr>\n",
       "      <th>0</th>\n",
       "      <td>1</td>\n",
       "      <td>0.211894</td>\n",
       "      <td>0</td>\n",
       "    </tr>\n",
       "    <tr>\n",
       "      <th>1</th>\n",
       "      <td>0</td>\n",
       "      <td>0.094190</td>\n",
       "      <td>0</td>\n",
       "    </tr>\n",
       "    <tr>\n",
       "      <th>2</th>\n",
       "      <td>0</td>\n",
       "      <td>0.211894</td>\n",
       "      <td>0</td>\n",
       "    </tr>\n",
       "    <tr>\n",
       "      <th>3</th>\n",
       "      <td>0</td>\n",
       "      <td>0.057295</td>\n",
       "      <td>0</td>\n",
       "    </tr>\n",
       "    <tr>\n",
       "      <th>4</th>\n",
       "      <td>0</td>\n",
       "      <td>0.251709</td>\n",
       "      <td>0</td>\n",
       "    </tr>\n",
       "  </tbody>\n",
       "</table>\n",
       "</div>"
      ],
      "text/plain": [
       "   Converted  Conversion_Prob  Predicted\n",
       "0          1         0.211894          0\n",
       "1          0         0.094190          0\n",
       "2          0         0.211894          0\n",
       "3          0         0.057295          0\n",
       "4          0         0.251709          0"
      ]
     },
     "execution_count": 81,
     "metadata": {},
     "output_type": "execute_result"
    }
   ],
   "source": [
    "# replacing probability values with 0.40 cutoff\n",
    "y_train_pred_f['Predicted'] = y_train_pred_f.Conversion_Prob.map(lambda x: 1 if x > 0.40 else 0)\n",
    "y_train_pred_f.head()"
   ]
  },
  {
   "cell_type": "code",
   "execution_count": 82,
   "metadata": {},
   "outputs": [],
   "source": [
    "# labeling lead scores\n",
    "y_train_pred_f[\"Lead_Score\"] = round(y_train_pred_f[\"Conversion_Prob\"]*100, 2)"
   ]
  },
  {
   "cell_type": "code",
   "execution_count": 83,
   "metadata": {},
   "outputs": [
    {
     "data": {
      "text/html": [
       "<div>\n",
       "<style scoped>\n",
       "    .dataframe tbody tr th:only-of-type {\n",
       "        vertical-align: middle;\n",
       "    }\n",
       "\n",
       "    .dataframe tbody tr th {\n",
       "        vertical-align: top;\n",
       "    }\n",
       "\n",
       "    .dataframe thead th {\n",
       "        text-align: right;\n",
       "    }\n",
       "</style>\n",
       "<table border=\"1\" class=\"dataframe\">\n",
       "  <thead>\n",
       "    <tr style=\"text-align: right;\">\n",
       "      <th></th>\n",
       "      <th>Converted</th>\n",
       "      <th>Conversion_Prob</th>\n",
       "      <th>Predicted</th>\n",
       "      <th>Lead_Score</th>\n",
       "    </tr>\n",
       "  </thead>\n",
       "  <tbody>\n",
       "    <tr>\n",
       "      <th>0</th>\n",
       "      <td>1</td>\n",
       "      <td>0.211894</td>\n",
       "      <td>0</td>\n",
       "      <td>21.19</td>\n",
       "    </tr>\n",
       "    <tr>\n",
       "      <th>1</th>\n",
       "      <td>0</td>\n",
       "      <td>0.094190</td>\n",
       "      <td>0</td>\n",
       "      <td>9.42</td>\n",
       "    </tr>\n",
       "    <tr>\n",
       "      <th>2</th>\n",
       "      <td>0</td>\n",
       "      <td>0.211894</td>\n",
       "      <td>0</td>\n",
       "      <td>21.19</td>\n",
       "    </tr>\n",
       "    <tr>\n",
       "      <th>3</th>\n",
       "      <td>0</td>\n",
       "      <td>0.057295</td>\n",
       "      <td>0</td>\n",
       "      <td>5.73</td>\n",
       "    </tr>\n",
       "    <tr>\n",
       "      <th>4</th>\n",
       "      <td>0</td>\n",
       "      <td>0.251709</td>\n",
       "      <td>0</td>\n",
       "      <td>25.17</td>\n",
       "    </tr>\n",
       "  </tbody>\n",
       "</table>\n",
       "</div>"
      ],
      "text/plain": [
       "   Converted  Conversion_Prob  Predicted  Lead_Score\n",
       "0          1         0.211894          0       21.19\n",
       "1          0         0.094190          0        9.42\n",
       "2          0         0.211894          0       21.19\n",
       "3          0         0.057295          0        5.73\n",
       "4          0         0.251709          0       25.17"
      ]
     },
     "execution_count": 83,
     "metadata": {},
     "output_type": "execute_result"
    }
   ],
   "source": [
    "y_train_pred_f.head()"
   ]
  },
  {
   "cell_type": "markdown",
   "metadata": {},
   "source": [
    "### 8. Model Evaluation"
   ]
  },
  {
   "cell_type": "code",
   "execution_count": 84,
   "metadata": {},
   "outputs": [
    {
     "data": {
      "text/plain": [
       "array([[3270,  671],\n",
       "       [ 534, 1859]], dtype=int64)"
      ]
     },
     "execution_count": 84,
     "metadata": {},
     "output_type": "execute_result"
    }
   ],
   "source": [
    "# Creating confusion matrix \n",
    "confusion = metrics.confusion_matrix(y_train_pred_f.Converted, y_train_pred_f.Predicted )\n",
    "confusion"
   ]
  },
  {
   "cell_type": "code",
   "execution_count": 85,
   "metadata": {},
   "outputs": [
    {
     "data": {
      "text/plain": [
       "0.809756867698137"
      ]
     },
     "execution_count": 85,
     "metadata": {},
     "output_type": "execute_result"
    }
   ],
   "source": [
    "metrics.accuracy_score(y_train_pred_f.Converted, y_train_pred_f.Predicted)"
   ]
  },
  {
   "cell_type": "code",
   "execution_count": 86,
   "metadata": {},
   "outputs": [],
   "source": [
    "# true positive\n",
    "TP = confusion[1,1]\n",
    "# true negatives\n",
    "TN = confusion[0,0]\n",
    "#  false positives\n",
    "FP = confusion[0,1] \n",
    "# false negatives\n",
    "FN = confusion[1,0]"
   ]
  },
  {
   "cell_type": "code",
   "execution_count": 87,
   "metadata": {},
   "outputs": [
    {
     "data": {
      "text/plain": [
       "0.7768491433347263"
      ]
     },
     "execution_count": 87,
     "metadata": {},
     "output_type": "execute_result"
    }
   ],
   "source": [
    "# sensitivity calculation\n",
    "TP/(TP+FN)"
   ]
  },
  {
   "cell_type": "code",
   "execution_count": 88,
   "metadata": {},
   "outputs": [
    {
     "data": {
      "text/plain": [
       "0.8297386450139559"
      ]
     },
     "execution_count": 88,
     "metadata": {},
     "output_type": "execute_result"
    }
   ],
   "source": [
    "# specificity calculation\n",
    "TN/(TN+FP)"
   ]
  },
  {
   "cell_type": "markdown",
   "metadata": {},
   "source": [
    "#### plotting ROC curve:"
   ]
  },
  {
   "cell_type": "code",
   "execution_count": 89,
   "metadata": {},
   "outputs": [],
   "source": [
    "def roc( actual, prob ):\n",
    "    fpr, tpr, thresholds = metrics.roc_curve( actual, prob, drop_intermediate = False )\n",
    "                                              \n",
    "    auc_score = metrics.roc_auc_score( actual, prob )\n",
    "    plt.figure(figsize=(5, 5))\n",
    "    plt.plot( fpr, tpr, label='ROC curve (area = %0.2f)' % auc_score )\n",
    "    plt.plot([0, 1], [0, 1], 'k--')\n",
    "    plt.xlim([0.0, 1.0])\n",
    "    plt.ylim([0.0, 1.05])\n",
    "    plt.xlabel('False Positive Rate or [1 - True Negative Rate]')\n",
    "    plt.ylabel('True Positive Rate')\n",
    "    plt.title('Receiver operating characteristic example')\n",
    "    plt.legend(loc=\"lower right\")\n",
    "    plt.show()\n",
    "\n",
    "    return None"
   ]
  },
  {
   "cell_type": "code",
   "execution_count": 90,
   "metadata": {},
   "outputs": [],
   "source": [
    "fpr, tpr, thresholds = metrics.roc_curve( y_train_pred_f.Converted, y_train_pred_f.Conversion_Prob, drop_intermediate = False )"
   ]
  },
  {
   "cell_type": "code",
   "execution_count": 91,
   "metadata": {},
   "outputs": [
    {
     "data": {
      "image/png": "[encoded data removed]",
      "text/plain": [
       "<Figure size 360x360 with 1 Axes>"
      ]
     },
     "metadata": {
      "needs_background": "light"
     },
     "output_type": "display_data"
    }
   ],
   "source": [
    "# plotting curve\n",
    "roc(y_train_pred_f.Converted, y_train_pred_f.Conversion_Prob)"
   ]
  },
  {
   "cell_type": "code",
   "execution_count": 92,
   "metadata": {},
   "outputs": [
    {
     "data": {
      "text/html": [
       "<div>\n",
       "<style scoped>\n",
       "    .dataframe tbody tr th:only-of-type {\n",
       "        vertical-align: middle;\n",
       "    }\n",
       "\n",
       "    .dataframe tbody tr th {\n",
       "        vertical-align: top;\n",
       "    }\n",
       "\n",
       "    .dataframe thead th {\n",
       "        text-align: right;\n",
       "    }\n",
       "</style>\n",
       "<table border=\"1\" class=\"dataframe\">\n",
       "  <thead>\n",
       "    <tr style=\"text-align: right;\">\n",
       "      <th></th>\n",
       "      <th>Converted</th>\n",
       "      <th>Conversion_Prob</th>\n",
       "      <th>Predicted</th>\n",
       "      <th>Lead_Score</th>\n",
       "      <th>0.0</th>\n",
       "      <th>0.1</th>\n",
       "      <th>0.2</th>\n",
       "      <th>0.3</th>\n",
       "      <th>0.4</th>\n",
       "      <th>0.5</th>\n",
       "      <th>0.6</th>\n",
       "      <th>0.7</th>\n",
       "      <th>0.8</th>\n",
       "      <th>0.9</th>\n",
       "    </tr>\n",
       "  </thead>\n",
       "  <tbody>\n",
       "    <tr>\n",
       "      <th>0</th>\n",
       "      <td>1</td>\n",
       "      <td>0.211894</td>\n",
       "      <td>0</td>\n",
       "      <td>21.19</td>\n",
       "      <td>1</td>\n",
       "      <td>1</td>\n",
       "      <td>1</td>\n",
       "      <td>0</td>\n",
       "      <td>0</td>\n",
       "      <td>0</td>\n",
       "      <td>0</td>\n",
       "      <td>0</td>\n",
       "      <td>0</td>\n",
       "      <td>0</td>\n",
       "    </tr>\n",
       "    <tr>\n",
       "      <th>1</th>\n",
       "      <td>0</td>\n",
       "      <td>0.094190</td>\n",
       "      <td>0</td>\n",
       "      <td>9.42</td>\n",
       "      <td>1</td>\n",
       "      <td>0</td>\n",
       "      <td>0</td>\n",
       "      <td>0</td>\n",
       "      <td>0</td>\n",
       "      <td>0</td>\n",
       "      <td>0</td>\n",
       "      <td>0</td>\n",
       "      <td>0</td>\n",
       "      <td>0</td>\n",
       "    </tr>\n",
       "    <tr>\n",
       "      <th>2</th>\n",
       "      <td>0</td>\n",
       "      <td>0.211894</td>\n",
       "      <td>0</td>\n",
       "      <td>21.19</td>\n",
       "      <td>1</td>\n",
       "      <td>1</td>\n",
       "      <td>1</td>\n",
       "      <td>0</td>\n",
       "      <td>0</td>\n",
       "      <td>0</td>\n",
       "      <td>0</td>\n",
       "      <td>0</td>\n",
       "      <td>0</td>\n",
       "      <td>0</td>\n",
       "    </tr>\n",
       "    <tr>\n",
       "      <th>3</th>\n",
       "      <td>0</td>\n",
       "      <td>0.057295</td>\n",
       "      <td>0</td>\n",
       "      <td>5.73</td>\n",
       "      <td>1</td>\n",
       "      <td>0</td>\n",
       "      <td>0</td>\n",
       "      <td>0</td>\n",
       "      <td>0</td>\n",
       "      <td>0</td>\n",
       "      <td>0</td>\n",
       "      <td>0</td>\n",
       "      <td>0</td>\n",
       "      <td>0</td>\n",
       "    </tr>\n",
       "    <tr>\n",
       "      <th>4</th>\n",
       "      <td>0</td>\n",
       "      <td>0.251709</td>\n",
       "      <td>0</td>\n",
       "      <td>25.17</td>\n",
       "      <td>1</td>\n",
       "      <td>1</td>\n",
       "      <td>1</td>\n",
       "      <td>0</td>\n",
       "      <td>0</td>\n",
       "      <td>0</td>\n",
       "      <td>0</td>\n",
       "      <td>0</td>\n",
       "      <td>0</td>\n",
       "      <td>0</td>\n",
       "    </tr>\n",
       "  </tbody>\n",
       "</table>\n",
       "</div>"
      ],
      "text/plain": [
       "   Converted  Conversion_Prob  Predicted  Lead_Score  0.0  0.1  0.2  0.3  0.4  \\\n",
       "0          1         0.211894          0       21.19    1    1    1    0    0   \n",
       "1          0         0.094190          0        9.42    1    0    0    0    0   \n",
       "2          0         0.211894          0       21.19    1    1    1    0    0   \n",
       "3          0         0.057295          0        5.73    1    0    0    0    0   \n",
       "4          0         0.251709          0       25.17    1    1    1    0    0   \n",
       "\n",
       "   0.5  0.6  0.7  0.8  0.9  \n",
       "0    0    0    0    0    0  \n",
       "1    0    0    0    0    0  \n",
       "2    0    0    0    0    0  \n",
       "3    0    0    0    0    0  \n",
       "4    0    0    0    0    0  "
      ]
     },
     "execution_count": 92,
     "metadata": {},
     "output_type": "execute_result"
    }
   ],
   "source": [
    "# this shows threshold cutoff for different probability values\n",
    "numbers = [float(x)/10 for x in range(10)]\n",
    "for i in numbers:\n",
    "    y_train_pred_f[i]= y_train_pred_f.Conversion_Prob.map(lambda x: 1 if x > i else 0)\n",
    "y_train_pred_f.head()"
   ]
  },
  {
   "cell_type": "markdown",
   "metadata": {},
   "source": [
    "###### accuracy, specificity, sensitivtiy"
   ]
  },
  {
   "cell_type": "code",
   "execution_count": 93,
   "metadata": {},
   "outputs": [
    {
     "data": {
      "text/html": [
       "<div>\n",
       "<style scoped>\n",
       "    .dataframe tbody tr th:only-of-type {\n",
       "        vertical-align: middle;\n",
       "    }\n",
       "\n",
       "    .dataframe tbody tr th {\n",
       "        vertical-align: top;\n",
       "    }\n",
       "\n",
       "    .dataframe thead th {\n",
       "        text-align: right;\n",
       "    }\n",
       "</style>\n",
       "<table border=\"1\" class=\"dataframe\">\n",
       "  <thead>\n",
       "    <tr style=\"text-align: right;\">\n",
       "      <th></th>\n",
       "      <th>prob</th>\n",
       "      <th>accuracy</th>\n",
       "      <th>sensitivity</th>\n",
       "      <th>specificity</th>\n",
       "    </tr>\n",
       "  </thead>\n",
       "  <tbody>\n",
       "    <tr>\n",
       "      <th>0.0</th>\n",
       "      <td>0.0</td>\n",
       "      <td>0.377802</td>\n",
       "      <td>1.000000</td>\n",
       "      <td>0.000000</td>\n",
       "    </tr>\n",
       "    <tr>\n",
       "      <th>0.1</th>\n",
       "      <td>0.1</td>\n",
       "      <td>0.608936</td>\n",
       "      <td>0.968241</td>\n",
       "      <td>0.390764</td>\n",
       "    </tr>\n",
       "    <tr>\n",
       "      <th>0.2</th>\n",
       "      <td>0.2</td>\n",
       "      <td>0.736817</td>\n",
       "      <td>0.915169</td>\n",
       "      <td>0.628521</td>\n",
       "    </tr>\n",
       "    <tr>\n",
       "      <th>0.3</th>\n",
       "      <td>0.3</td>\n",
       "      <td>0.797600</td>\n",
       "      <td>0.837025</td>\n",
       "      <td>0.773662</td>\n",
       "    </tr>\n",
       "    <tr>\n",
       "      <th>0.4</th>\n",
       "      <td>0.4</td>\n",
       "      <td>0.809757</td>\n",
       "      <td>0.776849</td>\n",
       "      <td>0.829739</td>\n",
       "    </tr>\n",
       "    <tr>\n",
       "      <th>0.5</th>\n",
       "      <td>0.5</td>\n",
       "      <td>0.813230</td>\n",
       "      <td>0.706644</td>\n",
       "      <td>0.877950</td>\n",
       "    </tr>\n",
       "    <tr>\n",
       "      <th>0.6</th>\n",
       "      <td>0.6</td>\n",
       "      <td>0.796337</td>\n",
       "      <td>0.587129</td>\n",
       "      <td>0.923370</td>\n",
       "    </tr>\n",
       "    <tr>\n",
       "      <th>0.7</th>\n",
       "      <td>0.7</td>\n",
       "      <td>0.779444</td>\n",
       "      <td>0.504806</td>\n",
       "      <td>0.946207</td>\n",
       "    </tr>\n",
       "    <tr>\n",
       "      <th>0.8</th>\n",
       "      <td>0.8</td>\n",
       "      <td>0.754973</td>\n",
       "      <td>0.405349</td>\n",
       "      <td>0.967267</td>\n",
       "    </tr>\n",
       "    <tr>\n",
       "      <th>0.9</th>\n",
       "      <td>0.9</td>\n",
       "      <td>0.709662</td>\n",
       "      <td>0.252821</td>\n",
       "      <td>0.987059</td>\n",
       "    </tr>\n",
       "  </tbody>\n",
       "</table>\n",
       "</div>"
      ],
      "text/plain": [
       "     prob  accuracy  sensitivity  specificity\n",
       "0.0   0.0  0.377802     1.000000     0.000000\n",
       "0.1   0.1  0.608936     0.968241     0.390764\n",
       "0.2   0.2  0.736817     0.915169     0.628521\n",
       "0.3   0.3  0.797600     0.837025     0.773662\n",
       "0.4   0.4  0.809757     0.776849     0.829739\n",
       "0.5   0.5  0.813230     0.706644     0.877950\n",
       "0.6   0.6  0.796337     0.587129     0.923370\n",
       "0.7   0.7  0.779444     0.504806     0.946207\n",
       "0.8   0.8  0.754973     0.405349     0.967267\n",
       "0.9   0.9  0.709662     0.252821     0.987059"
      ]
     },
     "execution_count": 93,
     "metadata": {},
     "output_type": "execute_result"
    }
   ],
   "source": [
    "# Creating a dataframe to see the values of accuracy, sensitivity, and specificity at different values of probabiity cutoffs\n",
    "cutoff_df = pd.DataFrame( columns = ['prob','accuracy','sensitivity','specificity'])\n",
    "\n",
    "\n",
    "# Making confusing matrix to find values of sensitivity, accurace and specificity for each level of probablity\n",
    "\n",
    "from sklearn.metrics import confusion_matrix\n",
    "num = [0.0,0.1,0.2,0.3,0.4,0.5,0.6,0.7,0.8,0.9]\n",
    "for i in num:\n",
    "    cm1 = metrics.confusion_matrix(y_train_pred_f.Converted, y_train_pred_f[i] )\n",
    "    total1=sum(sum(cm1))\n",
    "    accuracy = (cm1[0,0]+cm1[1,1])/total1\n",
    "    \n",
    "    speci = cm1[0,0]/(cm1[0,0]+cm1[0,1])\n",
    "    sensi = cm1[1,1]/(cm1[1,0]+cm1[1,1])\n",
    "    cutoff_df.loc[i] =[ i ,accuracy,sensi,speci]\n",
    "cutoff_df"
   ]
  },
  {
   "cell_type": "code",
   "execution_count": 94,
   "metadata": {},
   "outputs": [
    {
     "data": {
      "image/png": "[encoded data removed]",
      "text/plain": [
       "<Figure size 432x288 with 1 Axes>"
      ]
     },
     "metadata": {
      "needs_background": "light"
     },
     "output_type": "display_data"
    }
   ],
   "source": [
    "# Plotting it\n",
    "cutoff_df.plot.line(x='prob', y=['accuracy','sensitivity','specificity'])\n",
    "plt.show()"
   ]
  },
  {
   "cell_type": "code",
   "execution_count": 95,
   "metadata": {},
   "outputs": [
    {
     "data": {
      "text/html": [
       "<div>\n",
       "<style scoped>\n",
       "    .dataframe tbody tr th:only-of-type {\n",
       "        vertical-align: middle;\n",
       "    }\n",
       "\n",
       "    .dataframe tbody tr th {\n",
       "        vertical-align: top;\n",
       "    }\n",
       "\n",
       "    .dataframe thead th {\n",
       "        text-align: right;\n",
       "    }\n",
       "</style>\n",
       "<table border=\"1\" class=\"dataframe\">\n",
       "  <thead>\n",
       "    <tr style=\"text-align: right;\">\n",
       "      <th></th>\n",
       "      <th>Converted</th>\n",
       "      <th>Conversion_Prob</th>\n",
       "      <th>Predicted</th>\n",
       "      <th>Lead_Score</th>\n",
       "      <th>0.0</th>\n",
       "      <th>0.1</th>\n",
       "      <th>0.2</th>\n",
       "      <th>0.3</th>\n",
       "      <th>0.4</th>\n",
       "      <th>0.5</th>\n",
       "      <th>0.6</th>\n",
       "      <th>0.7</th>\n",
       "      <th>0.8</th>\n",
       "      <th>0.9</th>\n",
       "      <th>final_predicted</th>\n",
       "    </tr>\n",
       "  </thead>\n",
       "  <tbody>\n",
       "    <tr>\n",
       "      <th>0</th>\n",
       "      <td>1</td>\n",
       "      <td>0.211894</td>\n",
       "      <td>0</td>\n",
       "      <td>21.19</td>\n",
       "      <td>1</td>\n",
       "      <td>1</td>\n",
       "      <td>1</td>\n",
       "      <td>0</td>\n",
       "      <td>0</td>\n",
       "      <td>0</td>\n",
       "      <td>0</td>\n",
       "      <td>0</td>\n",
       "      <td>0</td>\n",
       "      <td>0</td>\n",
       "      <td>0</td>\n",
       "    </tr>\n",
       "    <tr>\n",
       "      <th>1</th>\n",
       "      <td>0</td>\n",
       "      <td>0.094190</td>\n",
       "      <td>0</td>\n",
       "      <td>9.42</td>\n",
       "      <td>1</td>\n",
       "      <td>0</td>\n",
       "      <td>0</td>\n",
       "      <td>0</td>\n",
       "      <td>0</td>\n",
       "      <td>0</td>\n",
       "      <td>0</td>\n",
       "      <td>0</td>\n",
       "      <td>0</td>\n",
       "      <td>0</td>\n",
       "      <td>0</td>\n",
       "    </tr>\n",
       "    <tr>\n",
       "      <th>2</th>\n",
       "      <td>0</td>\n",
       "      <td>0.211894</td>\n",
       "      <td>0</td>\n",
       "      <td>21.19</td>\n",
       "      <td>1</td>\n",
       "      <td>1</td>\n",
       "      <td>1</td>\n",
       "      <td>0</td>\n",
       "      <td>0</td>\n",
       "      <td>0</td>\n",
       "      <td>0</td>\n",
       "      <td>0</td>\n",
       "      <td>0</td>\n",
       "      <td>0</td>\n",
       "      <td>0</td>\n",
       "    </tr>\n",
       "    <tr>\n",
       "      <th>3</th>\n",
       "      <td>0</td>\n",
       "      <td>0.057295</td>\n",
       "      <td>0</td>\n",
       "      <td>5.73</td>\n",
       "      <td>1</td>\n",
       "      <td>0</td>\n",
       "      <td>0</td>\n",
       "      <td>0</td>\n",
       "      <td>0</td>\n",
       "      <td>0</td>\n",
       "      <td>0</td>\n",
       "      <td>0</td>\n",
       "      <td>0</td>\n",
       "      <td>0</td>\n",
       "      <td>0</td>\n",
       "    </tr>\n",
       "    <tr>\n",
       "      <th>4</th>\n",
       "      <td>0</td>\n",
       "      <td>0.251709</td>\n",
       "      <td>0</td>\n",
       "      <td>25.17</td>\n",
       "      <td>1</td>\n",
       "      <td>1</td>\n",
       "      <td>1</td>\n",
       "      <td>0</td>\n",
       "      <td>0</td>\n",
       "      <td>0</td>\n",
       "      <td>0</td>\n",
       "      <td>0</td>\n",
       "      <td>0</td>\n",
       "      <td>0</td>\n",
       "      <td>0</td>\n",
       "    </tr>\n",
       "  </tbody>\n",
       "</table>\n",
       "</div>"
      ],
      "text/plain": [
       "   Converted  Conversion_Prob  Predicted  Lead_Score  0.0  0.1  0.2  0.3  0.4  \\\n",
       "0          1         0.211894          0       21.19    1    1    1    0    0   \n",
       "1          0         0.094190          0        9.42    1    0    0    0    0   \n",
       "2          0         0.211894          0       21.19    1    1    1    0    0   \n",
       "3          0         0.057295          0        5.73    1    0    0    0    0   \n",
       "4          0         0.251709          0       25.17    1    1    1    0    0   \n",
       "\n",
       "   0.5  0.6  0.7  0.8  0.9  final_predicted  \n",
       "0    0    0    0    0    0                0  \n",
       "1    0    0    0    0    0                0  \n",
       "2    0    0    0    0    0                0  \n",
       "3    0    0    0    0    0                0  \n",
       "4    0    0    0    0    0                0  "
      ]
     },
     "execution_count": 95,
     "metadata": {},
     "output_type": "execute_result"
    }
   ],
   "source": [
    "# this shows the approximate threshold value to be chosen \n",
    "y_train_pred_f['final_predicted'] = y_train_pred_f.Conversion_Prob.map( lambda x: 1 if x > 0.40 else 0)\n",
    "y_train_pred_f.head()"
   ]
  },
  {
   "cell_type": "code",
   "execution_count": 96,
   "metadata": {},
   "outputs": [
    {
     "data": {
      "text/plain": [
       "0.809756867698137"
      ]
     },
     "execution_count": 96,
     "metadata": {},
     "output_type": "execute_result"
    }
   ],
   "source": [
    "metrics.accuracy_score(y_train_pred_f.Converted, y_train_pred_f.final_predicted)"
   ]
  },
  {
   "cell_type": "code",
   "execution_count": 97,
   "metadata": {},
   "outputs": [
    {
     "data": {
      "text/plain": [
       "array([[3270,  671],\n",
       "       [ 534, 1859]], dtype=int64)"
      ]
     },
     "execution_count": 97,
     "metadata": {},
     "output_type": "execute_result"
    }
   ],
   "source": [
    "# Creating confusion matrix \n",
    "confusion0 = metrics.confusion_matrix(y_train_pred_f.Converted, y_train_pred_f.final_predicted )\n",
    "confusion0"
   ]
  },
  {
   "cell_type": "code",
   "execution_count": 98,
   "metadata": {},
   "outputs": [],
   "source": [
    "# true positive\n",
    "TP = confusion0[1,1]\n",
    "# true negatives\n",
    "TN = confusion0[0,0]\n",
    "#  false positives\n",
    "FP = confusion0[0,1] \n",
    "# false negatives\n",
    "FN = confusion0[1,0]"
   ]
  },
  {
   "cell_type": "code",
   "execution_count": 99,
   "metadata": {},
   "outputs": [
    {
     "data": {
      "text/plain": [
       "0.7768491433347263"
      ]
     },
     "execution_count": 99,
     "metadata": {},
     "output_type": "execute_result"
    }
   ],
   "source": [
    "# sensitivity calculation\n",
    "TP/(TP+FN)"
   ]
  },
  {
   "cell_type": "code",
   "execution_count": 100,
   "metadata": {},
   "outputs": [
    {
     "data": {
      "text/plain": [
       "0.8297386450139559"
      ]
     },
     "execution_count": 100,
     "metadata": {},
     "output_type": "execute_result"
    }
   ],
   "source": [
    "# specificity calculation\n",
    "TN/(TN+FP)"
   ]
  },
  {
   "cell_type": "markdown",
   "metadata": {},
   "source": [
    "##### Precision and recall tradeoff for train set"
   ]
  },
  {
   "cell_type": "code",
   "execution_count": 101,
   "metadata": {},
   "outputs": [],
   "source": [
    "# plotting precision and recall curve\n",
    "p, r, thresholds = precision_recall_curve(y_train_pred_f.Converted, y_train_pred_f.Conversion_Prob)"
   ]
  },
  {
   "cell_type": "code",
   "execution_count": 102,
   "metadata": {},
   "outputs": [
    {
     "data": {
      "image/png": "[encoded data removed]",
      "text/plain": [
       "<Figure size 432x288 with 1 Axes>"
      ]
     },
     "metadata": {
      "needs_background": "light"
     },
     "output_type": "display_data"
    }
   ],
   "source": [
    "plt.plot(thresholds, p[:-1], \"g-\")\n",
    "plt.plot(thresholds, r[:-1], \"r-\")\n",
    "plt.show()"
   ]
  },
  {
   "cell_type": "code",
   "execution_count": 103,
   "metadata": {},
   "outputs": [
    {
     "name": "stdout",
     "output_type": "stream",
     "text": [
      "precision : \n"
     ]
    },
    {
     "data": {
      "text/plain": [
       "0.7347826086956522"
      ]
     },
     "execution_count": 103,
     "metadata": {},
     "output_type": "execute_result"
    }
   ],
   "source": [
    "# precision score\n",
    "print(\"precision : \")\n",
    "precision_score(y_train_pred_f.Converted, y_train_pred_f.final_predicted)\n"
   ]
  },
  {
   "cell_type": "code",
   "execution_count": 104,
   "metadata": {},
   "outputs": [
    {
     "name": "stdout",
     "output_type": "stream",
     "text": [
      "recall : \n"
     ]
    },
    {
     "data": {
      "text/plain": [
       "0.7768491433347263"
      ]
     },
     "execution_count": 104,
     "metadata": {},
     "output_type": "execute_result"
    }
   ],
   "source": [
    "# recall score\n",
    "print(\"recall : \")\n",
    "recall_score(y_train_pred_f.Converted, y_train_pred_f.final_predicted)\n"
   ]
  },
  {
   "cell_type": "markdown",
   "metadata": {},
   "source": [
    "### 9. Making predicitons on the test set "
   ]
  },
  {
   "cell_type": "code",
   "execution_count": 105,
   "metadata": {},
   "outputs": [],
   "source": [
    "# scaling test set variables\n",
    "X_test[scal] = scaler.transform(X_test[scal])"
   ]
  },
  {
   "cell_type": "code",
   "execution_count": 106,
   "metadata": {},
   "outputs": [],
   "source": [
    "# dropping const from x_train columns\n",
    "col = X_train_ct.columns\n",
    "col =col.drop([\"const\"])"
   ]
  },
  {
   "cell_type": "code",
   "execution_count": 107,
   "metadata": {},
   "outputs": [
    {
     "data": {
      "text/html": [
       "<div>\n",
       "<style scoped>\n",
       "    .dataframe tbody tr th:only-of-type {\n",
       "        vertical-align: middle;\n",
       "    }\n",
       "\n",
       "    .dataframe tbody tr th {\n",
       "        vertical-align: top;\n",
       "    }\n",
       "\n",
       "    .dataframe thead th {\n",
       "        text-align: right;\n",
       "    }\n",
       "</style>\n",
       "<table border=\"1\" class=\"dataframe\">\n",
       "  <thead>\n",
       "    <tr style=\"text-align: right;\">\n",
       "      <th></th>\n",
       "      <th>Do Not Email</th>\n",
       "      <th>TotalVisits</th>\n",
       "      <th>Total Time Spent on Website</th>\n",
       "      <th>Page Views Per Visit</th>\n",
       "      <th>Lead Origin_Landing Page Submission</th>\n",
       "      <th>Lead Origin_Lead Add Form</th>\n",
       "      <th>Last Activity_Email Link Clicked</th>\n",
       "      <th>Last Activity_SMS Sent</th>\n",
       "      <th>Last Activity_Unsubscribed</th>\n",
       "      <th>Specialization_No information</th>\n",
       "      <th>Last Notable Activity_Email Link Clicked</th>\n",
       "      <th>Last Notable Activity_Modified</th>\n",
       "      <th>Last Notable Activity_Olark Chat Conversation</th>\n",
       "      <th>Last Notable Activity_Unreachable</th>\n",
       "      <th>Lead Source_Olark Chat</th>\n",
       "      <th>Lead Source_Welingak Website</th>\n",
       "    </tr>\n",
       "  </thead>\n",
       "  <tbody>\n",
       "    <tr>\n",
       "      <th>4684</th>\n",
       "      <td>0</td>\n",
       "      <td>0.3125</td>\n",
       "      <td>0.119630</td>\n",
       "      <td>0.3125</td>\n",
       "      <td>1</td>\n",
       "      <td>0</td>\n",
       "      <td>0</td>\n",
       "      <td>0</td>\n",
       "      <td>0</td>\n",
       "      <td>0</td>\n",
       "      <td>0</td>\n",
       "      <td>0</td>\n",
       "      <td>0</td>\n",
       "      <td>0</td>\n",
       "      <td>0</td>\n",
       "      <td>0</td>\n",
       "    </tr>\n",
       "    <tr>\n",
       "      <th>3069</th>\n",
       "      <td>0</td>\n",
       "      <td>0.0000</td>\n",
       "      <td>0.000000</td>\n",
       "      <td>0.0000</td>\n",
       "      <td>0</td>\n",
       "      <td>1</td>\n",
       "      <td>0</td>\n",
       "      <td>1</td>\n",
       "      <td>0</td>\n",
       "      <td>0</td>\n",
       "      <td>0</td>\n",
       "      <td>0</td>\n",
       "      <td>0</td>\n",
       "      <td>0</td>\n",
       "      <td>0</td>\n",
       "      <td>0</td>\n",
       "    </tr>\n",
       "    <tr>\n",
       "      <th>7977</th>\n",
       "      <td>0</td>\n",
       "      <td>0.0000</td>\n",
       "      <td>0.000000</td>\n",
       "      <td>0.0000</td>\n",
       "      <td>0</td>\n",
       "      <td>1</td>\n",
       "      <td>0</td>\n",
       "      <td>1</td>\n",
       "      <td>0</td>\n",
       "      <td>1</td>\n",
       "      <td>0</td>\n",
       "      <td>0</td>\n",
       "      <td>0</td>\n",
       "      <td>0</td>\n",
       "      <td>0</td>\n",
       "      <td>1</td>\n",
       "    </tr>\n",
       "    <tr>\n",
       "      <th>101</th>\n",
       "      <td>0</td>\n",
       "      <td>0.0000</td>\n",
       "      <td>0.000000</td>\n",
       "      <td>0.0000</td>\n",
       "      <td>0</td>\n",
       "      <td>0</td>\n",
       "      <td>0</td>\n",
       "      <td>0</td>\n",
       "      <td>0</td>\n",
       "      <td>1</td>\n",
       "      <td>0</td>\n",
       "      <td>1</td>\n",
       "      <td>0</td>\n",
       "      <td>0</td>\n",
       "      <td>1</td>\n",
       "      <td>0</td>\n",
       "    </tr>\n",
       "    <tr>\n",
       "      <th>126</th>\n",
       "      <td>0</td>\n",
       "      <td>0.0625</td>\n",
       "      <td>0.069059</td>\n",
       "      <td>0.0625</td>\n",
       "      <td>1</td>\n",
       "      <td>0</td>\n",
       "      <td>0</td>\n",
       "      <td>0</td>\n",
       "      <td>0</td>\n",
       "      <td>0</td>\n",
       "      <td>0</td>\n",
       "      <td>1</td>\n",
       "      <td>0</td>\n",
       "      <td>0</td>\n",
       "      <td>0</td>\n",
       "      <td>0</td>\n",
       "    </tr>\n",
       "  </tbody>\n",
       "</table>\n",
       "</div>"
      ],
      "text/plain": [
       "      Do Not Email  TotalVisits  Total Time Spent on Website  \\\n",
       "4684             0       0.3125                     0.119630   \n",
       "3069             0       0.0000                     0.000000   \n",
       "7977             0       0.0000                     0.000000   \n",
       "101              0       0.0000                     0.000000   \n",
       "126              0       0.0625                     0.069059   \n",
       "\n",
       "      Page Views Per Visit  Lead Origin_Landing Page Submission  \\\n",
       "4684                0.3125                                    1   \n",
       "3069                0.0000                                    0   \n",
       "7977                0.0000                                    0   \n",
       "101                 0.0000                                    0   \n",
       "126                 0.0625                                    1   \n",
       "\n",
       "      Lead Origin_Lead Add Form  Last Activity_Email Link Clicked  \\\n",
       "4684                          0                                 0   \n",
       "3069                          1                                 0   \n",
       "7977                          1                                 0   \n",
       "101                           0                                 0   \n",
       "126                           0                                 0   \n",
       "\n",
       "      Last Activity_SMS Sent  Last Activity_Unsubscribed  \\\n",
       "4684                       0                           0   \n",
       "3069                       1                           0   \n",
       "7977                       1                           0   \n",
       "101                        0                           0   \n",
       "126                        0                           0   \n",
       "\n",
       "      Specialization_No information  Last Notable Activity_Email Link Clicked  \\\n",
       "4684                              0                                         0   \n",
       "3069                              0                                         0   \n",
       "7977                              1                                         0   \n",
       "101                               1                                         0   \n",
       "126                               0                                         0   \n",
       "\n",
       "      Last Notable Activity_Modified  \\\n",
       "4684                               0   \n",
       "3069                               0   \n",
       "7977                               0   \n",
       "101                                1   \n",
       "126                                1   \n",
       "\n",
       "      Last Notable Activity_Olark Chat Conversation  \\\n",
       "4684                                              0   \n",
       "3069                                              0   \n",
       "7977                                              0   \n",
       "101                                               0   \n",
       "126                                               0   \n",
       "\n",
       "      Last Notable Activity_Unreachable  Lead Source_Olark Chat  \\\n",
       "4684                                  0                       0   \n",
       "3069                                  0                       0   \n",
       "7977                                  0                       0   \n",
       "101                                   0                       1   \n",
       "126                                   0                       0   \n",
       "\n",
       "      Lead Source_Welingak Website  \n",
       "4684                             0  \n",
       "3069                             0  \n",
       "7977                             1  \n",
       "101                              0  \n",
       "126                              0  "
      ]
     },
     "execution_count": 107,
     "metadata": {},
     "output_type": "execute_result"
    }
   ],
   "source": [
    "# col has the same columns that the latest model has\n",
    "X_test = X_test[col]\n",
    "X_test.head()"
   ]
  },
  {
   "cell_type": "code",
   "execution_count": 108,
   "metadata": {},
   "outputs": [],
   "source": [
    "# adding constant\n",
    "X_test_sm = sm.add_constant(X_test)"
   ]
  },
  {
   "cell_type": "code",
   "execution_count": 109,
   "metadata": {},
   "outputs": [],
   "source": [
    "# prediciton\n",
    "y_test_pred = res.predict(X_test_sm)"
   ]
  },
  {
   "cell_type": "code",
   "execution_count": 110,
   "metadata": {},
   "outputs": [
    {
     "data": {
      "text/html": [
       "<div>\n",
       "<style scoped>\n",
       "    .dataframe tbody tr th:only-of-type {\n",
       "        vertical-align: middle;\n",
       "    }\n",
       "\n",
       "    .dataframe tbody tr th {\n",
       "        vertical-align: top;\n",
       "    }\n",
       "\n",
       "    .dataframe thead th {\n",
       "        text-align: right;\n",
       "    }\n",
       "</style>\n",
       "<table border=\"1\" class=\"dataframe\">\n",
       "  <thead>\n",
       "    <tr style=\"text-align: right;\">\n",
       "      <th></th>\n",
       "      <th>0</th>\n",
       "    </tr>\n",
       "  </thead>\n",
       "  <tbody>\n",
       "    <tr>\n",
       "      <th>4684</th>\n",
       "      <td>0.145827</td>\n",
       "    </tr>\n",
       "    <tr>\n",
       "      <th>3069</th>\n",
       "      <td>0.983858</td>\n",
       "    </tr>\n",
       "    <tr>\n",
       "      <th>7977</th>\n",
       "      <td>0.991844</td>\n",
       "    </tr>\n",
       "    <tr>\n",
       "      <th>101</th>\n",
       "      <td>0.083144</td>\n",
       "    </tr>\n",
       "    <tr>\n",
       "      <th>126</th>\n",
       "      <td>0.049575</td>\n",
       "    </tr>\n",
       "  </tbody>\n",
       "</table>\n",
       "</div>"
      ],
      "text/plain": [
       "             0\n",
       "4684  0.145827\n",
       "3069  0.983858\n",
       "7977  0.991844\n",
       "101   0.083144\n",
       "126   0.049575"
      ]
     },
     "execution_count": 110,
     "metadata": {},
     "output_type": "execute_result"
    }
   ],
   "source": [
    "# converting from array to dataframe\n",
    "y_test_pred_ = pd.DataFrame(y_test_pred)\n",
    "y_test_pred_.head()"
   ]
  },
  {
   "cell_type": "code",
   "execution_count": 111,
   "metadata": {},
   "outputs": [],
   "source": [
    "# converting y_test values to dataframe\n",
    "y_test_df = pd.DataFrame(y_test)\n",
    "y_test_df['Id'] = y_test_df.index"
   ]
  },
  {
   "cell_type": "code",
   "execution_count": 112,
   "metadata": {},
   "outputs": [],
   "source": [
    "# Removing index for both dataframes concatenate \n",
    "\n",
    "y_test_pred_.reset_index(drop=True, inplace=True)\n",
    "y_test_df.reset_index(drop=True, inplace=True)\n",
    "\n",
    "# concatenating\n",
    "y_pred_final = pd.concat([y_test_df, y_test_pred_],axis=1)"
   ]
  },
  {
   "cell_type": "code",
   "execution_count": 113,
   "metadata": {},
   "outputs": [
    {
     "data": {
      "text/html": [
       "<div>\n",
       "<style scoped>\n",
       "    .dataframe tbody tr th:only-of-type {\n",
       "        vertical-align: middle;\n",
       "    }\n",
       "\n",
       "    .dataframe tbody tr th {\n",
       "        vertical-align: top;\n",
       "    }\n",
       "\n",
       "    .dataframe thead th {\n",
       "        text-align: right;\n",
       "    }\n",
       "</style>\n",
       "<table border=\"1\" class=\"dataframe\">\n",
       "  <thead>\n",
       "    <tr style=\"text-align: right;\">\n",
       "      <th></th>\n",
       "      <th>Converted</th>\n",
       "      <th>Id</th>\n",
       "      <th>Converted_Prob</th>\n",
       "    </tr>\n",
       "  </thead>\n",
       "  <tbody>\n",
       "    <tr>\n",
       "      <th>0</th>\n",
       "      <td>0</td>\n",
       "      <td>4684</td>\n",
       "      <td>0.145827</td>\n",
       "    </tr>\n",
       "    <tr>\n",
       "      <th>1</th>\n",
       "      <td>1</td>\n",
       "      <td>3069</td>\n",
       "      <td>0.983858</td>\n",
       "    </tr>\n",
       "    <tr>\n",
       "      <th>2</th>\n",
       "      <td>1</td>\n",
       "      <td>7977</td>\n",
       "      <td>0.991844</td>\n",
       "    </tr>\n",
       "    <tr>\n",
       "      <th>3</th>\n",
       "      <td>1</td>\n",
       "      <td>101</td>\n",
       "      <td>0.083144</td>\n",
       "    </tr>\n",
       "    <tr>\n",
       "      <th>4</th>\n",
       "      <td>0</td>\n",
       "      <td>126</td>\n",
       "      <td>0.049575</td>\n",
       "    </tr>\n",
       "  </tbody>\n",
       "</table>\n",
       "</div>"
      ],
      "text/plain": [
       "   Converted    Id  Converted_Prob\n",
       "0          0  4684        0.145827\n",
       "1          1  3069        0.983858\n",
       "2          1  7977        0.991844\n",
       "3          1   101        0.083144\n",
       "4          0   126        0.049575"
      ]
     },
     "execution_count": 113,
     "metadata": {},
     "output_type": "execute_result"
    }
   ],
   "source": [
    "# renaming 0 to Converted_Prob\n",
    "\n",
    "y_pred_final= y_pred_final.rename(columns={ 0 : 'Converted_Prob'})\n",
    "y_pred_final.head()"
   ]
  },
  {
   "cell_type": "code",
   "execution_count": 114,
   "metadata": {},
   "outputs": [],
   "source": [
    "# measuring threshold based on preision, recall curve \n",
    "y_pred_final['final_predicted'] = y_pred_final.Converted_Prob.map(lambda x: 1 if x > 0.41 else 0)"
   ]
  },
  {
   "cell_type": "code",
   "execution_count": 115,
   "metadata": {},
   "outputs": [
    {
     "data": {
      "text/html": [
       "<div>\n",
       "<style scoped>\n",
       "    .dataframe tbody tr th:only-of-type {\n",
       "        vertical-align: middle;\n",
       "    }\n",
       "\n",
       "    .dataframe tbody tr th {\n",
       "        vertical-align: top;\n",
       "    }\n",
       "\n",
       "    .dataframe thead th {\n",
       "        text-align: right;\n",
       "    }\n",
       "</style>\n",
       "<table border=\"1\" class=\"dataframe\">\n",
       "  <thead>\n",
       "    <tr style=\"text-align: right;\">\n",
       "      <th></th>\n",
       "      <th>Converted</th>\n",
       "      <th>Id</th>\n",
       "      <th>Converted_Prob</th>\n",
       "      <th>final_predicted</th>\n",
       "    </tr>\n",
       "  </thead>\n",
       "  <tbody>\n",
       "    <tr>\n",
       "      <th>0</th>\n",
       "      <td>0</td>\n",
       "      <td>4684</td>\n",
       "      <td>0.145827</td>\n",
       "      <td>0</td>\n",
       "    </tr>\n",
       "    <tr>\n",
       "      <th>1</th>\n",
       "      <td>1</td>\n",
       "      <td>3069</td>\n",
       "      <td>0.983858</td>\n",
       "      <td>1</td>\n",
       "    </tr>\n",
       "    <tr>\n",
       "      <th>2</th>\n",
       "      <td>1</td>\n",
       "      <td>7977</td>\n",
       "      <td>0.991844</td>\n",
       "      <td>1</td>\n",
       "    </tr>\n",
       "    <tr>\n",
       "      <th>3</th>\n",
       "      <td>1</td>\n",
       "      <td>101</td>\n",
       "      <td>0.083144</td>\n",
       "      <td>0</td>\n",
       "    </tr>\n",
       "    <tr>\n",
       "      <th>4</th>\n",
       "      <td>0</td>\n",
       "      <td>126</td>\n",
       "      <td>0.049575</td>\n",
       "      <td>0</td>\n",
       "    </tr>\n",
       "  </tbody>\n",
       "</table>\n",
       "</div>"
      ],
      "text/plain": [
       "   Converted    Id  Converted_Prob  final_predicted\n",
       "0          0  4684        0.145827                0\n",
       "1          1  3069        0.983858                1\n",
       "2          1  7977        0.991844                1\n",
       "3          1   101        0.083144                0\n",
       "4          0   126        0.049575                0"
      ]
     },
     "execution_count": 115,
     "metadata": {},
     "output_type": "execute_result"
    }
   ],
   "source": [
    "y_pred_final.head()"
   ]
  },
  {
   "cell_type": "code",
   "execution_count": 116,
   "metadata": {},
   "outputs": [
    {
     "data": {
      "text/plain": [
       "0.801841620626151"
      ]
     },
     "execution_count": 116,
     "metadata": {},
     "output_type": "execute_result"
    }
   ],
   "source": [
    "metrics.accuracy_score(y_pred_final.Converted, y_pred_final.final_predicted)"
   ]
  },
  {
   "cell_type": "code",
   "execution_count": 117,
   "metadata": {},
   "outputs": [
    {
     "data": {
      "text/plain": [
       "array([[1370,  277],\n",
       "       [ 261,  807]], dtype=int64)"
      ]
     },
     "execution_count": 117,
     "metadata": {},
     "output_type": "execute_result"
    }
   ],
   "source": [
    "# confusion matrix helps for further evaluaiton\n",
    "confusion1 = metrics.confusion_matrix(y_pred_final.Converted, y_pred_final.final_predicted )\n",
    "confusion1"
   ]
  },
  {
   "cell_type": "code",
   "execution_count": 118,
   "metadata": {},
   "outputs": [],
   "source": [
    "# true positive\n",
    "TP = confusion1[1,1]\n",
    "# true negatives\n",
    "TN = confusion1[0,0]\n",
    "#  false positives\n",
    "FP = confusion1[0,1] \n",
    "# false negatives\n",
    "FN = confusion1[1,0]"
   ]
  },
  {
   "cell_type": "code",
   "execution_count": 119,
   "metadata": {},
   "outputs": [
    {
     "data": {
      "text/plain": [
       "0.7556179775280899"
      ]
     },
     "execution_count": 119,
     "metadata": {},
     "output_type": "execute_result"
    }
   ],
   "source": [
    "# sensitivity calculation\n",
    "TP/(TP+FN)"
   ]
  },
  {
   "cell_type": "code",
   "execution_count": 120,
   "metadata": {},
   "outputs": [
    {
     "data": {
      "text/plain": [
       "0.8318154219793564"
      ]
     },
     "execution_count": 120,
     "metadata": {},
     "output_type": "execute_result"
    }
   ],
   "source": [
    "# specificity calculation\n",
    "TN/(TN+FP)"
   ]
  },
  {
   "cell_type": "markdown",
   "metadata": {},
   "source": [
    "##### Precision recall curve for test set"
   ]
  },
  {
   "cell_type": "code",
   "execution_count": 121,
   "metadata": {},
   "outputs": [
    {
     "data": {
      "image/png": "[encoded data removed]",
      "text/plain": [
       "<Figure size 432x288 with 1 Axes>"
      ]
     },
     "metadata": {
      "needs_background": "light"
     },
     "output_type": "display_data"
    }
   ],
   "source": [
    "# test set \n",
    "p, r, thresholds = precision_recall_curve(y_pred_final.Converted, y_pred_final.Converted_Prob)\n",
    "\n",
    "plt.plot(thresholds, p[:-1], \"g-\")\n",
    "plt.plot(thresholds, r[:-1], \"r-\")\n",
    "plt.show()"
   ]
  },
  {
   "cell_type": "code",
   "execution_count": 122,
   "metadata": {},
   "outputs": [
    {
     "name": "stdout",
     "output_type": "stream",
     "text": [
      "precision : \n"
     ]
    },
    {
     "data": {
      "text/plain": [
       "0.7444649446494465"
      ]
     },
     "execution_count": 122,
     "metadata": {},
     "output_type": "execute_result"
    }
   ],
   "source": [
    "# precision score\n",
    "print(\"precision : \")\n",
    "precision_score(y_pred_final.Converted, y_pred_final.final_predicted)\n"
   ]
  },
  {
   "cell_type": "code",
   "execution_count": 123,
   "metadata": {},
   "outputs": [
    {
     "name": "stdout",
     "output_type": "stream",
     "text": [
      "recall : \n"
     ]
    },
    {
     "data": {
      "text/plain": [
       "0.7556179775280899"
      ]
     },
     "execution_count": 123,
     "metadata": {},
     "output_type": "execute_result"
    }
   ],
   "source": [
    "# recall score\n",
    "print(\"recall : \" )\n",
    "recall_score(y_pred_final.Converted, y_pred_final.final_predicted)"
   ]
  },
  {
   "cell_type": "markdown",
   "metadata": {},
   "source": [
    "### Conclusion:"
   ]
  },
  {
   "cell_type": "markdown",
   "metadata": {},
   "source": [
    "about EDA:\n",
    " - people spending higher than average time are promising leads\n",
    " - Sms messages can have a high impact on lead conversion\n",
    " - landing page submissions can help find out more leads\n",
    " - marketing management, human resources management has high conversion rates. people from these speciaizations can be promising leads\n",
    " - references and offers for refering a lead can be good source for higher conversions\n",
    " - a last alert messages can help good converions\n",
    " \n",
    " \n",
    "about logistic regression model:\n",
    " - The model shows high close to 81% accuracy\n",
    " - the cut has been selected from Accuracy, Semsitivity, specificity measures and precision, recall curves.\n",
    " - the model shows 77% sensitivity and 83% specificity\n",
    " - the model finds correct promising leads and leads that have less chances of getting converted\n",
    " - overall this model proves to be accurate "
   ]
  },
  {
   "cell_type": "code",
   "execution_count": null,
   "metadata": {},
   "outputs": [],
   "source": []
  }
 ],
 "metadata": {
  "kernelspec": {
   "display_name": "Python 3",
   "language": "python",
   "name": "python3"
  },
  "language_info": {
   "codemirror_mode": {
    "name": "ipython",
    "version": 3
   },
   "file_extension": ".py",
   "mimetype": "text/x-python",
   "name": "python",
   "nbconvert_exporter": "python",
   "pygments_lexer": "ipython3",
   "version": "3.8.3"
  }
 },
 "nbformat": 4,
 "nbformat_minor": 4
}
